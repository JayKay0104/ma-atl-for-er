{
 "cells": [
  {
   "cell_type": "code",
   "execution_count": 1,
   "metadata": {},
   "outputs": [],
   "source": [
    "import pandas as pd\n",
    "import numpy as np\n",
    "import py_stringmatching as sm\n",
    "import py_stringsimjoin as ssj\n",
    "from pandas_profiling import ProfileReport\n",
    "import re\n",
    "import nltk\n",
    "from datetime import datetime\n",
    "from nltk.corpus import stopwords \n",
    "from nltk.tokenize import word_tokenize\n",
    "pd.set_option('display.max_columns', 1000)\n",
    "pd.set_option('display.width', 1000)\n",
    "pd.set_option('display.max_rows', 1000)"
   ]
  },
  {
   "cell_type": "code",
   "execution_count": 4,
   "metadata": {},
   "outputs": [],
   "source": [
    "ban = pd.read_csv('../../datasets/books/ban.csv',dtype='str',sep=';')"
   ]
  },
  {
   "cell_type": "code",
   "execution_count": 5,
   "metadata": {},
   "outputs": [],
   "source": [
    "bx = pd.read_csv('../../datasets/books/bx.csv',dtype='str',sep=';')"
   ]
  },
  {
   "cell_type": "code",
   "execution_count": 6,
   "metadata": {},
   "outputs": [
    {
     "name": "stdout",
     "output_type": "stream",
     "text": [
      "<class 'pandas.core.frame.DataFrame'>\n",
      "RangeIndex: 17629 entries, 0 to 17628\n",
      "Data columns (total 12 columns):\n",
      " #   Column                          Non-Null Count  Dtype \n",
      "---  ------                          --------------  ----- \n",
      " 0   ban_id                          17629 non-null  object\n",
      " 1   ban_isbn                        17629 non-null  object\n",
      " 2   ban_title                       17628 non-null  object\n",
      " 3   ban_author                      16277 non-null  object\n",
      " 4   ban_binding                     2961 non-null   object\n",
      " 5   ban_pubdate                     8822 non-null   object\n",
      " 6   ban_pages                       17629 non-null  object\n",
      " 7   ban_publisher                   17589 non-null  object\n",
      " 8   ban_title_no_par                17628 non-null  object\n",
      " 9   ban_title_no_par_no_stop_words  17615 non-null  object\n",
      " 10  ban_firstauthor                 16277 non-null  object\n",
      " 11  ban_firsttwoauthors             16277 non-null  object\n",
      "dtypes: object(12)\n",
      "memory usage: 1.6+ MB\n"
     ]
    }
   ],
   "source": [
    "ban.info()"
   ]
  },
  {
   "cell_type": "code",
   "execution_count": 7,
   "metadata": {},
   "outputs": [
    {
     "name": "stdout",
     "output_type": "stream",
     "text": [
      "<class 'pandas.core.frame.DataFrame'>\n",
      "RangeIndex: 270948 entries, 0 to 270947\n",
      "Data columns (total 10 columns):\n",
      " #   Column                         Non-Null Count   Dtype \n",
      "---  ------                         --------------   ----- \n",
      " 0   bx_id                          270948 non-null  object\n",
      " 1   bx_isbn                        270948 non-null  object\n",
      " 2   bx_title                       270948 non-null  object\n",
      " 3   bx_firstauthor                 270947 non-null  object\n",
      " 4   bx_pubdate                     270948 non-null  object\n",
      " 5   bx_pages                       270948 non-null  object\n",
      " 6   bx_publisher                   270946 non-null  object\n",
      " 7   bx_binding                     4171 non-null    object\n",
      " 8   bx_title_no_par                270946 non-null  object\n",
      " 9   bx_title_no_par_no_stop_words  270658 non-null  object\n",
      "dtypes: object(10)\n",
      "memory usage: 20.7+ MB\n"
     ]
    }
   ],
   "source": [
    "bx.info()"
   ]
  },
  {
   "cell_type": "code",
   "execution_count": 8,
   "metadata": {},
   "outputs": [],
   "source": [
    "ban.fillna('',inplace=True)\n",
    "bx.fillna('',inplace=True)"
   ]
  },
  {
   "cell_type": "code",
   "execution_count": 9,
   "metadata": {},
   "outputs": [
    {
     "name": "stdout",
     "output_type": "stream",
     "text": [
      "True matches across ban and bx: 699\n"
     ]
    }
   ],
   "source": [
    "matches_ban_bx = pd.merge(ban,bx,left_on='ban_isbn',right_on='bx_isbn')\n",
    "print('True matches across ban and bx: {}'.format(matches_ban_bx.shape[0]))"
   ]
  },
  {
   "cell_type": "code",
   "execution_count": 10,
   "metadata": {},
   "outputs": [
    {
     "data": {
      "text/plain": [
       "Index(['ban_id', 'ban_isbn', 'ban_title', 'ban_author', 'ban_binding', 'ban_pubdate', 'ban_pages', 'ban_publisher', 'ban_title_no_par', 'ban_title_no_par_no_stop_words', 'ban_firstauthor', 'ban_firsttwoauthors'], dtype='object')"
      ]
     },
     "execution_count": 10,
     "metadata": {},
     "output_type": "execute_result"
    }
   ],
   "source": [
    "ban.columns"
   ]
  },
  {
   "cell_type": "code",
   "execution_count": 11,
   "metadata": {},
   "outputs": [
    {
     "data": {
      "text/plain": [
       "Index(['bx_id', 'bx_isbn', 'bx_title', 'bx_firstauthor', 'bx_pubdate', 'bx_pages', 'bx_publisher', 'bx_binding', 'bx_title_no_par', 'bx_title_no_par_no_stop_words'], dtype='object')"
      ]
     },
     "execution_count": 11,
     "metadata": {},
     "output_type": "execute_result"
    }
   ],
   "source": [
    "bx.columns"
   ]
  },
  {
   "cell_type": "markdown",
   "metadata": {},
   "source": [
    "### Join on author on Jaccard score of at least 0.3 with 3-gram tokenization"
   ]
  },
  {
   "cell_type": "code",
   "execution_count": 10,
   "metadata": {},
   "outputs": [],
   "source": [
    "q3 = sm.QgramTokenizer(qval=3,return_set=True)"
   ]
  },
  {
   "cell_type": "code",
   "execution_count": 13,
   "metadata": {},
   "outputs": [],
   "source": [
    "ban_bx_pairs_a_q3_jac_03 = ssj.jaccard_join(ban, bx, 'ban_id', 'bx_id', 'ban_author_lower', 'bx_author_lower', q3, 0.3, \n",
    "                                     l_out_attrs=['ban_title','ban_title_lower','ban_title_no_par','ban_author','ban_author_lower','ban_firstauthor','ban_firsttwoauthors','ban_binding','ban_pubdate', 'ban_pages','ban_publisher','ban_isbn'], \n",
    "                                     r_out_attrs=['bx_isbn','bx_title','bx_title_lower','bx_title_no_par','bx_author','bx_author_lower','bx_binding','bx_pubdate','bx_pages','bx_publisher'],\n",
    "                                     n_jobs=-3)"
   ]
  },
  {
   "cell_type": "markdown",
   "metadata": {},
   "source": [
    "### Join on first author based (ban) and author (bx) on Jaccard score of at least 0.3 with 3-gram tokenization"
   ]
  },
  {
   "cell_type": "code",
   "execution_count": 12,
   "metadata": {},
   "outputs": [],
   "source": [
    "ban_bx_pairs_fa_q3_jac_03 = ssj.jaccard_join(ban, bx, 'ban_id', 'bx_id', 'ban_firstauthor', 'bx_author_lower', q3, 0.3, \n",
    "                                     l_out_attrs=['ban_title','ban_title_lower','ban_title_no_par','ban_author','ban_author_lower','ban_firstauthor','ban_firsttwoauthors','ban_binding','ban_pubdate', 'ban_pages','ban_publisher','ban_isbn'], \n",
    "                                     r_out_attrs=['bx_isbn','bx_title','bx_title_lower','bx_title_no_par','bx_author','bx_author_lower','bx_binding','bx_pubdate','bx_pages','bx_publisher'],\n",
    "                                     n_jobs=-3)"
   ]
  },
  {
   "cell_type": "markdown",
   "metadata": {},
   "source": [
    "### Join on title (with parentheses) based on Jaccard score of at least 0.3 with 3-gram tokenization"
   ]
  },
  {
   "cell_type": "code",
   "execution_count": 14,
   "metadata": {},
   "outputs": [],
   "source": [
    "ban_bx_pairs_tit_q3_jac_03 = ssj.jaccard_join(ban, bx, 'ban_id', 'bx_id', 'ban_title', 'bx_title', q3, 0.3, \n",
    "                                     l_out_attrs=['ban_title','ban_title_lower','ban_title_no_par','ban_author','ban_author_lower','ban_firstauthor','ban_firsttwoauthors','ban_binding','ban_pubdate', 'ban_pages','ban_publisher','ban_isbn'], \n",
    "                                     r_out_attrs=['bx_isbn','bx_title','bx_title_lower','bx_title_no_par','bx_author','bx_author_lower','bx_binding','bx_pubdate','bx_pages','bx_publisher'],\n",
    "                                     n_jobs=-3)"
   ]
  },
  {
   "cell_type": "markdown",
   "metadata": {},
   "source": [
    "### Join on title (without parentheses) based on Jaccard score of at least 0.3 with 3-gram tokenization"
   ]
  },
  {
   "cell_type": "code",
   "execution_count": 15,
   "metadata": {},
   "outputs": [],
   "source": [
    "ban_bx_pairs_titnp_q3_jac_03 = ssj.jaccard_join(ban, bx, 'ban_id', 'bx_id', 'ban_title_no_par', 'bx_title_no_par', q3, 0.3, \n",
    "                                     l_out_attrs=['ban_title','ban_title_lower','ban_title_no_par','ban_author','ban_author_lower','ban_firstauthor','ban_firsttwoauthors','ban_binding','ban_pubdate', 'ban_pages','ban_publisher','ban_isbn'], \n",
    "                                     r_out_attrs=['bx_isbn','bx_title','bx_title_lower','bx_title_no_par','bx_author','bx_author_lower','bx_binding','bx_pubdate','bx_pages','bx_publisher'],\n",
    "                                     n_jobs=-3)"
   ]
  },
  {
   "cell_type": "markdown",
   "metadata": {},
   "source": [
    "### Join on title (w/out parentheses) and stop words removed based on Jaccard score of at least 0.3 with 3-gram tokenization"
   ]
  },
  {
   "cell_type": "code",
   "execution_count": 17,
   "metadata": {},
   "outputs": [],
   "source": [
    "ban_bx_pairs_titnp_nosw_q3_jac_03 = ssj.jaccard_join(ban, bx, 'ban_id', 'bx_id', 'ban_title_no_par_no_stop_words', 'bx_title_no_par_no_stop_words', q3, 0.3, \n",
    "                                     l_out_attrs=['ban_title','ban_title_lower','ban_title_no_par','ban_title_no_par_no_stop_words','ban_author','ban_author_lower','ban_firstauthor', 'ban_firsttwoauthors','ban_binding','ban_pubdate', 'ban_pages','ban_publisher','ban_isbn'], \n",
    "                                     r_out_attrs=['bx_isbn','bx_title','bx_title_lower','bx_title_no_par','bx_title_no_par_no_stop_words','bx_author', 'bx_author_lower','bx_binding','bx_pubdate','bx_pages','bx_publisher'],\n",
    "                                     n_jobs=-3)"
   ]
  },
  {
   "cell_type": "markdown",
   "metadata": {},
   "source": [
    "### Evaluate Blocking"
   ]
  },
  {
   "cell_type": "code",
   "execution_count": 18,
   "metadata": {},
   "outputs": [
    {
     "name": "stdout",
     "output_type": "stream",
     "text": [
      "True matches across Ban and bxdery: 699\n"
     ]
    }
   ],
   "source": [
    "print('True matches across Ban and bxdery: {}'.format(matches_ban_bx.shape[0]))"
   ]
  },
  {
   "cell_type": "code",
   "execution_count": 19,
   "metadata": {},
   "outputs": [],
   "source": [
    "def assignTrueLabels(df_blockedpairs, idcolumn1, idcolumn2):\n",
    "    return df_blockedpairs.apply(lambda row: 1 if (row[idcolumn1]==row[idcolumn2]) else 0, axis=1)"
   ]
  },
  {
   "cell_type": "code",
   "execution_count": 20,
   "metadata": {},
   "outputs": [],
   "source": [
    "def calcRedRatio(df1,df2,df_blockedpairs):\n",
    "    cp = (df1.shape[0]*df2.shape[0])/2\n",
    "    rr = (1-(df_blockedpairs.shape[0]/cp))*100\n",
    "    return round(rr,2)"
   ]
  },
  {
   "cell_type": "code",
   "execution_count": 21,
   "metadata": {},
   "outputs": [],
   "source": [
    "def calcPairCompISBN(df_matches,df_blockedpairs,true_label_col):\n",
    "    pc = (df_blockedpairs[df_blockedpairs[true_label_col]==1].shape[0]/df_matches.shape[0])*100\n",
    "    return round(pc,2)"
   ]
  },
  {
   "cell_type": "code",
   "execution_count": 22,
   "metadata": {},
   "outputs": [],
   "source": [
    "#Assign labels to the blockedpairs df\n",
    "ban_bx_pairs_a_q3_jac_03['true_label'] = assignTrueLabels(ban_bx_pairs_a_q3_jac_03,'l_ban_isbn','r_bx_isbn')\n",
    "ban_bx_pairs_fa_q3_jac_03['true_label'] = assignTrueLabels(ban_bx_pairs_fa_q3_jac_03,'l_ban_isbn','r_bx_isbn')\n",
    "ban_bx_pairs_tit_q3_jac_03['true_label'] = assignTrueLabels(ban_bx_pairs_tit_q3_jac_03,'l_ban_isbn','r_bx_isbn')\n",
    "ban_bx_pairs_titnp_q3_jac_03['true_label'] = assignTrueLabels(ban_bx_pairs_titnp_q3_jac_03,'l_ban_isbn','r_bx_isbn')\n",
    "ban_bx_pairs_titnp_nosw_q3_jac_03['true_label'] = assignTrueLabels(ban_bx_pairs_titnp_nosw_q3_jac_03,'l_ban_isbn','r_bx_isbn')"
   ]
  },
  {
   "cell_type": "code",
   "execution_count": 24,
   "metadata": {},
   "outputs": [
    {
     "name": "stdout",
     "output_type": "stream",
     "text": [
      "Blocking based on author, Jaccard, 3-gram, Threshold 0.3\n",
      "Evaluation of ban_bx_pairs_a_q3_jac_03\n",
      "Number of rows: 3,475,565\n",
      "Reduction Ratio: 99.85%\n",
      "Pair Completeness: 92.27%\n",
      "Blocking based on first author, Jaccard, 3-gram, Threshold 0.3\n",
      "Evaluation of ban_bx_pairs_fa_q3_jac_03\n",
      "Number of rows: 3,615,536\n",
      "Reduction Ratio: 99.85%\n",
      "Pair Completeness: 92.27%\n",
      "\n",
      "\n",
      "Blocking based on title\n",
      "Evaluation of ban_bx_pairs_tit_q3_jac_03 (Title, Jaccard, 3-gram, Threshold 0.3)\n",
      "Number of rows: 204,456\n",
      "Reduction Ratio: 99.99%\n",
      "Pair Completeness: 91.85%\n",
      "\n",
      "\n",
      "Evaluation of ban_bx_pairs_titnp_q3_jac_03 (Title excluded text in parenthesis, Jaccard, 3-gram, Threshold 0.3)\n",
      "Number of rows: 45,545\n",
      "Reduction Ratio: 100.0%\n",
      "Pair Completeness: 67.53%\n",
      "\n",
      "\n",
      "Evaluation of ban_bx_pairs_titnp_nosw_q3_jac_03 (Title excluded text in parenthesis and stop words removed, Jaccard, 3-gram, Threshold 0.3)\n",
      "Number of rows: 391,304\n",
      "Reduction Ratio: 99.98%\n",
      "Pair Completeness: 89.41%\n"
     ]
    }
   ],
   "source": [
    "print('Blocking based on author, Jaccard, 3-gram, Threshold 0.3')\n",
    "print('Evaluation of ban_bx_pairs_a_q3_jac_03')\n",
    "print('Number of rows: {:,}'.format(ban_bx_pairs_a_q3_jac_03.shape[0]))\n",
    "print('Reduction Ratio: {}%'.format(calcRedRatio(ban,bx,ban_bx_pairs_a_q3_jac_03)))\n",
    "print('Pair Completeness: {}%'.format(calcPairCompISBN(matches_ban_bx,ban_bx_pairs_a_q3_jac_03,'true_label')))\n",
    "print()\n",
    "print('Blocking based on first author, Jaccard, 3-gram, Threshold 0.3')\n",
    "print('Evaluation of ban_bx_pairs_fa_q3_jac_03')\n",
    "print('Number of rows: {:,}'.format(ban_bx_pairs_fa_q3_jac_03.shape[0]))\n",
    "print('Reduction Ratio: {}%'.format(calcRedRatio(ban,bx,ban_bx_pairs_fa_q3_jac_03)))\n",
    "print('Pair Completeness: {}%'.format(calcPairCompISBN(matches_ban_bx,ban_bx_pairs_fa_q3_jac_03,'true_label')))\n",
    "\n",
    "print('\\n')\n",
    "print('Blocking based on title')\n",
    "\n",
    "print('Evaluation of ban_bx_pairs_tit_q3_jac_03 (Title, Jaccard, 3-gram, Threshold 0.3)')\n",
    "print('Number of rows: {:,}'.format(ban_bx_pairs_tit_q3_jac_03.shape[0]))\n",
    "print('Reduction Ratio: {}%'.format(calcRedRatio(ban,bx,ban_bx_pairs_tit_q3_jac_03)))\n",
    "print('Pair Completeness: {}%'.format(calcPairCompISBN(matches_ban_bx,ban_bx_pairs_tit_q3_jac_03,'true_label')))\n",
    "print()\n",
    "print('Evaluation of ban_bx_pairs_titnp_q3_jac_03 (Title excluded text in parenthesis, Jaccard, 3-gram, Threshold 0.3)')\n",
    "print('Number of rows: {:,}'.format(ban_bx_pairs_titnp_q3_jac_03.shape[0]))\n",
    "print('Reduction Ratio: {}%'.format(calcRedRatio(ban,bx,ban_bx_pairs_titnp_q3_jac_03)))\n",
    "print('Pair Completeness: {}%'.format(calcPairCompISBN(matches_ban_bx,ban_bx_pairs_titnp_q3_jac_03,'true_label')))\n",
    "print()\n",
    "print('Evaluation of ban_bx_pairs_titnp_nosw_q3_jac_03 (Title excluded text in parenthesis and stop words removed, Jaccard, 3-gram, Threshold 0.3)')\n",
    "print('Number of rows: {:,}'.format(ban_bx_pairs_titnp_nosw_q3_jac_03.shape[0]))\n",
    "print('Reduction Ratio: {}%'.format(calcRedRatio(ban,bx,ban_bx_pairs_titnp_nosw_q3_jac_03)))\n",
    "print('Pair Completeness: {}%'.format(calcPairCompISBN(matches_ban_bx,ban_bx_pairs_titnp_nosw_q3_jac_03,'true_label')))"
   ]
  },
  {
   "cell_type": "code",
   "execution_count": 26,
   "metadata": {},
   "outputs": [],
   "source": [
    "ban_bx_pairs_tit_q3_jac_03.to_csv('filtered_correspondences/ban_bx_pairs_tit_q3_jac_03.csv',index=False)"
   ]
  },
  {
   "cell_type": "code",
   "execution_count": 101,
   "metadata": {},
   "outputs": [],
   "source": [
    "matches_ban_bx.to_csv('matching_pairs/matches_ban_bx.csv',index=False)"
   ]
  },
  {
   "cell_type": "markdown",
   "metadata": {},
   "source": [
    "-- Blocking based on Levenshtein performs significantly worse than Blocking on Jaccard distance with 3-gram tokens and blocking on title also performs worse compared to authors. Blocking on the firsttwoauthors performs best. Same results as with ban and wordery"
   ]
  }
 ],
 "metadata": {
  "kernelspec": {
   "display_name": "Python [conda env:mag]",
   "language": "python",
   "name": "conda-env-mag-py"
  },
  "language_info": {
   "codemirror_mode": {
    "name": "ipython",
    "version": 3
   },
   "file_extension": ".py",
   "mimetype": "text/x-python",
   "name": "python",
   "nbconvert_exporter": "python",
   "pygments_lexer": "ipython3",
   "version": "3.6.10"
  },
  "varInspector": {
   "cols": {
    "lenName": 16,
    "lenType": 16,
    "lenVar": 40
   },
   "kernels_config": {
    "python": {
     "delete_cmd_postfix": "",
     "delete_cmd_prefix": "del ",
     "library": "var_list.py",
     "varRefreshCmd": "print(var_dic_list())"
    },
    "r": {
     "delete_cmd_postfix": ") ",
     "delete_cmd_prefix": "rm(",
     "library": "var_list.r",
     "varRefreshCmd": "cat(var_dic_list()) "
    }
   },
   "types_to_exclude": [
    "module",
    "function",
    "builtin_function_or_method",
    "instance",
    "_Feature"
   ],
   "window_display": false
  }
 },
 "nbformat": 4,
 "nbformat_minor": 2
}
