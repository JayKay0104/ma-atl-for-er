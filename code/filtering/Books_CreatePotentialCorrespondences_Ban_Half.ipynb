{
 "cells": [
  {
   "cell_type": "code",
   "execution_count": 1,
   "metadata": {},
   "outputs": [],
   "source": [
    "import pandas as pd\n",
    "import numpy as np\n",
    "import py_stringmatching as sm\n",
    "import py_stringsimjoin as ssj\n",
    "from pandas_profiling import ProfileReport\n",
    "import re\n",
    "import nltk\n",
    "from datetime import datetime\n",
    "from nltk.corpus import stopwords \n",
    "from nltk.tokenize import word_tokenize\n",
    "pd.set_option('display.max_columns', 1000)\n",
    "pd.set_option('display.width', 1000)\n",
    "pd.set_option('display.max_rows', 1000)"
   ]
  },
  {
   "cell_type": "code",
   "execution_count": 2,
   "metadata": {},
   "outputs": [],
   "source": [
    "ban = pd.read_csv('../../datasets/books/ban.csv',dtype='str',sep=';')"
   ]
  },
  {
   "cell_type": "code",
   "execution_count": 3,
   "metadata": {},
   "outputs": [],
   "source": [
    "half = pd.read_csv('../../datasets/books/half.csv',dtype='str',sep=';')"
   ]
  },
  {
   "cell_type": "code",
   "execution_count": 4,
   "metadata": {},
   "outputs": [
    {
     "name": "stdout",
     "output_type": "stream",
     "text": [
      "<class 'pandas.core.frame.DataFrame'>\n",
      "RangeIndex: 17629 entries, 0 to 17628\n",
      "Data columns (total 12 columns):\n",
      " #   Column                          Non-Null Count  Dtype \n",
      "---  ------                          --------------  ----- \n",
      " 0   ban_id                          17629 non-null  object\n",
      " 1   ban_isbn                        17629 non-null  object\n",
      " 2   ban_title                       17628 non-null  object\n",
      " 3   ban_author                      16277 non-null  object\n",
      " 4   ban_binding                     2961 non-null   object\n",
      " 5   ban_pubdate                     8822 non-null   object\n",
      " 6   ban_pages                       17629 non-null  object\n",
      " 7   ban_publisher                   17589 non-null  object\n",
      " 8   ban_title_no_par                17628 non-null  object\n",
      " 9   ban_title_no_par_no_stop_words  17615 non-null  object\n",
      " 10  ban_firstauthor                 16277 non-null  object\n",
      " 11  ban_firsttwoauthors             16277 non-null  object\n",
      "dtypes: object(12)\n",
      "memory usage: 1.6+ MB\n"
     ]
    }
   ],
   "source": [
    "ban.info()"
   ]
  },
  {
   "cell_type": "code",
   "execution_count": 5,
   "metadata": {},
   "outputs": [
    {
     "name": "stdout",
     "output_type": "stream",
     "text": [
      "<class 'pandas.core.frame.DataFrame'>\n",
      "RangeIndex: 3099 entries, 0 to 3098\n",
      "Data columns (total 10 columns):\n",
      " #   Column                           Non-Null Count  Dtype \n",
      "---  ------                           --------------  ----- \n",
      " 0   half_id                          3099 non-null   object\n",
      " 1   half_isbn                        3099 non-null   object\n",
      " 2   half_title                       3099 non-null   object\n",
      " 3   half_firstauthor                 3094 non-null   object\n",
      " 4   half_binding                     460 non-null    object\n",
      " 5   half_pubdate                     3028 non-null   object\n",
      " 6   half_pages                       3099 non-null   object\n",
      " 7   half_publisher                   3099 non-null   object\n",
      " 8   half_title_no_par                3099 non-null   object\n",
      " 9   half_title_no_par_no_stop_words  3094 non-null   object\n",
      "dtypes: object(10)\n",
      "memory usage: 242.2+ KB\n"
     ]
    }
   ],
   "source": [
    "half.info()"
   ]
  },
  {
   "cell_type": "code",
   "execution_count": 6,
   "metadata": {},
   "outputs": [],
   "source": [
    "ban.fillna('',inplace=True)\n",
    "half.fillna('',inplace=True)"
   ]
  },
  {
   "cell_type": "markdown",
   "metadata": {},
   "source": [
    "**-- Half only contains first authors**"
   ]
  },
  {
   "cell_type": "markdown",
   "metadata": {},
   "source": [
    "### Join on author (ban_author, half_author) and (ban_firstauthor, half_author) based on Jaccard score of at least 0.3 with 3-gram tokenization"
   ]
  },
  {
   "cell_type": "code",
   "execution_count": 9,
   "metadata": {},
   "outputs": [],
   "source": [
    "q3 = sm.QgramTokenizer(qval=3,return_set=True)"
   ]
  },
  {
   "cell_type": "code",
   "execution_count": 10,
   "metadata": {},
   "outputs": [
    {
     "name": "stderr",
     "output_type": "stream",
     "text": [
      "/home/debian/anaconda3/envs/mag/lib/python3.6/site-packages/py_stringsimjoin/utils/validation.py:30: FutureWarning: The pandas.np module is deprecated and will be removed from pandas in a future version. Import numpy directly instead\n",
      "  if attr_type != pd.np.object:\n"
     ]
    }
   ],
   "source": [
    "ban_half_pairs_a_q3_jac_03 = ssj.jaccard_join(ban, half, 'ban_id', 'half_id', 'ban_author_lower', 'half_author_lower', q3, 0.3, \n",
    "                                     l_out_attrs=['ban_title','ban_title_lower','ban_title_no_par','ban_title_no_par_no_stop_words','ban_author','ban_author_lower', 'ban_firstauthor', 'ban_firsttwoauthors','ban_binding','ban_pubdate', 'ban_pages','ban_publisher','ban_isbn'], \n",
    "                                     r_out_attrs=['half_isbn','half_title','half_title_lower','half_title_no_par','half_title_no_par_no_stop_words','half_author','half_author_lower','half_binding','half_pubdate','half_pages','half_publisher'],\n",
    "                                     n_jobs=-3)"
   ]
  },
  {
   "cell_type": "code",
   "execution_count": 11,
   "metadata": {},
   "outputs": [],
   "source": [
    "ban_half_pairs_fa_q3_jac_03 = ssj.jaccard_join(ban, half, 'ban_id', 'half_id', 'ban_firstauthor', 'half_author_lower', q3, 0.3, \n",
    "                                     l_out_attrs=['ban_title','ban_title_lower','ban_title_no_par','ban_title_no_par_no_stop_words','ban_author','ban_author_lower', 'ban_firstauthor', 'ban_firsttwoauthors','ban_binding','ban_pubdate', 'ban_pages','ban_publisher','ban_isbn'], \n",
    "                                     r_out_attrs=['half_isbn','half_title','half_title_lower','half_title_no_par','half_title_no_par_no_stop_words','half_author','half_author_lower','half_binding','half_pubdate','half_pages','half_publisher'],\n",
    "                                     n_jobs=-3)"
   ]
  },
  {
   "cell_type": "markdown",
   "metadata": {},
   "source": [
    "### Join on title (with parentheses) based on Jaccard score of at least 0.3 with 3-gram tokenization"
   ]
  },
  {
   "cell_type": "code",
   "execution_count": 13,
   "metadata": {},
   "outputs": [],
   "source": [
    "ban_half_pairs_tit_q3_jac_03 = ssj.jaccard_join(ban, half, 'ban_id', 'half_id', 'ban_title_lower', 'half_title_lower', q3, 0.3, \n",
    "                                     l_out_attrs=['ban_title','ban_title_lower','ban_title_no_par','ban_title_no_par_no_stop_words','ban_author','ban_author_lower', 'ban_firstauthor', 'ban_firsttwoauthors','ban_binding','ban_pubdate', 'ban_pages','ban_publisher','ban_isbn'], \n",
    "                                     r_out_attrs=['half_isbn','half_title','half_title_lower','half_title_no_par','half_title_no_par_no_stop_words','half_author','half_author_lower','half_binding','half_pubdate','half_pages','half_publisher'],\n",
    "                                     n_jobs=-3)"
   ]
  },
  {
   "cell_type": "markdown",
   "metadata": {},
   "source": [
    "### Join on title (without parentheses) based on Jaccard score of at least 0.3 with 3-gram tokenization"
   ]
  },
  {
   "cell_type": "code",
   "execution_count": 14,
   "metadata": {},
   "outputs": [],
   "source": [
    "ban_half_pairs_titnp_q3_jac_03 = ssj.jaccard_join(ban, half, 'ban_id', 'half_id', 'ban_title_no_par', 'half_title_no_par', q3, 0.3, \n",
    "                                     l_out_attrs=['ban_title','ban_title_lower','ban_title_no_par','ban_title_no_par_no_stop_words','ban_author','ban_author_lower', 'ban_firstauthor', 'ban_firsttwoauthors','ban_binding','ban_pubdate', 'ban_pages','ban_publisher','ban_isbn'], \n",
    "                                     r_out_attrs=['half_isbn','half_title','half_title_lower','half_title_no_par','half_title_no_par_no_stop_words','half_author','half_author_lower','half_binding','half_pubdate','half_pages','half_publisher'],\n",
    "                                     n_jobs=-3)"
   ]
  },
  {
   "cell_type": "markdown",
   "metadata": {},
   "source": [
    "### Join on title (without parentheses and stop words) based on Jaccard score of at least 0.3 with 3-gram tokenization"
   ]
  },
  {
   "cell_type": "code",
   "execution_count": 15,
   "metadata": {},
   "outputs": [],
   "source": [
    "ban_half_pairs_titnp_nosw_q3_jac_03 = ssj.jaccard_join(ban, half, 'ban_id', 'half_id', 'ban_title_no_par', 'half_title_no_par', q3, 0.3, \n",
    "                                     l_out_attrs=['ban_title','ban_title_lower','ban_title_no_par','ban_title_no_par_no_stop_words','ban_author','ban_author_lower', 'ban_firstauthor', 'ban_firsttwoauthors','ban_binding','ban_pubdate', 'ban_pages','ban_publisher','ban_isbn'], \n",
    "                                     r_out_attrs=['half_isbn','half_title','half_title_lower','half_title_no_par','half_title_no_par_no_stop_words','half_author','half_author_lower','half_binding','half_pubdate','half_pages','half_publisher'],\n",
    "                                     n_jobs=-3)"
   ]
  },
  {
   "cell_type": "markdown",
   "metadata": {},
   "source": [
    "### Evaluate Blocking"
   ]
  },
  {
   "cell_type": "code",
   "execution_count": 17,
   "metadata": {},
   "outputs": [
    {
     "name": "stdout",
     "output_type": "stream",
     "text": [
      "True matches across Ban and Half: 886\n"
     ]
    }
   ],
   "source": [
    "#Calculafte the true matches (based on ISBN) and store it in matches_ban_half\n",
    "matches_ban_half = pd.merge(ban,half,left_on='ban_isbn',right_on='half_isbn')\n",
    "print('True matches across Ban and Half: {}'.format(matches_ban_half.shape[0]))"
   ]
  },
  {
   "cell_type": "code",
   "execution_count": 18,
   "metadata": {},
   "outputs": [],
   "source": [
    "def assignTrueLabels(df_blockedpairs, idcolumn1, idcolumn2):\n",
    "    return df_blockedpairs.apply(lambda row: 1 if (row[idcolumn1]==row[idcolumn2]) else 0, axis=1)"
   ]
  },
  {
   "cell_type": "code",
   "execution_count": 19,
   "metadata": {},
   "outputs": [],
   "source": [
    "def calcRedRatio(df1,df2,df_blockedpairs):\n",
    "    cp = (df1.shape[0]*df2.shape[0])/2\n",
    "    rr = (1-(df_blockedpairs.shape[0]/cp))*100\n",
    "    return round(rr,2)"
   ]
  },
  {
   "cell_type": "code",
   "execution_count": 20,
   "metadata": {},
   "outputs": [],
   "source": [
    "def calcPairCompISBN(df_matches,df_blockedpairs,true_label_col):\n",
    "    pc = (df_blockedpairs[df_blockedpairs[true_label_col]==1].shape[0]/df_matches.shape[0])*100\n",
    "    return round(pc,2)"
   ]
  },
  {
   "cell_type": "code",
   "execution_count": 22,
   "metadata": {},
   "outputs": [],
   "source": [
    "#Assign labels to the blockedpairs df\n",
    "ban_half_pairs_a_q3_jac_03['true_label'] = assignTrueLabels(ban_half_pairs_a_q3_jac_03,'l_ban_isbn','r_half_isbn')\n",
    "ban_half_pairs_fa_q3_jac_03['true_label'] = assignTrueLabels(ban_half_pairs_fa_q3_jac_03,'l_ban_isbn','r_half_isbn')\n",
    "ban_half_pairs_tit_q3_jac_03['true_label'] = assignTrueLabels(ban_half_pairs_tit_q3_jac_03,'l_ban_isbn','r_half_isbn')\n",
    "ban_half_pairs_titnp_q3_jac_03['true_label'] = assignTrueLabels(ban_half_pairs_titnp_q3_jac_03,'l_ban_isbn','r_half_isbn')\n",
    "ban_half_pairs_titnp_nosw_q3_jac_03['true_label'] = assignTrueLabels(ban_half_pairs_titnp_nosw_q3_jac_03,'l_ban_isbn','r_half_isbn')"
   ]
  },
  {
   "cell_type": "code",
   "execution_count": 23,
   "metadata": {
    "scrolled": false
   },
   "outputs": [
    {
     "name": "stdout",
     "output_type": "stream",
     "text": [
      "Blocking based on author, Jaccaed, 3-gram, Threshold 0.3\n",
      "Evaluation of ban_half_pairs_a_q3_jac_03\n",
      "Number of rows: 49,764\n",
      "Reduction Ratio: 99.82%\n",
      "Pair Completeness: 99.21%\n",
      "\n",
      "\n",
      "Evaluation of ban_half_pairs_fa_q3_jac_03\n",
      "Number of rows: 51,047\n",
      "Reduction Ratio: 99.81%\n",
      "Pair Completeness: 99.21%\n",
      "\n",
      "\n",
      "Blocking based on title\n",
      "Evaluation of ban_half_pairs_tit_q3_jac_03 (Title, Jaccaed, 3-gram, Threshold 0.3)\n",
      "Number of rows: 3,493\n",
      "Reduction Ratio: 99.99%\n",
      "Pair Completeness: 87.47%\n",
      "\n",
      "\n",
      "Evaluation of ban_half_pairs_titnp_q3_jac_03 (Title excluded text in parenthesis, Jaccard, 3-gram, Threshold 0.3)\n",
      "Number of rows: 1,094\n",
      "Reduction Ratio: 100.0%\n",
      "Pair Completeness: 52.71%\n",
      "\n",
      "\n",
      "Evaluation of ban_half_pairs_titnp_nosw_q3_jac_03 (Title excluded text in parenthesis, Jaccard, 3-gram, Threshold 0.3)\n",
      "Number of rows: 1,094\n",
      "Reduction Ratio: 100.0%\n",
      "Pair Completeness: 52.71%\n"
     ]
    }
   ],
   "source": [
    "print('Blocking based on author, Jaccaed, 3-gram, Threshold 0.3')\n",
    "print('Evaluation of ban_half_pairs_a_q3_jac_03')\n",
    "print('Number of rows: {:,}'.format(ban_half_pairs_a_q3_jac_03.shape[0]))\n",
    "print('Reduction Ratio: {}%'.format(calcRedRatio(ban,half,ban_half_pairs_a_q3_jac_03)))\n",
    "print('Pair Completeness: {}%'.format(calcPairCompISBN(matches_ban_half,ban_half_pairs_a_q3_jac_03,'true_label')))\n",
    "print('\\n')\n",
    "print('Evaluation of ban_half_pairs_fa_q3_jac_03')\n",
    "print('Number of rows: {:,}'.format(ban_half_pairs_fa_q3_jac_03.shape[0]))\n",
    "print('Reduction Ratio: {}%'.format(calcRedRatio(ban,half,ban_half_pairs_fa_q3_jac_03)))\n",
    "print('Pair Completeness: {}%'.format(calcPairCompISBN(matches_ban_half,ban_half_pairs_fa_q3_jac_03,'true_label')))\n",
    "print('\\n')\n",
    "print('Blocking based on title')\n",
    "\n",
    "print('Evaluation of ban_half_pairs_tit_q3_jac_03 (Title, Jaccaed, 3-gram, Threshold 0.3)')\n",
    "print('Number of rows: {:,}'.format(ban_half_pairs_tit_q3_jac_03.shape[0]))\n",
    "print('Reduction Ratio: {}%'.format(calcRedRatio(ban,half,ban_half_pairs_tit_q3_jac_03)))\n",
    "print('Pair Completeness: {}%'.format(calcPairCompISBN(matches_ban_half,ban_half_pairs_tit_q3_jac_03,'true_label')))\n",
    "print('\\n')\n",
    "print('Evaluation of ban_half_pairs_titnp_q3_jac_03 (Title excluded text in parenthesis, Jaccard, 3-gram, Threshold 0.3)')\n",
    "print('Number of rows: {:,}'.format(ban_half_pairs_titnp_q3_jac_03.shape[0]))\n",
    "print('Reduction Ratio: {}%'.format(calcRedRatio(ban,half,ban_half_pairs_titnp_q3_jac_03)))\n",
    "print('Pair Completeness: {}%'.format(calcPairCompISBN(matches_ban_half,ban_half_pairs_titnp_q3_jac_03,'true_label')))\n",
    "\n",
    "print('\\n')\n",
    "print('Evaluation of ban_half_pairs_titnp_nosw_q3_jac_03 (Title excluded text in parenthesis, Jaccard, 3-gram, Threshold 0.3)')\n",
    "print('Number of rows: {:,}'.format(ban_half_pairs_titnp_nosw_q3_jac_03.shape[0]))\n",
    "print('Reduction Ratio: {}%'.format(calcRedRatio(ban,half,ban_half_pairs_titnp_nosw_q3_jac_03)))\n",
    "print('Pair Completeness: {}%'.format(calcPairCompISBN(matches_ban_half,ban_half_pairs_titnp_nosw_q3_jac_03,'true_label')))"
   ]
  },
  {
   "cell_type": "code",
   "execution_count": 24,
   "metadata": {},
   "outputs": [],
   "source": [
    "ban_half_pairs_a_q3_jac_03.to_csv('filtered_correspondences/ban_half_pairs_a_q3_jac_03.csv',index=False)"
   ]
  },
  {
   "cell_type": "code",
   "execution_count": 89,
   "metadata": {},
   "outputs": [],
   "source": [
    "matches_ban_half.to_csv('matching_pairs/matches_ban_half.csv',index=False)"
   ]
  },
  {
   "cell_type": "markdown",
   "metadata": {},
   "source": [
    "-- Blocking based on Jaccard distance with 3-gram tokens on author (ban_author, half_author) performs the best. Better than taking ban_firstauthors and half_author."
   ]
  }
 ],
 "metadata": {
  "kernelspec": {
   "display_name": "Python [conda env:mag]",
   "language": "python",
   "name": "conda-env-mag-py"
  },
  "language_info": {
   "codemirror_mode": {
    "name": "ipython",
    "version": 3
   },
   "file_extension": ".py",
   "mimetype": "text/x-python",
   "name": "python",
   "nbconvert_exporter": "python",
   "pygments_lexer": "ipython3",
   "version": "3.6.10"
  },
  "varInspector": {
   "cols": {
    "lenName": 16,
    "lenType": 16,
    "lenVar": 40
   },
   "kernels_config": {
    "python": {
     "delete_cmd_postfix": "",
     "delete_cmd_prefix": "del ",
     "library": "var_list.py",
     "varRefreshCmd": "print(var_dic_list())"
    },
    "r": {
     "delete_cmd_postfix": ") ",
     "delete_cmd_prefix": "rm(",
     "library": "var_list.r",
     "varRefreshCmd": "cat(var_dic_list()) "
    }
   },
   "types_to_exclude": [
    "module",
    "function",
    "builtin_function_or_method",
    "instance",
    "_Feature"
   ],
   "window_display": false
  }
 },
 "nbformat": 4,
 "nbformat_minor": 2
}
