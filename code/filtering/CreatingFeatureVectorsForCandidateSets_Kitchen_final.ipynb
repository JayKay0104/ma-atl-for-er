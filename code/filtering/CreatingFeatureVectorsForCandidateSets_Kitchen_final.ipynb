{
 "cells": [
  {
   "cell_type": "code",
   "execution_count": 1,
   "metadata": {},
   "outputs": [],
   "source": [
    "%load_ext autoreload\n",
    "%autoreload\n",
    "\n",
    "import warnings\n",
    "import logging\n",
    "from help_functions import *\n",
    "import candidates_sampling as cs\n",
    "from sklearn.model_selection import train_test_split\n",
    "pd.set_option('display.max_columns',100)\n",
    "pd.set_option('display.max_colwidth', None)\n",
    "import sys\n",
    "sys.path.append('../')\n",
    "import support_utils as sup"
   ]
  },
  {
   "cell_type": "markdown",
   "metadata": {},
   "source": [
    "#### Create Logger Handlers"
   ]
  },
  {
   "cell_type": "code",
   "execution_count": 2,
   "metadata": {},
   "outputs": [],
   "source": [
    "logger = logging.getLogger()\n",
    "logger.setLevel(logging.DEBUG)\n",
    "\n",
    "formatter = logging.Formatter('%(asctime)s - %(levelname)s - %(lineno)d - %(funcName)s - %(message)s')\n",
    "\n",
    "#fh = logging.FileHandler('logging/CreatingFeatureVectorsOfPotCorr_kitchen.log')\n",
    "#fh.setLevel(logging.DEBUG)\n",
    "#fh.setFormatter(formatter)\n",
    "#logger.addHandler(fh)\n",
    "\n",
    "ch = logging.StreamHandler()\n",
    "ch.setLevel(logging.INFO)\n",
    "ch.setFormatter(formatter)\n",
    "logger.addHandler(ch)"
   ]
  },
  {
   "cell_type": "markdown",
   "metadata": {},
   "source": [
    "### Read in all candidate sets and store them as Pandas DataFrames in a Dictionary"
   ]
  },
  {
   "cell_type": "code",
   "execution_count": 3,
   "metadata": {},
   "outputs": [
    {
     "name": "stderr",
     "output_type": "stream",
     "text": [
      "2020-08-04 09:22:25,089 - INFO - 53 - readDataInDictionary - ../../candsets/kitchen/candset_katom_rewo.csv is read in and is stored in the dictionary with they key ['katom_rewo']\n",
      "2020-08-04 09:22:25,117 - INFO - 53 - readDataInDictionary - ../../candsets/kitchen/candset_katom_cdi.csv is read in and is stored in the dictionary with they key ['katom_cdi']\n",
      "2020-08-04 09:22:25,196 - INFO - 53 - readDataInDictionary - ../../candsets/kitchen/candset_rewo_cdi.csv is read in and is stored in the dictionary with they key ['rewo_cdi']\n"
     ]
    }
   ],
   "source": [
    "# The datasets should follow the same structure\n",
    "path_to_datasets='../../candsets/kitchen/' # path to the directory where the datasets are stored\n",
    "pattern_of_filename = 'candset_(.{4,5}_.{3,4})' # the file names of the datasets should follow the same pattern\n",
    "csv_separator = ',' # all datasets need to be csv files and need to have the same separator\n",
    "#lst_of_ids = ['id','uri']  # provide the names of the IDs that are in the datasets\n",
    "candset_dict = readDataInDictionary(path_to_datasets, pattern_of_filename, csv_separator)"
   ]
  },
  {
   "cell_type": "code",
   "execution_count": 22,
   "metadata": {},
   "outputs": [
    {
     "data": {
      "text/plain": [
       "dict_keys(['katom_rewo', 'katom_cdi', 'rewo_cdi'])"
      ]
     },
     "execution_count": 22,
     "metadata": {},
     "output_type": "execute_result"
    }
   ],
   "source": [
    "candset_dict.keys()"
   ]
  },
  {
   "cell_type": "code",
   "execution_count": 24,
   "metadata": {},
   "outputs": [
    {
     "data": {
      "text/plain": [
       "(6457, 30)"
      ]
     },
     "execution_count": 24,
     "metadata": {},
     "output_type": "execute_result"
    }
   ],
   "source": [
    "candset_dict['katom_rewo'].shape"
   ]
  },
  {
   "cell_type": "markdown",
   "metadata": {},
   "source": [
    "### Calculate Features for the whole datasets"
   ]
  },
  {
   "cell_type": "code",
   "execution_count": 25,
   "metadata": {},
   "outputs": [
    {
     "name": "stderr",
     "output_type": "stream",
     "text": [
      "2020-06-15 21:10:36,055 - INFO - 256 - returnAlignedDataTypeSchema - Start with katom_rewo\n",
      "2020-06-15 21:10:36,058 - INFO - 84 - getDataTypes - Start detecting datatypes for all columns of dataframe:\n",
      "2020-06-15 21:10:37,806 - INFO - 140 - getDataTypes - Datatype for Column katom_base detected: str\n",
      "2020-06-15 21:10:39,937 - INFO - 140 - getDataTypes - Datatype for Column rewo_base detected: str\n",
      "2020-06-15 21:10:43,517 - INFO - 140 - getDataTypes - Datatype for Column katom_brand detected: str\n",
      "2020-06-15 21:10:46,614 - INFO - 140 - getDataTypes - Datatype for Column rewo_brand detected: str\n",
      "2020-06-15 21:10:48,117 - INFO - 140 - getDataTypes - Datatype for Column katom_capacity detected: str\n",
      "2020-06-15 21:10:49,657 - INFO - 140 - getDataTypes - Datatype for Column rewo_capacity detected: str\n",
      "2020-06-15 21:10:50,516 - INFO - 140 - getDataTypes - Datatype for Column katom_category detected: str\n",
      "2020-06-15 21:10:50,847 - INFO - 140 - getDataTypes - Datatype for Column rewo_category detected: str\n",
      "2020-06-15 21:10:52,369 - INFO - 140 - getDataTypes - Datatype for Column katom_color detected: str\n",
      "2020-06-15 21:10:53,895 - INFO - 140 - getDataTypes - Datatype for Column rewo_color detected: str\n",
      "2020-06-15 21:10:55,616 - INFO - 140 - getDataTypes - Datatype for Column katom_finish detected: str\n",
      "2020-06-15 21:10:57,565 - INFO - 140 - getDataTypes - Datatype for Column rewo_finish detected: str\n",
      "2020-06-15 21:10:59,833 - INFO - 140 - getDataTypes - Datatype for Column katom_height detected: str\n",
      "2020-06-15 21:11:00,942 - INFO - 140 - getDataTypes - Datatype for Column rewo_height detected: str\n",
      "2020-06-15 21:11:03,472 - INFO - 140 - getDataTypes - Datatype for Column katom_material detected: str\n",
      "2020-06-15 21:11:06,059 - INFO - 140 - getDataTypes - Datatype for Column rewo_material detected: str\n",
      "2020-06-15 21:11:08,594 - INFO - 140 - getDataTypes - Datatype for Column katom_product_type detected: str\n",
      "2020-06-15 21:11:11,415 - INFO - 140 - getDataTypes - Datatype for Column rewo_product_type detected: str\n",
      "2020-06-15 21:11:11,927 - INFO - 140 - getDataTypes - Datatype for Column katom_shape detected: str\n",
      "2020-06-15 21:11:12,500 - INFO - 140 - getDataTypes - Datatype for Column rewo_shape detected: str\n",
      "2020-06-15 21:11:15,667 - INFO - 140 - getDataTypes - Datatype for Column katom_style detected: str\n",
      "2020-06-15 21:11:18,794 - INFO - 140 - getDataTypes - Datatype for Column rewo_style detected: str\n",
      "2020-06-15 21:11:18,806 - INFO - 114 - getDataTypes - Datatype for Column katom_title detected: long_str with avg_length 13.447266532445408\n",
      "2020-06-15 21:11:18,818 - INFO - 114 - getDataTypes - Datatype for Column rewo_title detected: long_str with avg_length 12.798513241443395\n",
      "2020-06-15 21:11:18,819 - INFO - 256 - returnAlignedDataTypeSchema - Start with katom_cdi\n",
      "2020-06-15 21:11:18,820 - INFO - 84 - getDataTypes - Start detecting datatypes for all columns of dataframe:\n",
      "2020-06-15 21:11:19,256 - INFO - 140 - getDataTypes - Datatype for Column katom_base detected: str\n",
      "2020-06-15 21:11:19,808 - INFO - 140 - getDataTypes - Datatype for Column cdi_base detected: str\n",
      "2020-06-15 21:11:20,526 - INFO - 140 - getDataTypes - Datatype for Column katom_brand detected: str\n",
      "2020-06-15 21:11:21,134 - INFO - 140 - getDataTypes - Datatype for Column cdi_brand detected: str\n",
      "2020-06-15 21:11:21,433 - INFO - 140 - getDataTypes - Datatype for Column katom_capacity detected: str\n",
      "2020-06-15 21:11:21,616 - INFO - 140 - getDataTypes - Datatype for Column cdi_capacity detected: str\n",
      "2020-06-15 21:11:21,699 - INFO - 140 - getDataTypes - Datatype for Column katom_category detected: str\n",
      "2020-06-15 21:11:21,775 - INFO - 140 - getDataTypes - Datatype for Column cdi_category detected: str\n",
      "2020-06-15 21:11:22,067 - INFO - 140 - getDataTypes - Datatype for Column katom_color detected: str\n",
      "2020-06-15 21:11:22,400 - INFO - 140 - getDataTypes - Datatype for Column cdi_color detected: str\n",
      "2020-06-15 21:11:22,928 - INFO - 140 - getDataTypes - Datatype for Column katom_finish detected: str\n",
      "2020-06-15 21:11:23,470 - INFO - 140 - getDataTypes - Datatype for Column cdi_finish detected: str\n",
      "2020-06-15 21:11:24,088 - INFO - 140 - getDataTypes - Datatype for Column katom_height detected: str\n",
      "2020-06-15 21:11:24,923 - INFO - 140 - getDataTypes - Datatype for Column cdi_height detected: str\n",
      "2020-06-15 21:11:25,404 - INFO - 140 - getDataTypes - Datatype for Column katom_material detected: str\n",
      "2020-06-15 21:11:25,891 - INFO - 140 - getDataTypes - Datatype for Column cdi_material detected: str\n",
      "2020-06-15 21:11:26,478 - INFO - 140 - getDataTypes - Datatype for Column katom_product_type detected: str\n",
      "2020-06-15 21:11:27,070 - INFO - 140 - getDataTypes - Datatype for Column cdi_product_type detected: str\n",
      "2020-06-15 21:11:27,416 - INFO - 140 - getDataTypes - Datatype for Column katom_shape detected: str\n",
      "2020-06-15 21:11:27,703 - INFO - 140 - getDataTypes - Datatype for Column cdi_shape detected: str\n",
      "2020-06-15 21:11:27,708 - INFO - 114 - getDataTypes - Datatype for Column katom_style detected: long_str with avg_length 6.4277733439744615\n",
      "2020-06-15 21:11:28,258 - INFO - 140 - getDataTypes - Datatype for Column cdi_style detected: str\n",
      "2020-06-15 21:11:28,263 - INFO - 114 - getDataTypes - Datatype for Column katom_title detected: long_str with avg_length 10.928571428571429\n",
      "2020-06-15 21:11:28,266 - INFO - 114 - getDataTypes - Datatype for Column cdi_title detected: long_str with avg_length 7.264136904761905\n",
      "2020-06-15 21:11:28,267 - INFO - 256 - returnAlignedDataTypeSchema - Start with rewo_cdi\n",
      "2020-06-15 21:11:28,268 - INFO - 84 - getDataTypes - Start detecting datatypes for all columns of dataframe:\n",
      "2020-06-15 21:11:29,768 - INFO - 140 - getDataTypes - Datatype for Column rewo_base detected: str\n",
      "2020-06-15 21:11:31,588 - INFO - 140 - getDataTypes - Datatype for Column cdi_base detected: str\n",
      "2020-06-15 21:11:34,238 - INFO - 140 - getDataTypes - Datatype for Column rewo_brand detected: str\n",
      "2020-06-15 21:11:36,848 - INFO - 140 - getDataTypes - Datatype for Column cdi_brand detected: str\n",
      "2020-06-15 21:11:37,498 - INFO - 140 - getDataTypes - Datatype for Column rewo_capacity detected: str\n",
      "2020-06-15 21:11:38,254 - INFO - 140 - getDataTypes - Datatype for Column cdi_capacity detected: str\n",
      "2020-06-15 21:11:38,616 - INFO - 140 - getDataTypes - Datatype for Column rewo_category detected: str\n",
      "2020-06-15 21:11:38,992 - INFO - 140 - getDataTypes - Datatype for Column cdi_category detected: str\n",
      "2020-06-15 21:11:40,036 - INFO - 140 - getDataTypes - Datatype for Column rewo_color detected: str\n",
      "2020-06-15 21:11:41,319 - INFO - 140 - getDataTypes - Datatype for Column cdi_color detected: str\n",
      "2020-06-15 21:11:42,970 - INFO - 140 - getDataTypes - Datatype for Column rewo_finish detected: str\n",
      "2020-06-15 21:11:44,448 - INFO - 140 - getDataTypes - Datatype for Column cdi_finish detected: str\n",
      "2020-06-15 21:11:45,017 - INFO - 140 - getDataTypes - Datatype for Column rewo_height detected: str\n",
      "2020-06-15 21:11:47,208 - INFO - 140 - getDataTypes - Datatype for Column cdi_height detected: str\n",
      "2020-06-15 21:11:48,927 - INFO - 140 - getDataTypes - Datatype for Column rewo_material detected: str\n",
      "2020-06-15 21:11:50,662 - INFO - 140 - getDataTypes - Datatype for Column cdi_material detected: str\n",
      "2020-06-15 21:11:52,543 - INFO - 140 - getDataTypes - Datatype for Column rewo_product_type detected: str\n",
      "2020-06-15 21:11:54,769 - INFO - 140 - getDataTypes - Datatype for Column cdi_product_type detected: str\n",
      "2020-06-15 21:11:55,620 - INFO - 140 - getDataTypes - Datatype for Column rewo_shape detected: str\n",
      "2020-06-15 21:11:56,164 - INFO - 140 - getDataTypes - Datatype for Column cdi_shape detected: str\n",
      "2020-06-15 21:11:58,234 - INFO - 140 - getDataTypes - Datatype for Column rewo_style detected: str\n",
      "2020-06-15 21:12:00,562 - INFO - 140 - getDataTypes - Datatype for Column cdi_style detected: str\n",
      "2020-06-15 21:12:00,572 - INFO - 114 - getDataTypes - Datatype for Column rewo_title detected: long_str with avg_length 11.092717717717719\n",
      "2020-06-15 21:12:00,580 - INFO - 114 - getDataTypes - Datatype for Column cdi_title detected: long_str with avg_length 7.7599474474474475\n"
     ]
    }
   ],
   "source": [
    "type_per_column = returnAlignedDataTypeSchema(candset_dict,lst_of_ids_to_be_removed=['id','label','cluster_id'])"
   ]
  },
  {
   "cell_type": "code",
   "execution_count": 26,
   "metadata": {},
   "outputs": [
    {
     "data": {
      "text/plain": [
       "{'base': 'str',\n",
       " 'brand': 'str',\n",
       " 'capacity': 'str',\n",
       " 'category': 'str',\n",
       " 'color': 'str',\n",
       " 'finish': 'str',\n",
       " 'height': 'str',\n",
       " 'material': 'str',\n",
       " 'product_type': 'str',\n",
       " 'shape': 'str',\n",
       " 'style': 'long_str',\n",
       " 'title': 'long_str'}"
      ]
     },
     "execution_count": 26,
     "metadata": {},
     "output_type": "execute_result"
    }
   ],
   "source": [
    "type_per_column"
   ]
  },
  {
   "cell_type": "code",
   "execution_count": 27,
   "metadata": {},
   "outputs": [
    {
     "name": "stdout",
     "output_type": "stream",
     "text": [
      "Saved in ../input/home_type_per_column.json\n"
     ]
    }
   ],
   "source": [
    "sup.saveResultsToJSON(type_per_column,'../input/kitchen_type_per_column')"
   ]
  },
  {
   "cell_type": "code",
   "execution_count": 28,
   "metadata": {
    "scrolled": false
   },
   "outputs": [
    {
     "name": "stderr",
     "output_type": "stream",
     "text": [
      "2020-06-15 21:12:52,835 - WARNING - 934 - returnLabeledFeatureVectorsForCandidateSet - katom for the left source as name assigned. Check if correct!\n",
      "2020-06-15 21:12:52,838 - WARNING - 936 - returnLabeledFeatureVectorsForCandidateSet - rewo for the right source as name assigned. Check if correct!\n",
      "2020-06-15 21:12:52,839 - INFO - 961 - createLabeledFeatureVectorForCandidateSets - Start Function\n",
      "2020-06-15 21:12:53,379 - INFO - 984 - createLabeledFeatureVectorForCandidateSets - Common attributes identified!\n",
      "2020-06-15 21:12:53,381 - INFO - 1007 - createLabeledFeatureVectorForCandidateSets - katom_finish\n",
      "2020-06-15 21:12:53,384 - INFO - 1009 - createLabeledFeatureVectorForCandidateSets - rewo_finish\n",
      "2020-06-15 21:12:55,222 - INFO - 1007 - createLabeledFeatureVectorForCandidateSets - katom_shape\n",
      "2020-06-15 21:12:55,224 - INFO - 1009 - createLabeledFeatureVectorForCandidateSets - rewo_shape\n",
      "2020-06-15 21:12:56,765 - INFO - 1007 - createLabeledFeatureVectorForCandidateSets - katom_color\n",
      "2020-06-15 21:12:56,767 - INFO - 1009 - createLabeledFeatureVectorForCandidateSets - rewo_color\n",
      "2020-06-15 21:12:58,643 - INFO - 1007 - createLabeledFeatureVectorForCandidateSets - katom_base\n",
      "2020-06-15 21:12:58,646 - INFO - 1009 - createLabeledFeatureVectorForCandidateSets - rewo_base\n",
      "2020-06-15 21:13:00,501 - INFO - 1007 - createLabeledFeatureVectorForCandidateSets - katom_style\n",
      "2020-06-15 21:13:00,503 - INFO - 1009 - createLabeledFeatureVectorForCandidateSets - rewo_style\n",
      "2020-06-15 21:13:04,852 - INFO - 1007 - createLabeledFeatureVectorForCandidateSets - katom_height\n",
      "2020-06-15 21:13:04,854 - INFO - 1009 - createLabeledFeatureVectorForCandidateSets - rewo_height\n",
      "2020-06-15 21:13:06,473 - INFO - 1007 - createLabeledFeatureVectorForCandidateSets - katom_category\n",
      "2020-06-15 21:13:06,475 - INFO - 1009 - createLabeledFeatureVectorForCandidateSets - rewo_category\n",
      "2020-06-15 21:13:08,281 - INFO - 1007 - createLabeledFeatureVectorForCandidateSets - katom_title\n",
      "2020-06-15 21:13:08,283 - INFO - 1009 - createLabeledFeatureVectorForCandidateSets - rewo_title\n",
      "2020-06-15 21:13:16,083 - INFO - 1007 - createLabeledFeatureVectorForCandidateSets - katom_capacity\n",
      "2020-06-15 21:13:16,087 - INFO - 1009 - createLabeledFeatureVectorForCandidateSets - rewo_capacity\n",
      "2020-06-15 21:13:18,031 - INFO - 1007 - createLabeledFeatureVectorForCandidateSets - katom_material\n",
      "2020-06-15 21:13:18,034 - INFO - 1009 - createLabeledFeatureVectorForCandidateSets - rewo_material\n",
      "2020-06-15 21:13:19,970 - INFO - 1007 - createLabeledFeatureVectorForCandidateSets - katom_brand\n",
      "2020-06-15 21:13:19,974 - INFO - 1009 - createLabeledFeatureVectorForCandidateSets - rewo_brand\n",
      "2020-06-15 21:13:22,313 - INFO - 1007 - createLabeledFeatureVectorForCandidateSets - katom_product_type\n",
      "2020-06-15 21:13:22,316 - INFO - 1009 - createLabeledFeatureVectorForCandidateSets - rewo_product_type\n",
      "2020-06-15 21:13:24,565 - INFO - 1012 - createLabeledFeatureVectorForCandidateSets - \n",
      "Finished! Labeled Feature Vectors created for katom and rewo\n",
      "2020-06-15 21:13:24,567 - WARNING - 934 - returnLabeledFeatureVectorsForCandidateSet - katom for the left source as name assigned. Check if correct!\n",
      "2020-06-15 21:13:24,568 - WARNING - 936 - returnLabeledFeatureVectorsForCandidateSet - cdi for the right source as name assigned. Check if correct!\n",
      "2020-06-15 21:13:24,569 - INFO - 961 - createLabeledFeatureVectorForCandidateSets - Start Function\n",
      "2020-06-15 21:13:24,662 - INFO - 984 - createLabeledFeatureVectorForCandidateSets - Common attributes identified!\n",
      "2020-06-15 21:13:24,663 - INFO - 1007 - createLabeledFeatureVectorForCandidateSets - katom_finish\n",
      "2020-06-15 21:13:24,666 - INFO - 1009 - createLabeledFeatureVectorForCandidateSets - cdi_finish\n",
      "2020-06-15 21:13:25,028 - INFO - 1007 - createLabeledFeatureVectorForCandidateSets - katom_shape\n",
      "2020-06-15 21:13:25,031 - INFO - 1009 - createLabeledFeatureVectorForCandidateSets - cdi_shape\n",
      "2020-06-15 21:13:25,479 - INFO - 1007 - createLabeledFeatureVectorForCandidateSets - katom_color\n",
      "2020-06-15 21:13:25,483 - INFO - 1009 - createLabeledFeatureVectorForCandidateSets - cdi_color\n",
      "2020-06-15 21:13:25,903 - INFO - 1007 - createLabeledFeatureVectorForCandidateSets - katom_base\n",
      "2020-06-15 21:13:25,906 - INFO - 1009 - createLabeledFeatureVectorForCandidateSets - cdi_base\n",
      "2020-06-15 21:13:26,403 - INFO - 1007 - createLabeledFeatureVectorForCandidateSets - katom_style\n",
      "2020-06-15 21:13:26,406 - INFO - 1009 - createLabeledFeatureVectorForCandidateSets - cdi_style\n",
      "2020-06-15 21:13:27,417 - INFO - 1007 - createLabeledFeatureVectorForCandidateSets - katom_height\n",
      "2020-06-15 21:13:27,420 - INFO - 1009 - createLabeledFeatureVectorForCandidateSets - cdi_height\n",
      "2020-06-15 21:13:27,861 - INFO - 1007 - createLabeledFeatureVectorForCandidateSets - katom_category\n",
      "2020-06-15 21:13:27,864 - INFO - 1009 - createLabeledFeatureVectorForCandidateSets - cdi_category\n",
      "2020-06-15 21:13:28,228 - INFO - 1007 - createLabeledFeatureVectorForCandidateSets - katom_title\n",
      "2020-06-15 21:13:28,230 - INFO - 1009 - createLabeledFeatureVectorForCandidateSets - cdi_title\n",
      "2020-06-15 21:13:29,506 - INFO - 1007 - createLabeledFeatureVectorForCandidateSets - katom_capacity\n",
      "2020-06-15 21:13:29,508 - INFO - 1009 - createLabeledFeatureVectorForCandidateSets - cdi_capacity\n",
      "2020-06-15 21:13:29,953 - INFO - 1007 - createLabeledFeatureVectorForCandidateSets - katom_material\n",
      "2020-06-15 21:13:29,957 - INFO - 1009 - createLabeledFeatureVectorForCandidateSets - cdi_material\n",
      "2020-06-15 21:13:30,529 - INFO - 1007 - createLabeledFeatureVectorForCandidateSets - katom_brand\n",
      "2020-06-15 21:13:30,531 - INFO - 1009 - createLabeledFeatureVectorForCandidateSets - cdi_brand\n",
      "2020-06-15 21:13:31,015 - INFO - 1007 - createLabeledFeatureVectorForCandidateSets - katom_product_type\n",
      "2020-06-15 21:13:31,018 - INFO - 1009 - createLabeledFeatureVectorForCandidateSets - cdi_product_type\n",
      "2020-06-15 21:13:31,612 - INFO - 1012 - createLabeledFeatureVectorForCandidateSets - \n",
      "Finished! Labeled Feature Vectors created for katom and cdi\n",
      "2020-06-15 21:13:31,613 - WARNING - 934 - returnLabeledFeatureVectorsForCandidateSet - rewo for the left source as name assigned. Check if correct!\n",
      "2020-06-15 21:13:31,615 - WARNING - 936 - returnLabeledFeatureVectorsForCandidateSet - cdi for the right source as name assigned. Check if correct!\n",
      "2020-06-15 21:13:31,616 - INFO - 961 - createLabeledFeatureVectorForCandidateSets - Start Function\n",
      "2020-06-15 21:13:31,943 - INFO - 984 - createLabeledFeatureVectorForCandidateSets - Common attributes identified!\n",
      "2020-06-15 21:13:31,944 - INFO - 1007 - createLabeledFeatureVectorForCandidateSets - rewo_finish\n",
      "2020-06-15 21:13:31,947 - INFO - 1009 - createLabeledFeatureVectorForCandidateSets - cdi_finish\n",
      "2020-06-15 21:13:33,333 - INFO - 1007 - createLabeledFeatureVectorForCandidateSets - rewo_shape\n",
      "2020-06-15 21:13:33,336 - INFO - 1009 - createLabeledFeatureVectorForCandidateSets - cdi_shape\n",
      "2020-06-15 21:13:34,631 - INFO - 1007 - createLabeledFeatureVectorForCandidateSets - rewo_color\n",
      "2020-06-15 21:13:34,634 - INFO - 1009 - createLabeledFeatureVectorForCandidateSets - cdi_color\n",
      "2020-06-15 21:13:36,087 - INFO - 1007 - createLabeledFeatureVectorForCandidateSets - rewo_base\n",
      "2020-06-15 21:13:36,089 - INFO - 1009 - createLabeledFeatureVectorForCandidateSets - cdi_base\n",
      "2020-06-15 21:13:37,703 - INFO - 1007 - createLabeledFeatureVectorForCandidateSets - rewo_style\n",
      "2020-06-15 21:13:37,706 - INFO - 1009 - createLabeledFeatureVectorForCandidateSets - cdi_style\n",
      "2020-06-15 21:13:41,015 - INFO - 1007 - createLabeledFeatureVectorForCandidateSets - rewo_height\n",
      "2020-06-15 21:13:41,017 - INFO - 1009 - createLabeledFeatureVectorForCandidateSets - cdi_height\n",
      "2020-06-15 21:13:42,458 - INFO - 1007 - createLabeledFeatureVectorForCandidateSets - rewo_category\n",
      "2020-06-15 21:13:42,461 - INFO - 1009 - createLabeledFeatureVectorForCandidateSets - cdi_category\n",
      "2020-06-15 21:13:44,093 - INFO - 1007 - createLabeledFeatureVectorForCandidateSets - rewo_title\n",
      "2020-06-15 21:13:44,096 - INFO - 1009 - createLabeledFeatureVectorForCandidateSets - cdi_title\n",
      "2020-06-15 21:13:49,247 - INFO - 1007 - createLabeledFeatureVectorForCandidateSets - rewo_capacity\n",
      "2020-06-15 21:13:49,249 - INFO - 1009 - createLabeledFeatureVectorForCandidateSets - cdi_capacity\n"
     ]
    },
    {
     "name": "stderr",
     "output_type": "stream",
     "text": [
      "2020-06-15 21:13:50,937 - INFO - 1007 - createLabeledFeatureVectorForCandidateSets - rewo_material\n",
      "2020-06-15 21:13:50,940 - INFO - 1009 - createLabeledFeatureVectorForCandidateSets - cdi_material\n",
      "2020-06-15 21:13:52,534 - INFO - 1007 - createLabeledFeatureVectorForCandidateSets - rewo_brand\n",
      "2020-06-15 21:13:52,537 - INFO - 1009 - createLabeledFeatureVectorForCandidateSets - cdi_brand\n",
      "2020-06-15 21:13:54,034 - INFO - 1007 - createLabeledFeatureVectorForCandidateSets - rewo_product_type\n",
      "2020-06-15 21:13:54,037 - INFO - 1009 - createLabeledFeatureVectorForCandidateSets - cdi_product_type\n",
      "2020-06-15 21:13:55,616 - INFO - 1012 - createLabeledFeatureVectorForCandidateSets - \n",
      "Finished! Labeled Feature Vectors created for rewo and cdi\n",
      "2020-06-15 21:13:55,618 - INFO - 939 - returnLabeledFeatureVectorsForCandidateSet - \n",
      "Finished! All labeled feature vectors are created for all dataset combinations\n"
     ]
    }
   ],
   "source": [
    "# columns to be ignored are all columns that are not related to any single attribute \n",
    "candset_feature_dict = returnLabeledFeatureVectorsForCandidateSet(candset_dict, type_per_column, columns_to_be_ignored=['ids','label','cluster_id'], identifier='id')"
   ]
  },
  {
   "cell_type": "markdown",
   "metadata": {},
   "source": [
    "### Rescale the features"
   ]
  },
  {
   "cell_type": "code",
   "execution_count": 32,
   "metadata": {},
   "outputs": [
    {
     "name": "stderr",
     "output_type": "stream",
     "text": [
      "2020-06-15 21:16:39,006 - INFO - 1043 - rescaleFeatureVectorsInDict - Rescaling feature dataframes within the dictionary\n",
      "2020-06-15 21:16:39,009 - INFO - 1023 - rescaleFeatureVectors - Rescaling features to be in range [0,1] and for features that end with diff we additionally reverse the score\n",
      "2020-06-15 21:16:39,184 - INFO - 1033 - rescaleFeatureVectors - All features from the frature_vector dataframe are now rescaled inplace\n",
      "2020-06-15 21:16:39,186 - INFO - 1023 - rescaleFeatureVectors - Rescaling features to be in range [0,1] and for features that end with diff we additionally reverse the score\n",
      "2020-06-15 21:16:39,270 - INFO - 1033 - rescaleFeatureVectors - All features from the frature_vector dataframe are now rescaled inplace\n",
      "2020-06-15 21:16:39,272 - INFO - 1023 - rescaleFeatureVectors - Rescaling features to be in range [0,1] and for features that end with diff we additionally reverse the score\n",
      "2020-06-15 21:16:39,460 - INFO - 1033 - rescaleFeatureVectors - All features from the frature_vector dataframe are now rescaled inplace\n",
      "2020-06-15 21:16:39,462 - INFO - 1048 - rescaleFeatureVectorsInDict - All feature vectors within dictionary are now rescaled inplace\n"
     ]
    }
   ],
   "source": [
    "rescaleFeatureVectorsInDict(candset_feature_dict,col_to_be_ignored=['ids', 'label'])"
   ]
  },
  {
   "cell_type": "code",
   "execution_count": 34,
   "metadata": {},
   "outputs": [],
   "source": [
    "for df in candset_feature_dict:\n",
    "    candset_feature_dict[df].to_csv('../../candsets/kitchen/candset_{}.csv'.format(df),index=False)"
   ]
  },
  {
   "cell_type": "markdown",
   "metadata": {},
   "source": [
    "### Making train and test split"
   ]
  },
  {
   "cell_type": "code",
   "execution_count": 35,
   "metadata": {},
   "outputs": [],
   "source": [
    "random_state = 42\n",
    "test_size = 0.33\n",
    "candset_dict_train = {}\n",
    "candset_dict_test = {}\n",
    "for df in candset_feature_dict:\n",
    "    X = candset_feature_dict[df].drop(columns='label')\n",
    "    y = candset_feature_dict[df]['label']\n",
    "    X_train, X_test, y_train, y_test = train_test_split(X.copy(),y.copy(),random_state=random_state,\n",
    "                                                        test_size=test_size,stratify=y)\n",
    "    X_train['label'] = y_train.copy()\n",
    "    candset_dict_train.update({df:X_train.reset_index(drop=True)})\n",
    "    X_train.to_csv(f'../../candsets/kitchen/candset_{df}_train.csv',index=False)\n",
    "    X_test['label'] = y_test.copy()\n",
    "    candset_dict_test.update({df:X_test.reset_index(drop=True)})\n",
    "    X_test.to_csv(f'../../candsets/kitchen/candset_{df}_test.csv',index=False)"
   ]
  },
  {
   "cell_type": "code",
   "execution_count": 36,
   "metadata": {},
   "outputs": [
    {
     "data": {
      "text/plain": [
       "dict_keys(['feature_katom_rewo', 'feature_katom_cdi', 'feature_rewo_cdi'])"
      ]
     },
     "execution_count": 36,
     "metadata": {},
     "output_type": "execute_result"
    }
   ],
   "source": [
    "candset_dict_train.keys()"
   ]
  }
 ],
 "metadata": {
  "kernelspec": {
   "display_name": "Python [conda env:mag]",
   "language": "python",
   "name": "conda-env-mag-py"
  },
  "language_info": {
   "codemirror_mode": {
    "name": "ipython",
    "version": 3
   },
   "file_extension": ".py",
   "mimetype": "text/x-python",
   "name": "python",
   "nbconvert_exporter": "python",
   "pygments_lexer": "ipython3",
   "version": "3.6.10"
  },
  "notify_time": "30",
  "varInspector": {
   "cols": {
    "lenName": 16,
    "lenType": 16,
    "lenVar": 40
   },
   "kernels_config": {
    "python": {
     "delete_cmd_postfix": "",
     "delete_cmd_prefix": "del ",
     "library": "var_list.py",
     "varRefreshCmd": "print(var_dic_list())"
    },
    "r": {
     "delete_cmd_postfix": ") ",
     "delete_cmd_prefix": "rm(",
     "library": "var_list.r",
     "varRefreshCmd": "cat(var_dic_list()) "
    }
   },
   "position": {
    "height": "731.198px",
    "left": "1590.94px",
    "right": "20px",
    "top": "18.9236px",
    "width": "508.455px"
   },
   "types_to_exclude": [
    "module",
    "function",
    "builtin_function_or_method",
    "instance",
    "_Feature"
   ],
   "window_display": false
  }
 },
 "nbformat": 4,
 "nbformat_minor": 2
}
