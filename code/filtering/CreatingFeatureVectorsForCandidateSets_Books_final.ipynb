{
 "cells": [
  {
   "cell_type": "code",
   "execution_count": 1,
   "metadata": {},
   "outputs": [],
   "source": [
    "%load_ext autoreload\n",
    "%autoreload\n",
    "\n",
    "import warnings\n",
    "import logging\n",
    "from help_functions import *\n",
    "import candidates_sampling as cs\n",
    "from sklearn.model_selection import train_test_split\n",
    "pd.set_option('display.max_columns',100)\n",
    "pd.set_option('display.max_colwidth', None)\n",
    "import sys\n",
    "sys.path.append('../')\n",
    "import support_utils as sup"
   ]
  },
  {
   "cell_type": "markdown",
   "metadata": {},
   "source": [
    "#### Create Logger Handlers"
   ]
  },
  {
   "cell_type": "code",
   "execution_count": 2,
   "metadata": {},
   "outputs": [],
   "source": [
    "logger = logging.getLogger()\n",
    "logger.setLevel(logging.DEBUG)\n",
    "\n",
    "formatter = logging.Formatter('%(asctime)s - %(levelname)s - %(lineno)d - %(funcName)s - %(message)s')\n",
    "\n",
    "#fh = logging.FileHandler('logging/CreatingFeatureVectorsOfPotCorr_Books.log')\n",
    "#fh.setLevel(logging.DEBUG)\n",
    "#fh.setFormatter(formatter)\n",
    "#logger.addHandler(fh)\n",
    "\n",
    "ch = logging.StreamHandler()\n",
    "ch.setLevel(logging.INFO)\n",
    "ch.setFormatter(formatter)\n",
    "logger.addHandler(ch)"
   ]
  },
  {
   "cell_type": "markdown",
   "metadata": {},
   "source": [
    "### Read in all candidate sets and store them as Pandas DataFrames in a Dictionary"
   ]
  },
  {
   "cell_type": "code",
   "execution_count": 3,
   "metadata": {},
   "outputs": [
    {
     "name": "stderr",
     "output_type": "stream",
     "text": [
      "2020-08-04 09:22:48,124 - INFO - 53 - readDataInDictionary - ../../candsets/books/candset_bx_wor.csv is read in and is stored in the dictionary with they key ['bx_wor']\n",
      "2020-08-04 09:22:48,141 - INFO - 53 - readDataInDictionary - ../../candsets/books/candset_bx_half.csv is read in and is stored in the dictionary with they key ['bx_half']\n",
      "2020-08-04 09:22:48,156 - INFO - 53 - readDataInDictionary - ../../candsets/books/candset_ban_wor.csv is read in and is stored in the dictionary with they key ['ban_wor']\n",
      "2020-08-04 09:22:48,168 - INFO - 53 - readDataInDictionary - ../../candsets/books/candset_ban_bx.csv is read in and is stored in the dictionary with they key ['ban_bx']\n",
      "2020-08-04 09:22:48,186 - INFO - 53 - readDataInDictionary - ../../candsets/books/candset_wor_half.csv is read in and is stored in the dictionary with they key ['wor_half']\n",
      "2020-08-04 09:22:48,200 - INFO - 53 - readDataInDictionary - ../../candsets/books/candset_ban_half.csv is read in and is stored in the dictionary with they key ['ban_half']\n"
     ]
    }
   ],
   "source": [
    "# The datasets should follow the same structure\n",
    "path_to_datasets='../../candsets/books/' # path to the directory where the datasets are stored\n",
    "pattern_of_filename = 'candset_(.{2,4}_.{2,4})' # the file names of the datasets should follow the same pattern\n",
    "csv_separator = ',' # all datasets need to be csv files and need to have the same separator\n",
    "#lst_of_ids = ['id','uri']  # provide the names of the IDs that are in the datasets\n",
    "candset_dict = readDataInDictionary(path_to_datasets, pattern_of_filename, csv_separator)"
   ]
  },
  {
   "cell_type": "markdown",
   "metadata": {},
   "source": [
    "### Calculate Features for the whole datasets"
   ]
  },
  {
   "cell_type": "code",
   "execution_count": 33,
   "metadata": {},
   "outputs": [
    {
     "name": "stderr",
     "output_type": "stream",
     "text": [
      "2020-06-15 15:09:39,497 - INFO - 256 - returnAlignedDataTypeSchema - Start with bx_wor\n",
      "2020-06-15 15:09:39,499 - INFO - 84 - getDataTypes - Start detecting datatypes for all columns of dataframe:\n",
      "2020-06-15 15:09:49,157 - INFO - 140 - getDataTypes - Datatype for Column bx_author detected: str\n",
      "2020-06-15 15:09:58,967 - INFO - 140 - getDataTypes - Datatype for Column wor_author detected: str\n",
      "2020-06-15 15:09:58,971 - INFO - 109 - getDataTypes - Datatype for Column bx_binding detected: custom\n",
      "2020-06-15 15:09:58,983 - INFO - 109 - getDataTypes - Datatype for Column wor_binding detected: custom\n",
      "2020-06-15 15:10:08,763 - INFO - 140 - getDataTypes - Datatype for Column bx_pages detected: num\n",
      "2020-06-15 15:10:18,461 - INFO - 140 - getDataTypes - Datatype for Column wor_pages detected: num\n",
      "2020-06-15 15:10:22,732 - INFO - 140 - getDataTypes - Datatype for Column bx_pubdate detected: date\n",
      "2020-06-15 15:10:23,042 - INFO - 140 - getDataTypes - Datatype for Column wor_pubdate detected: date\n",
      "2020-06-15 15:10:31,621 - INFO - 140 - getDataTypes - Datatype for Column bx_publisher detected: str\n",
      "2020-06-15 15:10:41,024 - INFO - 140 - getDataTypes - Datatype for Column wor_publisher detected: str\n",
      "2020-06-15 15:10:50,524 - INFO - 140 - getDataTypes - Datatype for Column bx_title detected: str\n",
      "2020-06-15 15:11:00,015 - INFO - 140 - getDataTypes - Datatype for Column wor_title detected: str\n",
      "2020-06-15 15:11:00,017 - INFO - 256 - returnAlignedDataTypeSchema - Start with bx_half\n",
      "2020-06-15 15:11:00,018 - INFO - 84 - getDataTypes - Start detecting datatypes for all columns of dataframe:\n",
      "2020-06-15 15:11:00,647 - INFO - 140 - getDataTypes - Datatype for Column bx_author detected: str\n",
      "2020-06-15 15:11:01,137 - INFO - 140 - getDataTypes - Datatype for Column half_author detected: str\n",
      "2020-06-15 15:11:01,139 - INFO - 109 - getDataTypes - Datatype for Column bx_binding detected: custom\n",
      "2020-06-15 15:11:01,141 - INFO - 109 - getDataTypes - Datatype for Column half_binding detected: custom\n",
      "2020-06-15 15:11:01,619 - INFO - 140 - getDataTypes - Datatype for Column bx_pages detected: num\n",
      "2020-06-15 15:11:02,103 - INFO - 140 - getDataTypes - Datatype for Column half_pages detected: num\n",
      "2020-06-15 15:11:02,332 - INFO - 140 - getDataTypes - Datatype for Column bx_pubdate detected: date\n",
      "2020-06-15 15:11:02,434 - INFO - 140 - getDataTypes - Datatype for Column half_pubdate detected: date\n",
      "2020-06-15 15:11:03,055 - INFO - 140 - getDataTypes - Datatype for Column bx_publisher detected: str\n",
      "2020-06-15 15:11:03,578 - INFO - 140 - getDataTypes - Datatype for Column half_publisher detected: str\n",
      "2020-06-15 15:11:04,233 - INFO - 140 - getDataTypes - Datatype for Column bx_title detected: str\n",
      "2020-06-15 15:11:04,786 - INFO - 140 - getDataTypes - Datatype for Column half_title detected: str\n",
      "2020-06-15 15:11:04,787 - INFO - 256 - returnAlignedDataTypeSchema - Start with ban_wor\n",
      "2020-06-15 15:11:04,789 - INFO - 84 - getDataTypes - Start detecting datatypes for all columns of dataframe:\n",
      "2020-06-15 15:11:06,070 - INFO - 140 - getDataTypes - Datatype for Column ban_author detected: str\n",
      "2020-06-15 15:11:07,167 - INFO - 140 - getDataTypes - Datatype for Column wor_author detected: str\n",
      "2020-06-15 15:11:07,170 - INFO - 109 - getDataTypes - Datatype for Column ban_binding detected: custom\n",
      "2020-06-15 15:11:07,175 - INFO - 109 - getDataTypes - Datatype for Column wor_binding detected: custom\n",
      "2020-06-15 15:11:08,308 - INFO - 140 - getDataTypes - Datatype for Column ban_pages detected: num\n",
      "2020-06-15 15:11:09,441 - INFO - 140 - getDataTypes - Datatype for Column wor_pages detected: num\n",
      "2020-06-15 15:11:09,739 - INFO - 140 - getDataTypes - Datatype for Column ban_pubdate detected: date\n",
      "2020-06-15 15:11:09,775 - INFO - 140 - getDataTypes - Datatype for Column wor_pubdate detected: date\n",
      "2020-06-15 15:11:10,762 - INFO - 140 - getDataTypes - Datatype for Column ban_publisher detected: str\n",
      "2020-06-15 15:11:11,731 - INFO - 140 - getDataTypes - Datatype for Column wor_publisher detected: str\n",
      "2020-06-15 15:11:12,709 - INFO - 140 - getDataTypes - Datatype for Column ban_title detected: str\n",
      "2020-06-15 15:11:13,656 - INFO - 140 - getDataTypes - Datatype for Column wor_title detected: str\n",
      "2020-06-15 15:11:13,657 - INFO - 256 - returnAlignedDataTypeSchema - Start with ban_bx\n",
      "2020-06-15 15:11:13,658 - INFO - 84 - getDataTypes - Start detecting datatypes for all columns of dataframe:\n",
      "2020-06-15 15:11:14,424 - INFO - 140 - getDataTypes - Datatype for Column ban_author detected: str\n",
      "2020-06-15 15:11:15,060 - INFO - 140 - getDataTypes - Datatype for Column bx_author detected: str\n",
      "2020-06-15 15:11:15,064 - INFO - 109 - getDataTypes - Datatype for Column ban_binding detected: custom\n",
      "2020-06-15 15:11:15,067 - INFO - 109 - getDataTypes - Datatype for Column bx_binding detected: custom\n",
      "2020-06-15 15:11:15,689 - INFO - 140 - getDataTypes - Datatype for Column ban_pages detected: num\n",
      "2020-06-15 15:11:16,388 - INFO - 140 - getDataTypes - Datatype for Column bx_pages detected: num\n",
      "2020-06-15 15:11:16,585 - INFO - 140 - getDataTypes - Datatype for Column ban_pubdate detected: date\n",
      "2020-06-15 15:11:16,911 - INFO - 140 - getDataTypes - Datatype for Column bx_pubdate detected: date\n",
      "2020-06-15 15:11:17,578 - INFO - 140 - getDataTypes - Datatype for Column ban_publisher detected: str\n",
      "2020-06-15 15:11:18,243 - INFO - 140 - getDataTypes - Datatype for Column bx_publisher detected: str\n",
      "2020-06-15 15:11:18,953 - INFO - 140 - getDataTypes - Datatype for Column ban_title detected: str\n",
      "2020-06-15 15:11:19,736 - INFO - 140 - getDataTypes - Datatype for Column bx_title detected: str\n",
      "2020-06-15 15:11:19,737 - INFO - 256 - returnAlignedDataTypeSchema - Start with wor_half\n",
      "2020-06-15 15:11:19,738 - INFO - 84 - getDataTypes - Start detecting datatypes for all columns of dataframe:\n",
      "2020-06-15 15:11:21,048 - INFO - 140 - getDataTypes - Datatype for Column wor_author detected: str\n",
      "2020-06-15 15:11:22,283 - INFO - 140 - getDataTypes - Datatype for Column half_author detected: str\n",
      "2020-06-15 15:11:22,288 - INFO - 109 - getDataTypes - Datatype for Column wor_binding detected: custom\n",
      "2020-06-15 15:11:22,290 - INFO - 109 - getDataTypes - Datatype for Column half_binding detected: custom\n",
      "2020-06-15 15:11:23,485 - INFO - 140 - getDataTypes - Datatype for Column wor_pages detected: num\n",
      "2020-06-15 15:11:24,800 - INFO - 140 - getDataTypes - Datatype for Column half_pages detected: num\n",
      "2020-06-15 15:11:24,848 - INFO - 140 - getDataTypes - Datatype for Column wor_pubdate detected: date\n",
      "2020-06-15 15:11:25,124 - INFO - 140 - getDataTypes - Datatype for Column half_pubdate detected: date\n",
      "2020-06-15 15:11:26,459 - INFO - 140 - getDataTypes - Datatype for Column wor_publisher detected: str\n",
      "2020-06-15 15:11:27,842 - INFO - 140 - getDataTypes - Datatype for Column half_publisher detected: str\n",
      "2020-06-15 15:11:29,068 - INFO - 140 - getDataTypes - Datatype for Column wor_title detected: str\n",
      "2020-06-15 15:11:30,520 - INFO - 140 - getDataTypes - Datatype for Column half_title detected: str\n",
      "2020-06-15 15:11:30,522 - INFO - 256 - returnAlignedDataTypeSchema - Start with ban_half\n",
      "2020-06-15 15:11:30,523 - INFO - 84 - getDataTypes - Start detecting datatypes for all columns of dataframe:\n",
      "2020-06-15 15:11:31,431 - INFO - 140 - getDataTypes - Datatype for Column ban_author detected: str\n",
      "2020-06-15 15:11:32,231 - INFO - 140 - getDataTypes - Datatype for Column half_author detected: str\n",
      "2020-06-15 15:11:32,234 - INFO - 109 - getDataTypes - Datatype for Column ban_binding detected: custom\n",
      "2020-06-15 15:11:32,236 - INFO - 109 - getDataTypes - Datatype for Column half_binding detected: custom\n",
      "2020-06-15 15:11:33,015 - INFO - 140 - getDataTypes - Datatype for Column ban_pages detected: num\n",
      "2020-06-15 15:11:33,926 - INFO - 140 - getDataTypes - Datatype for Column half_pages detected: num\n",
      "2020-06-15 15:11:34,268 - INFO - 140 - getDataTypes - Datatype for Column ban_pubdate detected: date\n",
      "2020-06-15 15:11:34,426 - INFO - 140 - getDataTypes - Datatype for Column half_pubdate detected: date\n",
      "2020-06-15 15:11:35,427 - INFO - 140 - getDataTypes - Datatype for Column ban_publisher detected: str\n",
      "2020-06-15 15:11:36,402 - INFO - 140 - getDataTypes - Datatype for Column half_publisher detected: str\n"
     ]
    },
    {
     "name": "stderr",
     "output_type": "stream",
     "text": [
      "2020-06-15 15:11:37,294 - INFO - 140 - getDataTypes - Datatype for Column ban_title detected: str\n",
      "2020-06-15 15:11:38,283 - INFO - 140 - getDataTypes - Datatype for Column half_title detected: str\n"
     ]
    }
   ],
   "source": [
    "type_per_column = returnAlignedDataTypeSchema(candset_dict,lst_of_ids_to_be_removed=['id','label','isbn'])"
   ]
  },
  {
   "cell_type": "code",
   "execution_count": 34,
   "metadata": {},
   "outputs": [
    {
     "data": {
      "text/plain": [
       "{'author': 'str',\n",
       " 'binding': 'custom',\n",
       " 'pages': 'num',\n",
       " 'pubdate': 'date',\n",
       " 'publisher': 'str',\n",
       " 'title': 'str'}"
      ]
     },
     "execution_count": 34,
     "metadata": {},
     "output_type": "execute_result"
    }
   ],
   "source": [
    "type_per_column"
   ]
  },
  {
   "cell_type": "code",
   "execution_count": 35,
   "metadata": {},
   "outputs": [
    {
     "name": "stdout",
     "output_type": "stream",
     "text": [
      "Saved in ../input/books_type_per_column.json\n"
     ]
    }
   ],
   "source": [
    "sup.saveResultsToJSON(type_per_column,'../input/books_type_per_column')"
   ]
  },
  {
   "cell_type": "code",
   "execution_count": 36,
   "metadata": {
    "scrolled": false
   },
   "outputs": [
    {
     "name": "stderr",
     "output_type": "stream",
     "text": [
      "2020-06-15 15:25:03,675 - WARNING - 934 - returnLabeledFeatureVectorsForCandidateSet - bx for the left source as name assigned. Check if correct!\n",
      "2020-06-15 15:25:03,677 - WARNING - 936 - returnLabeledFeatureVectorsForCandidateSet - wor for the right source as name assigned. Check if correct!\n",
      "2020-06-15 15:25:03,678 - INFO - 961 - createLabeledFeatureVectorForCandidateSets - Start Function\n",
      "2020-06-15 15:25:05,096 - INFO - 984 - createLabeledFeatureVectorForCandidateSets - Common attributes identified!\n",
      "2020-06-15 15:25:05,097 - INFO - 1007 - createLabeledFeatureVectorForCandidateSets - bx_title\n",
      "2020-06-15 15:25:05,099 - INFO - 1009 - createLabeledFeatureVectorForCandidateSets - wor_title\n",
      "2020-06-15 15:25:12,291 - INFO - 1007 - createLabeledFeatureVectorForCandidateSets - bx_author\n",
      "2020-06-15 15:25:12,295 - INFO - 1009 - createLabeledFeatureVectorForCandidateSets - wor_author\n",
      "2020-06-15 15:25:18,555 - INFO - 1007 - createLabeledFeatureVectorForCandidateSets - bx_pages\n",
      "2020-06-15 15:25:18,558 - INFO - 1009 - createLabeledFeatureVectorForCandidateSets - wor_pages\n",
      "2020-06-15 15:25:19,285 - INFO - 1007 - createLabeledFeatureVectorForCandidateSets - bx_pubdate\n",
      "2020-06-15 15:25:19,289 - INFO - 1009 - createLabeledFeatureVectorForCandidateSets - wor_pubdate\n",
      "2020-06-15 15:25:29,920 - INFO - 1007 - createLabeledFeatureVectorForCandidateSets - bx_binding\n",
      "2020-06-15 15:25:29,923 - INFO - 1009 - createLabeledFeatureVectorForCandidateSets - wor_binding\n",
      "2020-06-15 15:25:30,991 - INFO - 1007 - createLabeledFeatureVectorForCandidateSets - bx_publisher\n",
      "2020-06-15 15:25:30,994 - INFO - 1009 - createLabeledFeatureVectorForCandidateSets - wor_publisher\n",
      "2020-06-15 15:25:36,805 - INFO - 1012 - createLabeledFeatureVectorForCandidateSets - \n",
      "Finished! Labeled Feature Vectors created for bx and wor\n",
      "2020-06-15 15:25:36,807 - WARNING - 934 - returnLabeledFeatureVectorsForCandidateSet - bx for the left source as name assigned. Check if correct!\n",
      "2020-06-15 15:25:36,809 - WARNING - 936 - returnLabeledFeatureVectorsForCandidateSet - half for the right source as name assigned. Check if correct!\n",
      "2020-06-15 15:25:36,810 - INFO - 961 - createLabeledFeatureVectorForCandidateSets - Start Function\n",
      "2020-06-15 15:25:36,884 - INFO - 984 - createLabeledFeatureVectorForCandidateSets - Common attributes identified!\n",
      "2020-06-15 15:25:36,885 - INFO - 1007 - createLabeledFeatureVectorForCandidateSets - bx_title\n",
      "2020-06-15 15:25:36,888 - INFO - 1009 - createLabeledFeatureVectorForCandidateSets - half_title\n",
      "2020-06-15 15:25:37,241 - INFO - 1007 - createLabeledFeatureVectorForCandidateSets - bx_author\n",
      "2020-06-15 15:25:37,243 - INFO - 1009 - createLabeledFeatureVectorForCandidateSets - half_author\n",
      "2020-06-15 15:25:37,608 - INFO - 1007 - createLabeledFeatureVectorForCandidateSets - bx_pages\n",
      "2020-06-15 15:25:37,611 - INFO - 1009 - createLabeledFeatureVectorForCandidateSets - half_pages\n",
      "2020-06-15 15:25:37,668 - INFO - 1007 - createLabeledFeatureVectorForCandidateSets - bx_pubdate\n",
      "2020-06-15 15:25:37,670 - INFO - 1009 - createLabeledFeatureVectorForCandidateSets - half_pubdate\n",
      "2020-06-15 15:25:38,540 - INFO - 1007 - createLabeledFeatureVectorForCandidateSets - bx_binding\n",
      "2020-06-15 15:25:38,544 - INFO - 1009 - createLabeledFeatureVectorForCandidateSets - half_binding\n",
      "2020-06-15 15:25:38,600 - INFO - 1007 - createLabeledFeatureVectorForCandidateSets - bx_publisher\n",
      "2020-06-15 15:25:38,602 - INFO - 1009 - createLabeledFeatureVectorForCandidateSets - half_publisher\n",
      "2020-06-15 15:25:38,969 - INFO - 1012 - createLabeledFeatureVectorForCandidateSets - \n",
      "Finished! Labeled Feature Vectors created for bx and half\n",
      "2020-06-15 15:25:38,970 - WARNING - 934 - returnLabeledFeatureVectorsForCandidateSet - ban for the left source as name assigned. Check if correct!\n",
      "2020-06-15 15:25:38,971 - WARNING - 936 - returnLabeledFeatureVectorsForCandidateSet - wor for the right source as name assigned. Check if correct!\n",
      "2020-06-15 15:25:38,972 - INFO - 961 - createLabeledFeatureVectorForCandidateSets - Start Function\n",
      "2020-06-15 15:25:39,109 - INFO - 984 - createLabeledFeatureVectorForCandidateSets - Common attributes identified!\n",
      "2020-06-15 15:25:39,110 - INFO - 1007 - createLabeledFeatureVectorForCandidateSets - ban_title\n",
      "2020-06-15 15:25:39,112 - INFO - 1009 - createLabeledFeatureVectorForCandidateSets - wor_title\n",
      "2020-06-15 15:25:39,878 - INFO - 1007 - createLabeledFeatureVectorForCandidateSets - ban_author\n",
      "2020-06-15 15:25:39,880 - INFO - 1009 - createLabeledFeatureVectorForCandidateSets - wor_author\n",
      "2020-06-15 15:25:40,599 - INFO - 1007 - createLabeledFeatureVectorForCandidateSets - ban_pages\n",
      "2020-06-15 15:25:40,602 - INFO - 1009 - createLabeledFeatureVectorForCandidateSets - wor_pages\n",
      "2020-06-15 15:25:40,704 - INFO - 1007 - createLabeledFeatureVectorForCandidateSets - ban_pubdate\n",
      "2020-06-15 15:25:40,706 - INFO - 1009 - createLabeledFeatureVectorForCandidateSets - wor_pubdate\n",
      "2020-06-15 15:25:41,954 - INFO - 1007 - createLabeledFeatureVectorForCandidateSets - ban_binding\n",
      "2020-06-15 15:25:41,957 - INFO - 1009 - createLabeledFeatureVectorForCandidateSets - wor_binding\n",
      "2020-06-15 15:25:42,053 - INFO - 1007 - createLabeledFeatureVectorForCandidateSets - ban_publisher\n",
      "2020-06-15 15:25:42,056 - INFO - 1009 - createLabeledFeatureVectorForCandidateSets - wor_publisher\n",
      "2020-06-15 15:25:42,767 - INFO - 1012 - createLabeledFeatureVectorForCandidateSets - \n",
      "Finished! Labeled Feature Vectors created for ban and wor\n",
      "2020-06-15 15:25:42,769 - WARNING - 934 - returnLabeledFeatureVectorsForCandidateSet - ban for the left source as name assigned. Check if correct!\n",
      "2020-06-15 15:25:42,770 - WARNING - 936 - returnLabeledFeatureVectorsForCandidateSet - bx for the right source as name assigned. Check if correct!\n",
      "2020-06-15 15:25:42,771 - INFO - 961 - createLabeledFeatureVectorForCandidateSets - Start Function\n",
      "2020-06-15 15:25:42,890 - INFO - 984 - createLabeledFeatureVectorForCandidateSets - Common attributes identified!\n",
      "2020-06-15 15:25:42,892 - INFO - 1007 - createLabeledFeatureVectorForCandidateSets - ban_title\n",
      "2020-06-15 15:25:42,896 - INFO - 1009 - createLabeledFeatureVectorForCandidateSets - bx_title\n",
      "2020-06-15 15:25:43,468 - INFO - 1007 - createLabeledFeatureVectorForCandidateSets - ban_author\n",
      "2020-06-15 15:25:43,470 - INFO - 1009 - createLabeledFeatureVectorForCandidateSets - bx_author\n",
      "2020-06-15 15:25:43,879 - INFO - 1007 - createLabeledFeatureVectorForCandidateSets - ban_pages\n",
      "2020-06-15 15:25:43,881 - INFO - 1009 - createLabeledFeatureVectorForCandidateSets - bx_pages\n",
      "2020-06-15 15:25:43,942 - INFO - 1007 - createLabeledFeatureVectorForCandidateSets - ban_pubdate\n",
      "2020-06-15 15:25:43,944 - INFO - 1009 - createLabeledFeatureVectorForCandidateSets - bx_pubdate\n",
      "2020-06-15 15:25:45,133 - INFO - 1007 - createLabeledFeatureVectorForCandidateSets - ban_binding\n",
      "2020-06-15 15:25:45,136 - INFO - 1009 - createLabeledFeatureVectorForCandidateSets - bx_binding\n",
      "2020-06-15 15:25:45,206 - INFO - 1007 - createLabeledFeatureVectorForCandidateSets - ban_publisher\n",
      "2020-06-15 15:25:45,208 - INFO - 1009 - createLabeledFeatureVectorForCandidateSets - bx_publisher\n",
      "2020-06-15 15:25:45,653 - INFO - 1012 - createLabeledFeatureVectorForCandidateSets - \n",
      "Finished! Labeled Feature Vectors created for ban and bx\n",
      "2020-06-15 15:25:45,654 - WARNING - 934 - returnLabeledFeatureVectorsForCandidateSet - wor for the left source as name assigned. Check if correct!\n",
      "2020-06-15 15:25:45,655 - WARNING - 936 - returnLabeledFeatureVectorsForCandidateSet - half for the right source as name assigned. Check if correct!\n",
      "2020-06-15 15:25:45,655 - INFO - 961 - createLabeledFeatureVectorForCandidateSets - Start Function\n",
      "2020-06-15 15:25:45,944 - INFO - 984 - createLabeledFeatureVectorForCandidateSets - Common attributes identified!\n",
      "2020-06-15 15:25:45,945 - INFO - 1007 - createLabeledFeatureVectorForCandidateSets - wor_title\n",
      "2020-06-15 15:25:45,948 - INFO - 1009 - createLabeledFeatureVectorForCandidateSets - half_title\n",
      "2020-06-15 15:25:46,931 - INFO - 1007 - createLabeledFeatureVectorForCandidateSets - wor_author\n",
      "2020-06-15 15:25:46,933 - INFO - 1009 - createLabeledFeatureVectorForCandidateSets - half_author\n",
      "2020-06-15 15:25:47,811 - INFO - 1007 - createLabeledFeatureVectorForCandidateSets - wor_pages\n"
     ]
    },
    {
     "name": "stderr",
     "output_type": "stream",
     "text": [
      "2020-06-15 15:25:47,813 - INFO - 1009 - createLabeledFeatureVectorForCandidateSets - half_pages\n",
      "2020-06-15 15:25:47,932 - INFO - 1007 - createLabeledFeatureVectorForCandidateSets - wor_pubdate\n",
      "2020-06-15 15:25:47,935 - INFO - 1009 - createLabeledFeatureVectorForCandidateSets - half_pubdate\n",
      "2020-06-15 15:25:49,249 - INFO - 1007 - createLabeledFeatureVectorForCandidateSets - wor_binding\n",
      "2020-06-15 15:25:49,252 - INFO - 1009 - createLabeledFeatureVectorForCandidateSets - half_binding\n",
      "2020-06-15 15:25:49,363 - INFO - 1007 - createLabeledFeatureVectorForCandidateSets - wor_publisher\n",
      "2020-06-15 15:25:49,365 - INFO - 1009 - createLabeledFeatureVectorForCandidateSets - half_publisher\n",
      "2020-06-15 15:25:50,533 - INFO - 1012 - createLabeledFeatureVectorForCandidateSets - \n",
      "Finished! Labeled Feature Vectors created for wor and half\n",
      "2020-06-15 15:25:50,535 - WARNING - 934 - returnLabeledFeatureVectorsForCandidateSet - ban for the left source as name assigned. Check if correct!\n",
      "2020-06-15 15:25:50,536 - WARNING - 936 - returnLabeledFeatureVectorsForCandidateSet - half for the right source as name assigned. Check if correct!\n",
      "2020-06-15 15:25:50,537 - INFO - 961 - createLabeledFeatureVectorForCandidateSets - Start Function\n",
      "2020-06-15 15:25:50,677 - INFO - 984 - createLabeledFeatureVectorForCandidateSets - Common attributes identified!\n",
      "2020-06-15 15:25:50,679 - INFO - 1007 - createLabeledFeatureVectorForCandidateSets - ban_title\n",
      "2020-06-15 15:25:50,681 - INFO - 1009 - createLabeledFeatureVectorForCandidateSets - half_title\n",
      "2020-06-15 15:25:51,314 - INFO - 1007 - createLabeledFeatureVectorForCandidateSets - ban_author\n",
      "2020-06-15 15:25:51,317 - INFO - 1009 - createLabeledFeatureVectorForCandidateSets - half_author\n",
      "2020-06-15 15:25:51,879 - INFO - 1007 - createLabeledFeatureVectorForCandidateSets - ban_pages\n",
      "2020-06-15 15:25:51,882 - INFO - 1009 - createLabeledFeatureVectorForCandidateSets - half_pages\n",
      "2020-06-15 15:25:51,966 - INFO - 1007 - createLabeledFeatureVectorForCandidateSets - ban_pubdate\n",
      "2020-06-15 15:25:51,969 - INFO - 1009 - createLabeledFeatureVectorForCandidateSets - half_pubdate\n",
      "2020-06-15 15:25:53,461 - INFO - 1007 - createLabeledFeatureVectorForCandidateSets - ban_binding\n",
      "2020-06-15 15:25:53,463 - INFO - 1009 - createLabeledFeatureVectorForCandidateSets - half_binding\n",
      "2020-06-15 15:25:53,538 - INFO - 1007 - createLabeledFeatureVectorForCandidateSets - ban_publisher\n",
      "2020-06-15 15:25:53,541 - INFO - 1009 - createLabeledFeatureVectorForCandidateSets - half_publisher\n",
      "2020-06-15 15:25:54,145 - INFO - 1012 - createLabeledFeatureVectorForCandidateSets - \n",
      "Finished! Labeled Feature Vectors created for ban and half\n",
      "2020-06-15 15:25:54,147 - INFO - 939 - returnLabeledFeatureVectorsForCandidateSet - \n",
      "Finished! All labeled feature vectors are created for all dataset combinations\n"
     ]
    }
   ],
   "source": [
    "# columns to be ignored are all columns that are not related to any single attribute \n",
    "candset_feature_dict = returnLabeledFeatureVectorsForCandidateSet(candset_dict, type_per_column, columns_to_be_ignored=['ids','label','isbn'], identifier='id')"
   ]
  },
  {
   "cell_type": "markdown",
   "metadata": {},
   "source": [
    "### Rescale the features"
   ]
  },
  {
   "cell_type": "code",
   "execution_count": 39,
   "metadata": {},
   "outputs": [
    {
     "name": "stderr",
     "output_type": "stream",
     "text": [
      "2020-06-15 15:27:51,849 - INFO - 1043 - rescaleFeatureVectorsInDict - Rescaling feature dataframes within the dictionary\n",
      "2020-06-15 15:27:51,852 - INFO - 1023 - rescaleFeatureVectors - Rescaling features to be in range [0,1] and for features that end with diff we additionally reverse the score\n",
      "2020-06-15 15:27:51,896 - INFO - 1029 - rescaleFeatureVectors - Column pages_num_abs_diff will additionally be reversed so 1 - rescaled score\n",
      "2020-06-15 15:27:51,908 - INFO - 1029 - rescaleFeatureVectors - Column pubdate_days_diff will additionally be reversed so 1 - rescaled score\n",
      "2020-06-15 15:27:51,915 - INFO - 1029 - rescaleFeatureVectors - Column pubdate_months_diff will additionally be reversed so 1 - rescaled score\n",
      "2020-06-15 15:27:51,921 - INFO - 1029 - rescaleFeatureVectors - Column pubdate_years_diff will additionally be reversed so 1 - rescaled score\n",
      "2020-06-15 15:27:51,941 - INFO - 1033 - rescaleFeatureVectors - All features from the frature_vector dataframe are now rescaled inplace\n",
      "2020-06-15 15:27:51,942 - INFO - 1023 - rescaleFeatureVectors - Rescaling features to be in range [0,1] and for features that end with diff we additionally reverse the score\n",
      "2020-06-15 15:27:51,967 - INFO - 1029 - rescaleFeatureVectors - Column pages_num_abs_diff will additionally be reversed so 1 - rescaled score\n",
      "2020-06-15 15:27:51,971 - INFO - 1029 - rescaleFeatureVectors - Column pubdate_days_diff will additionally be reversed so 1 - rescaled score\n",
      "2020-06-15 15:27:51,974 - INFO - 1029 - rescaleFeatureVectors - Column pubdate_months_diff will additionally be reversed so 1 - rescaled score\n",
      "2020-06-15 15:27:51,978 - INFO - 1029 - rescaleFeatureVectors - Column pubdate_years_diff will additionally be reversed so 1 - rescaled score\n",
      "2020-06-15 15:27:51,990 - INFO - 1033 - rescaleFeatureVectors - All features from the frature_vector dataframe are now rescaled inplace\n",
      "2020-06-15 15:27:51,990 - INFO - 1023 - rescaleFeatureVectors - Rescaling features to be in range [0,1] and for features that end with diff we additionally reverse the score\n",
      "2020-06-15 15:27:52,008 - INFO - 1029 - rescaleFeatureVectors - Column pages_num_abs_diff will additionally be reversed so 1 - rescaled score\n",
      "2020-06-15 15:27:52,012 - INFO - 1029 - rescaleFeatureVectors - Column pubdate_days_diff will additionally be reversed so 1 - rescaled score\n",
      "2020-06-15 15:27:52,016 - INFO - 1029 - rescaleFeatureVectors - Column pubdate_months_diff will additionally be reversed so 1 - rescaled score\n",
      "2020-06-15 15:27:52,021 - INFO - 1029 - rescaleFeatureVectors - Column pubdate_years_diff will additionally be reversed so 1 - rescaled score\n",
      "2020-06-15 15:27:52,034 - INFO - 1033 - rescaleFeatureVectors - All features from the frature_vector dataframe are now rescaled inplace\n",
      "2020-06-15 15:27:52,035 - INFO - 1023 - rescaleFeatureVectors - Rescaling features to be in range [0,1] and for features that end with diff we additionally reverse the score\n",
      "2020-06-15 15:27:52,055 - INFO - 1029 - rescaleFeatureVectors - Column pages_num_abs_diff will additionally be reversed so 1 - rescaled score\n",
      "2020-06-15 15:27:52,061 - INFO - 1029 - rescaleFeatureVectors - Column pubdate_days_diff will additionally be reversed so 1 - rescaled score\n",
      "2020-06-15 15:27:52,064 - INFO - 1029 - rescaleFeatureVectors - Column pubdate_months_diff will additionally be reversed so 1 - rescaled score\n",
      "2020-06-15 15:27:52,069 - INFO - 1029 - rescaleFeatureVectors - Column pubdate_years_diff will additionally be reversed so 1 - rescaled score\n",
      "2020-06-15 15:27:52,082 - INFO - 1033 - rescaleFeatureVectors - All features from the frature_vector dataframe are now rescaled inplace\n",
      "2020-06-15 15:27:52,083 - INFO - 1023 - rescaleFeatureVectors - Rescaling features to be in range [0,1] and for features that end with diff we additionally reverse the score\n",
      "2020-06-15 15:27:52,104 - INFO - 1029 - rescaleFeatureVectors - Column pages_num_abs_diff will additionally be reversed so 1 - rescaled score\n",
      "2020-06-15 15:27:52,109 - INFO - 1029 - rescaleFeatureVectors - Column pubdate_days_diff will additionally be reversed so 1 - rescaled score\n",
      "2020-06-15 15:27:52,114 - INFO - 1029 - rescaleFeatureVectors - Column pubdate_months_diff will additionally be reversed so 1 - rescaled score\n",
      "2020-06-15 15:27:52,118 - INFO - 1029 - rescaleFeatureVectors - Column pubdate_years_diff will additionally be reversed so 1 - rescaled score\n",
      "2020-06-15 15:27:52,130 - INFO - 1033 - rescaleFeatureVectors - All features from the frature_vector dataframe are now rescaled inplace\n",
      "2020-06-15 15:27:52,131 - INFO - 1023 - rescaleFeatureVectors - Rescaling features to be in range [0,1] and for features that end with diff we additionally reverse the score\n",
      "2020-06-15 15:27:52,152 - INFO - 1029 - rescaleFeatureVectors - Column pages_num_abs_diff will additionally be reversed so 1 - rescaled score\n",
      "2020-06-15 15:27:52,157 - INFO - 1029 - rescaleFeatureVectors - Column pubdate_days_diff will additionally be reversed so 1 - rescaled score\n",
      "2020-06-15 15:27:52,162 - INFO - 1029 - rescaleFeatureVectors - Column pubdate_months_diff will additionally be reversed so 1 - rescaled score\n",
      "2020-06-15 15:27:52,166 - INFO - 1029 - rescaleFeatureVectors - Column pubdate_years_diff will additionally be reversed so 1 - rescaled score\n",
      "2020-06-15 15:27:52,178 - INFO - 1033 - rescaleFeatureVectors - All features from the frature_vector dataframe are now rescaled inplace\n",
      "2020-06-15 15:27:52,179 - INFO - 1048 - rescaleFeatureVectorsInDict - All feature vectors within dictionary are now rescaled inplace\n"
     ]
    }
   ],
   "source": [
    "rescaleFeatureVectorsInDict(candset_feature_dict,col_to_be_ignored=['ids', 'label'])"
   ]
  },
  {
   "cell_type": "code",
   "execution_count": 41,
   "metadata": {},
   "outputs": [],
   "source": [
    "for df in candset_feature_dict:\n",
    "    candset_feature_dict[df].to_csv(f'../../candsets/books/candset_{df}.csv',index=False)"
   ]
  },
  {
   "cell_type": "markdown",
   "metadata": {},
   "source": [
    "### Making train and test split"
   ]
  },
  {
   "cell_type": "code",
   "execution_count": 42,
   "metadata": {},
   "outputs": [],
   "source": [
    "random_state = 42\n",
    "test_size = 0.33\n",
    "candset_dict_train = {}\n",
    "candset_dict_test = {}\n",
    "for df in candset_feature_dict:\n",
    "    X = candset_feature_dict[df].drop(columns='label')\n",
    "    y = candset_feature_dict[df]['label']\n",
    "    X_train, X_test, y_train, y_test = train_test_split(X.copy(),y.copy(),random_state=random_state,\n",
    "                                                        test_size=test_size,stratify=y)\n",
    "    X_train['label'] = y_train.copy()\n",
    "    candset_dict_train.update({df:X_train.reset_index(drop=True)})\n",
    "    X_train.to_csv(f'../../candsets/books/candset_{df}_train.csv',index=False)\n",
    "    X_test['label'] = y_test.copy()\n",
    "    candset_dict_test.update({df:X_test.reset_index(drop=True)})\n",
    "    X_test.to_csv(f'../../candsets/books/candset_{df}_test.csv',index=False)"
   ]
  }
 ],
 "metadata": {
  "kernelspec": {
   "display_name": "Python [conda env:mag]",
   "language": "python",
   "name": "conda-env-mag-py"
  },
  "language_info": {
   "codemirror_mode": {
    "name": "ipython",
    "version": 3
   },
   "file_extension": ".py",
   "mimetype": "text/x-python",
   "name": "python",
   "nbconvert_exporter": "python",
   "pygments_lexer": "ipython3",
   "version": "3.6.10"
  },
  "notify_time": "30",
  "varInspector": {
   "cols": {
    "lenName": 16,
    "lenType": 16,
    "lenVar": 40
   },
   "kernels_config": {
    "python": {
     "delete_cmd_postfix": "",
     "delete_cmd_prefix": "del ",
     "library": "var_list.py",
     "varRefreshCmd": "print(var_dic_list())"
    },
    "r": {
     "delete_cmd_postfix": ") ",
     "delete_cmd_prefix": "rm(",
     "library": "var_list.r",
     "varRefreshCmd": "cat(var_dic_list()) "
    }
   },
   "position": {
    "height": "731.198px",
    "left": "1590.94px",
    "right": "20px",
    "top": "18.9236px",
    "width": "508.455px"
   },
   "types_to_exclude": [
    "module",
    "function",
    "builtin_function_or_method",
    "instance",
    "_Feature"
   ],
   "window_display": false
  }
 },
 "nbformat": 4,
 "nbformat_minor": 2
}
