{
 "cells": [
  {
   "cell_type": "code",
   "execution_count": 77,
   "metadata": {},
   "outputs": [
    {
     "name": "stdout",
     "output_type": "stream",
     "text": [
      "The autoreload extension is already loaded. To reload it, use:\n",
      "  %reload_ext autoreload\n"
     ]
    }
   ],
   "source": [
    "%load_ext autoreload\n",
    "%autoreload\n",
    "import pandas as pd\n",
    "import numpy as np\n",
    "import matplotlib.pyplot as plt\n",
    "%matplotlib inline\n",
    "import seaborn as sns\n",
    "\n",
    "from sklearn.linear_model import LogisticRegressionCV\n",
    "from sklearn.linear_model import LogisticRegression\n",
    "from sklearn.tree import DecisionTreeClassifier\n",
    "from sklearn.ensemble import RandomForestClassifier\n",
    "from sklearn.svm import SVC\n",
    "from sklearn.gaussian_process import GaussianProcessClassifier\n",
    "import xgboost as xgb\n",
    "from sklearn.metrics import classification_report\n",
    "\n",
    "import sys\n",
    "sys.path.append('../')\n",
    "import support_utils as sup\n",
    "import data_explore_utils as dex"
   ]
  },
  {
   "cell_type": "code",
   "execution_count": 78,
   "metadata": {},
   "outputs": [],
   "source": [
    "pd.set_option('display.max_columns',100)\n",
    "pd.set_option('display.max_colwidth', None)\n",
    "pd.set_option('display.max_rows',300)"
   ]
  },
  {
   "cell_type": "code",
   "execution_count": 79,
   "metadata": {},
   "outputs": [],
   "source": [
    "from matplotlib import style\n",
    "style.use('seaborn-dark')"
   ]
  },
  {
   "cell_type": "markdown",
   "metadata": {},
   "source": [
    "## Read in Candsets With Features"
   ]
  },
  {
   "cell_type": "code",
   "execution_count": 133,
   "metadata": {},
   "outputs": [],
   "source": [
    "# see DocString of readDataInDictionary() function for information\n",
    "\n",
    "# ***CHANGE THE FOLLOWING VARIABLES IF STH CHANGED***\n",
    "path_to_directory = '../../candsets/home/_archive/v6/'\n",
    "pattern_of_filename = 'candset_feature_(.{3,5}_.{2,4})'\n",
    "sep = ','\n",
    "# ***********************************************\n",
    "\n",
    "candsets_feature = sup.readDataInDictionary(path_to_directory,pattern_of_filename,sep)"
   ]
  },
  {
   "cell_type": "code",
   "execution_count": 134,
   "metadata": {},
   "outputs": [
    {
     "data": {
      "text/plain": [
       "dict_keys(['katom_cdi', 'rewo_cdi', 'katom_rewo'])"
      ]
     },
     "execution_count": 134,
     "metadata": {},
     "output_type": "execute_result"
    }
   ],
   "source": [
    "candsets_feature.keys()"
   ]
  },
  {
   "cell_type": "markdown",
   "metadata": {},
   "source": [
    "### Read in the org Datasets"
   ]
  },
  {
   "cell_type": "code",
   "execution_count": 135,
   "metadata": {},
   "outputs": [],
   "source": [
    "# ***CHANGE THE FOLLOWING VARIABLES IF STH CHANGED***\n",
    "path_to_directory = '../../datasets/home/_archive/v2/'\n",
    "pattern_of_filename = '(.{2,5})'\n",
    "sep = ','\n",
    "# ***********************************************\n",
    "\n",
    "datasets = sup.readDataInDictionary(path_to_directory,pattern_of_filename,sep)"
   ]
  },
  {
   "cell_type": "code",
   "execution_count": 136,
   "metadata": {
    "scrolled": true
   },
   "outputs": [
    {
     "data": {
      "text/plain": [
       "dict_keys(['katom', 'rewo', 'cdi'])"
      ]
     },
     "execution_count": 136,
     "metadata": {},
     "output_type": "execute_result"
    }
   ],
   "source": [
    "datasets.keys()"
   ]
  },
  {
   "cell_type": "code",
   "execution_count": 137,
   "metadata": {},
   "outputs": [],
   "source": [
    "# getting the orignial attribute values for the candidate feature sets\n",
    "candsets_with_org_attr = sup.getCandsetsWithOrgAttribute(candsets_feature,datasets)"
   ]
  },
  {
   "cell_type": "markdown",
   "metadata": {},
   "source": [
    "#### Feature"
   ]
  },
  {
   "cell_type": "code",
   "execution_count": 85,
   "metadata": {},
   "outputs": [],
   "source": [
    "# 1. Only with the spec. table attributes\n",
    "spec_feature = ['style_cosine_tfidf_sim', 'style_lev_sim',\n",
    "       'style_jac_q3_sim', 'style_jac_an_sim', 'style_rel_jac_an_sim',\n",
    "       'style_containment_sim', 'style_exact_sim', \n",
    "       'product_type_cosine_tfidf_sim', 'product_type_lev_sim',\n",
    "       'product_type_jac_q3_sim', 'product_type_jac_an_sim',\n",
    "       'product_type_rel_jac_an_sim', 'product_type_containment_sim',\n",
    "       'product_type_exact_sim', 'material_lev_sim', 'material_jac_q3_sim',\n",
    "       'material_jac_an_sim', 'material_rel_jac_an_sim',\n",
    "       'material_containment_sim', 'material_exact_sim',\n",
    "       'capacity_lev_sim', 'capacity_jac_q3_sim',\n",
    "       'capacity_jac_an_sim', 'capacity_rel_jac_an_sim',\n",
    "       'capacity_containment_sim', 'capacity_exact_sim', 'shape_lev_sim',\n",
    "       'shape_jac_q3_sim', 'shape_jac_an_sim', 'shape_rel_jac_an_sim',\n",
    "       'shape_containment_sim', 'shape_exact_sim', 'category_lev_sim',\n",
    "       'category_jac_q3_sim', 'category_jac_an_sim', 'category_rel_jac_an_sim',\n",
    "       'category_containment_sim', 'category_exact_sim', 'finish_lev_sim',\n",
    "       'finish_jac_q3_sim', 'finish_jac_an_sim', 'finish_rel_jac_an_sim',\n",
    "       'finish_containment_sim', 'finish_exact_sim', 'color_lev_sim',\n",
    "       'color_jac_q3_sim', 'color_jac_an_sim', 'color_rel_jac_an_sim',\n",
    "       'color_containment_sim', 'color_exact_sim', 'base_cosine_tfidf_sim',\n",
    "       'base_lev_sim', 'base_jac_q3_sim', 'base_jac_an_sim',\n",
    "       'base_rel_jac_an_sim', 'base_containment_sim', 'base_exact_sim',\n",
    "       'height_lev_sim', 'height_jac_q3_sim',\n",
    "       'height_jac_an_sim', 'height_rel_jac_an_sim', 'height_containment_sim',\n",
    "       'height_exact_sim']"
   ]
  },
  {
   "cell_type": "code",
   "execution_count": 86,
   "metadata": {},
   "outputs": [],
   "source": [
    "#  2. Only with titles\n",
    "title_feature = ['title_cosine_tfidf_sim', 'title_lev_sim', 'title_jac_q3_sim','title_jac_an_sim', 'title_rel_jac_an_sim', 'title_containment_sim','title_exact_sim']"
   ]
  },
  {
   "cell_type": "code",
   "execution_count": 87,
   "metadata": {},
   "outputs": [],
   "source": [
    "#  2. Only with titles\n",
    "desc_feature = ['description_cosine_tfidf_sim', 'description_lev_sim','description_jac_q3_sim', 'description_jac_an_sim',\n",
    "                'description_rel_jac_an_sim', 'description_containment_sim','description_exact_sim']"
   ]
  },
  {
   "cell_type": "code",
   "execution_count": 88,
   "metadata": {},
   "outputs": [],
   "source": [
    "# 3. Spec table attributes + titles\n",
    "spec_title_feature = ['style_cosine_tfidf_sim', 'style_lev_sim',\n",
    "       'style_jac_q3_sim', 'style_jac_an_sim', 'style_rel_jac_an_sim',\n",
    "       'style_containment_sim', 'style_exact_sim', \n",
    "       'product_type_cosine_tfidf_sim', 'product_type_lev_sim',\n",
    "       'product_type_jac_q3_sim', 'product_type_jac_an_sim',\n",
    "       'product_type_rel_jac_an_sim', 'product_type_containment_sim',\n",
    "       'product_type_exact_sim', 'material_lev_sim', 'material_jac_q3_sim',\n",
    "       'material_jac_an_sim', 'material_rel_jac_an_sim',\n",
    "       'material_containment_sim', 'material_exact_sim',\n",
    "       'capacity_lev_sim', 'capacity_jac_q3_sim',\n",
    "       'capacity_jac_an_sim', 'capacity_rel_jac_an_sim',\n",
    "       'capacity_containment_sim', 'capacity_exact_sim', 'shape_lev_sim',\n",
    "       'shape_jac_q3_sim', 'shape_jac_an_sim', 'shape_rel_jac_an_sim',\n",
    "       'shape_containment_sim', 'shape_exact_sim', 'category_lev_sim',\n",
    "       'category_jac_q3_sim', 'category_jac_an_sim', 'category_rel_jac_an_sim',\n",
    "       'category_containment_sim', 'category_exact_sim', 'finish_lev_sim',\n",
    "       'finish_jac_q3_sim', 'finish_jac_an_sim', 'finish_rel_jac_an_sim',\n",
    "       'finish_containment_sim', 'finish_exact_sim', 'color_lev_sim',\n",
    "       'color_jac_q3_sim', 'color_jac_an_sim', 'color_rel_jac_an_sim',\n",
    "       'color_containment_sim', 'color_exact_sim', 'base_cosine_tfidf_sim',\n",
    "       'base_lev_sim', 'base_jac_q3_sim', 'base_jac_an_sim',\n",
    "       'base_rel_jac_an_sim', 'base_containment_sim', 'base_exact_sim',\n",
    "       'height_lev_sim', 'height_jac_q3_sim',\n",
    "       'height_jac_an_sim', 'height_rel_jac_an_sim', 'height_containment_sim',\n",
    "       'height_exact_sim','title_cosine_tfidf_sim', 'title_lev_sim', \n",
    "       'title_jac_q3_sim','title_jac_an_sim', 'title_rel_jac_an_sim', \n",
    "       'title_containment_sim','title_exact_sim']"
   ]
  },
  {
   "cell_type": "code",
   "execution_count": 89,
   "metadata": {},
   "outputs": [],
   "source": [
    "# 4. Spec table attributes+titles+description+brand+price\n",
    "all_feature = ['capacity_lev_sim', 'capacity_jac_q3_sim',\n",
    "       'capacity_jac_an_sim', 'capacity_rel_jac_an_sim',\n",
    "       'capacity_containment_sim', 'capacity_exact_sim',\n",
    "       'style_cosine_tfidf_sim', 'style_lev_sim', 'style_jac_q3_sim',\n",
    "       'style_jac_an_sim', 'style_rel_jac_an_sim', 'style_containment_sim',\n",
    "       'style_exact_sim', 'base_cosine_tfidf_sim', 'base_lev_sim',\n",
    "       'base_jac_q3_sim', 'base_jac_an_sim', 'base_rel_jac_an_sim',\n",
    "       'base_containment_sim', 'base_exact_sim', 'material_lev_sim',\n",
    "       'material_jac_q3_sim', 'material_jac_an_sim', 'material_rel_jac_an_sim',\n",
    "       'material_containment_sim', 'material_exact_sim', 'brand_lev_sim',\n",
    "       'brand_jac_q3_sim', 'brand_jac_an_sim', 'brand_rel_jac_an_sim',\n",
    "       'brand_containment_sim', 'brand_exact_sim', 'shape_lev_sim',\n",
    "       'shape_jac_q3_sim', 'shape_jac_an_sim', 'shape_rel_jac_an_sim',\n",
    "       'shape_containment_sim', 'shape_exact_sim', 'category_lev_sim',\n",
    "       'category_jac_q3_sim', 'category_jac_an_sim', 'category_rel_jac_an_sim',\n",
    "       'category_containment_sim', 'category_exact_sim',\n",
    "       'title_cosine_tfidf_sim', 'title_lev_sim', 'title_jac_q3_sim',\n",
    "       'title_jac_an_sim', 'title_rel_jac_an_sim', 'title_containment_sim',\n",
    "       'title_exact_sim', 'finish_lev_sim', 'finish_jac_q3_sim',\n",
    "       'finish_jac_an_sim', 'finish_rel_jac_an_sim', 'finish_containment_sim',\n",
    "       'finish_exact_sim', 'product_type_cosine_tfidf_sim',\n",
    "       'product_type_lev_sim', 'product_type_jac_q3_sim',\n",
    "       'product_type_jac_an_sim', 'product_type_rel_jac_an_sim',\n",
    "       'product_type_containment_sim', 'product_type_exact_sim',\n",
    "       'color_lev_sim', 'color_jac_q3_sim', 'color_jac_an_sim',\n",
    "       'color_rel_jac_an_sim', 'color_containment_sim', 'color_exact_sim',\n",
    "       'height_lev_sim', 'height_jac_q3_sim', 'height_jac_an_sim',\n",
    "       'height_rel_jac_an_sim', 'height_containment_sim', 'height_exact_sim',\n",
    "       'description_cosine_tfidf_sim', 'description_lev_sim',\n",
    "       'description_jac_q3_sim', 'description_jac_an_sim',\n",
    "       'description_rel_jac_an_sim', 'description_containment_sim',\n",
    "       'description_exact_sim']"
   ]
  },
  {
   "cell_type": "code",
   "execution_count": 90,
   "metadata": {},
   "outputs": [],
   "source": [
    "spec_desc_brand_feature = ['capacity_lev_sim', 'capacity_jac_q3_sim',\n",
    "       'capacity_jac_an_sim', 'capacity_rel_jac_an_sim',\n",
    "       'capacity_containment_sim', 'capacity_exact_sim',\n",
    "       'style_cosine_tfidf_sim', 'style_lev_sim', 'style_jac_q3_sim',\n",
    "       'style_jac_an_sim', 'style_rel_jac_an_sim', 'style_containment_sim',\n",
    "       'style_exact_sim', 'base_cosine_tfidf_sim', 'base_lev_sim',\n",
    "       'base_jac_q3_sim', 'base_jac_an_sim', 'base_rel_jac_an_sim',\n",
    "       'base_containment_sim', 'base_exact_sim', 'material_lev_sim',\n",
    "       'material_jac_q3_sim', 'material_jac_an_sim', 'material_rel_jac_an_sim',\n",
    "       'material_containment_sim', 'material_exact_sim', 'brand_lev_sim',\n",
    "       'brand_jac_q3_sim', 'brand_jac_an_sim', 'brand_rel_jac_an_sim',\n",
    "       'brand_containment_sim', 'brand_exact_sim', 'shape_lev_sim',\n",
    "       'shape_jac_q3_sim', 'shape_jac_an_sim', 'shape_rel_jac_an_sim',\n",
    "       'shape_containment_sim', 'shape_exact_sim', 'category_lev_sim',\n",
    "       'category_jac_q3_sim', 'category_jac_an_sim', 'category_rel_jac_an_sim',\n",
    "       'category_containment_sim', 'category_exact_sim',\n",
    "       'finish_lev_sim', 'finish_jac_q3_sim',\n",
    "       'finish_jac_an_sim', 'finish_rel_jac_an_sim', 'finish_containment_sim',\n",
    "       'finish_exact_sim', 'product_type_cosine_tfidf_sim',\n",
    "       'product_type_lev_sim', 'product_type_jac_q3_sim',\n",
    "       'product_type_jac_an_sim', 'product_type_rel_jac_an_sim',\n",
    "       'product_type_containment_sim', 'product_type_exact_sim',\n",
    "       'color_lev_sim', 'color_jac_q3_sim', 'color_jac_an_sim',\n",
    "       'color_rel_jac_an_sim', 'color_containment_sim', 'color_exact_sim',\n",
    "       'height_lev_sim', 'height_jac_q3_sim', 'height_jac_an_sim',\n",
    "       'height_rel_jac_an_sim', 'height_containment_sim', 'height_exact_sim',\n",
    "       'description_cosine_tfidf_sim', 'description_lev_sim',\n",
    "       'description_jac_q3_sim', 'description_jac_an_sim',\n",
    "       'description_rel_jac_an_sim', 'description_containment_sim',\n",
    "       'description_exact_sim']"
   ]
  },
  {
   "cell_type": "code",
   "execution_count": 91,
   "metadata": {},
   "outputs": [],
   "source": [
    "spec_brand_feature = ['capacity_lev_sim', 'capacity_jac_q3_sim',\n",
    "       'capacity_jac_an_sim', 'capacity_rel_jac_an_sim',\n",
    "       'capacity_containment_sim', 'capacity_exact_sim',\n",
    "       'style_cosine_tfidf_sim', 'style_lev_sim', 'style_jac_q3_sim',\n",
    "       'style_jac_an_sim', 'style_rel_jac_an_sim', 'style_containment_sim',\n",
    "       'style_exact_sim', 'base_cosine_tfidf_sim', 'base_lev_sim',\n",
    "       'base_jac_q3_sim', 'base_jac_an_sim', 'base_rel_jac_an_sim',\n",
    "       'base_containment_sim', 'base_exact_sim', 'material_lev_sim',\n",
    "       'material_jac_q3_sim', 'material_jac_an_sim', 'material_rel_jac_an_sim',\n",
    "       'material_containment_sim', 'material_exact_sim', 'brand_lev_sim',\n",
    "       'brand_jac_q3_sim', 'brand_jac_an_sim', 'brand_rel_jac_an_sim',\n",
    "       'brand_containment_sim', 'brand_exact_sim', 'shape_lev_sim',\n",
    "       'shape_jac_q3_sim', 'shape_jac_an_sim', 'shape_rel_jac_an_sim',\n",
    "       'shape_containment_sim', 'shape_exact_sim', 'category_lev_sim',\n",
    "       'category_jac_q3_sim', 'category_jac_an_sim', 'category_rel_jac_an_sim',\n",
    "       'category_containment_sim', 'category_exact_sim',\n",
    "       'finish_lev_sim', 'finish_jac_q3_sim',\n",
    "       'finish_jac_an_sim', 'finish_rel_jac_an_sim', 'finish_containment_sim',\n",
    "       'finish_exact_sim', 'product_type_cosine_tfidf_sim',\n",
    "       'product_type_lev_sim', 'product_type_jac_q3_sim',\n",
    "       'product_type_jac_an_sim', 'product_type_rel_jac_an_sim',\n",
    "       'product_type_containment_sim', 'product_type_exact_sim',\n",
    "       'color_lev_sim', 'color_jac_q3_sim', 'color_jac_an_sim',\n",
    "       'color_rel_jac_an_sim', 'color_containment_sim', 'color_exact_sim',\n",
    "       'height_lev_sim', 'height_jac_q3_sim', 'height_jac_an_sim',\n",
    "       'height_rel_jac_an_sim', 'height_containment_sim', 'height_exact_sim']"
   ]
  },
  {
   "cell_type": "markdown",
   "metadata": {},
   "source": [
    "### Preprocessing to mitigate influence of title attribute"
   ]
  },
  {
   "cell_type": "markdown",
   "metadata": {},
   "source": [
    "#### Katom_Cdi"
   ]
  },
  {
   "cell_type": "code",
   "execution_count": 92,
   "metadata": {},
   "outputs": [],
   "source": [
    "# I picked the most important feature (title_containment_sim) that alone already achieved 88% F1\n",
    "# and trained a LogRegCV(cv=5, solver='liblinear', max_iter=1000) model on the whole set\n",
    "# I then did run predict_proba on that in oder to get the most confident cases.\n",
    "\n",
    "features = title_feature\n",
    "combo = 'katom_cdi'\n",
    "random_state = 42\n",
    "test_size = 0.33\n",
    "\n",
    "estimator_title_containment = LogisticRegressionCV(random_state=random_state,cv=5, solver='liblinear', max_iter=1000)\n",
    "\n",
    "X_title_containment = candsets_feature[combo][features].copy()\n",
    "y_title_containment = candsets_feature[combo]['label'].copy()\n",
    "\n",
    "#X_train_title_containment, X_test_title_containment, y_train_title_containment, y_test_title_containment = train_test_split(X_title_containment,y_title_containment,test_size=test_size, \n",
    "#                                                                                                                            random_state=random_state, stratify=y_title_containment)\n",
    "\n",
    "estimator_title_containment.fit(X_title_containment,y_title_containment)\n",
    "pred_title_containment = estimator_title_containment.predict(X_title_containment)\n",
    "predict_proba_title_containment = estimator_title_containment.predict_proba(X_title_containment)"
   ]
  },
  {
   "cell_type": "code",
   "execution_count": 93,
   "metadata": {},
   "outputs": [
    {
     "name": "stdout",
     "output_type": "stream",
     "text": [
      "              precision    recall  f1-score   support\n",
      "\n",
      "   non-match       0.96      0.87      0.91       672\n",
      "       match       0.88      0.96      0.92       672\n",
      "\n",
      "    accuracy                           0.92      1344\n",
      "   macro avg       0.92      0.92      0.92      1344\n",
      "weighted avg       0.92      0.92      0.92      1344\n",
      "\n"
     ]
    }
   ],
   "source": [
    "target_names = ['non-match', 'match']\n",
    "print(classification_report(y_title_containment , pred_title_containment, target_names=target_names))"
   ]
  },
  {
   "cell_type": "markdown",
   "metadata": {},
   "source": [
    "#### Katom_rewo"
   ]
  },
  {
   "cell_type": "code",
   "execution_count": 94,
   "metadata": {},
   "outputs": [],
   "source": [
    "# I picked the most important feature (title_containment_sim) that alone already achieved 88% F1\n",
    "# and trained a LogRegCV(cv=5, solver='liblinear', max_iter=1000) model on the whole set\n",
    "# I then did run predict_proba on that in oder to get the most confident cases.\n",
    "\n",
    "features = title_feature\n",
    "combo = 'katom_rewo'\n",
    "random_state = 42\n",
    "test_size = 0.33\n",
    "\n",
    "estimator_title_containment = LogisticRegressionCV(random_state=random_state,cv=5, solver='liblinear', max_iter=1000)\n",
    "\n",
    "X_title_containment = candsets_feature[combo][features].copy()\n",
    "y_title_containment = candsets_feature[combo]['label'].copy()\n",
    "\n",
    "#X_train_title_containment, X_test_title_containment, y_train_title_containment, y_test_title_containment = train_test_split(X_title_containment,y_title_containment,test_size=test_size, \n",
    "#                                                                                                                            random_state=random_state, stratify=y_title_containment)\n",
    "\n",
    "estimator_title_containment.fit(X_title_containment,y_title_containment)\n",
    "pred_title_containment = estimator_title_containment.predict(X_title_containment)\n",
    "predict_proba_title_containment = estimator_title_containment.predict_proba(X_title_containment)"
   ]
  },
  {
   "cell_type": "code",
   "execution_count": 95,
   "metadata": {},
   "outputs": [
    {
     "name": "stdout",
     "output_type": "stream",
     "text": [
      "              precision    recall  f1-score   support\n",
      "\n",
      "   non-match       0.81      0.80      0.81      8549\n",
      "       match       0.81      0.81      0.81      8549\n",
      "\n",
      "    accuracy                           0.81     17098\n",
      "   macro avg       0.81      0.81      0.81     17098\n",
      "weighted avg       0.81      0.81      0.81     17098\n",
      "\n"
     ]
    }
   ],
   "source": [
    "target_names = ['non-match', 'match']\n",
    "print(classification_report(y_title_containment , pred_title_containment, target_names=target_names))"
   ]
  },
  {
   "cell_type": "markdown",
   "metadata": {},
   "source": [
    "#### Rewo_Cdi"
   ]
  },
  {
   "cell_type": "code",
   "execution_count": 96,
   "metadata": {},
   "outputs": [],
   "source": [
    "# I picked the most important feature (title_containment_sim) that alone already achieved 88% F1\n",
    "# and trained a LogRegCV(cv=5, solver='liblinear', max_iter=1000) model on the whole set\n",
    "# I then did run predict_proba on that in oder to get the most confident cases.\n",
    "\n",
    "features = title_feature\n",
    "combo = 'rewo_cdi'\n",
    "random_state = 42\n",
    "test_size = 0.33\n",
    "\n",
    "estimator_title_containment = LogisticRegressionCV(random_state=random_state,cv=5, solver='liblinear', max_iter=1000)\n",
    "\n",
    "X_title_containment = candsets_feature[combo][features].copy()\n",
    "y_title_containment = candsets_feature[combo]['label'].copy()\n",
    "\n",
    "#X_train_title_containment, X_test_title_containment, y_train_title_containment, y_test_title_containment = train_test_split(X_title_containment,y_title_containment,test_size=test_size, \n",
    "#                                                                                                                            random_state=random_state, stratify=y_title_containment)\n",
    "\n",
    "estimator_title_containment.fit(X_title_containment,y_title_containment)\n",
    "pred_title_containment = estimator_title_containment.predict(X_title_containment)\n",
    "predict_proba_title_containment = estimator_title_containment.predict_proba(X_title_containment)"
   ]
  },
  {
   "cell_type": "code",
   "execution_count": 97,
   "metadata": {},
   "outputs": [
    {
     "name": "stdout",
     "output_type": "stream",
     "text": [
      "              precision    recall  f1-score   support\n",
      "\n",
      "   non-match       0.96      0.98      0.97      2664\n",
      "       match       0.98      0.96      0.97      2664\n",
      "\n",
      "    accuracy                           0.97      5328\n",
      "   macro avg       0.97      0.97      0.97      5328\n",
      "weighted avg       0.97      0.97      0.97      5328\n",
      "\n"
     ]
    }
   ],
   "source": [
    "target_names = ['non-match', 'match']\n",
    "print(classification_report(y_title_containment , pred_title_containment, target_names=target_names))"
   ]
  },
  {
   "cell_type": "markdown",
   "metadata": {},
   "source": [
    "### Additional Pre-processing"
   ]
  },
  {
   "cell_type": "code",
   "execution_count": 138,
   "metadata": {},
   "outputs": [
    {
     "data": {
      "text/html": [
       "<div>\n",
       "<style scoped>\n",
       "    .dataframe tbody tr th:only-of-type {\n",
       "        vertical-align: middle;\n",
       "    }\n",
       "\n",
       "    .dataframe tbody tr th {\n",
       "        vertical-align: top;\n",
       "    }\n",
       "\n",
       "    .dataframe thead th {\n",
       "        text-align: right;\n",
       "    }\n",
       "</style>\n",
       "<table border=\"1\" class=\"dataframe\">\n",
       "  <thead>\n",
       "    <tr style=\"text-align: right;\">\n",
       "      <th></th>\n",
       "      <th>katom_title</th>\n",
       "      <th>katom_brand</th>\n",
       "      <th>cdi_title</th>\n",
       "      <th>cdi_brand</th>\n",
       "      <th>katom_height</th>\n",
       "      <th>cdi_height</th>\n",
       "      <th>label</th>\n",
       "    </tr>\n",
       "  </thead>\n",
       "  <tbody>\n",
       "    <tr>\n",
       "      <th>0</th>\n",
       "      <td>\"Beverage Air BB48GSYF-1-B 48\" (2) Section Bar Refrigerator - Sliding Glass Doors, 115v\"@en Doors 115v \"@en</td>\n",
       "      <td>\"Beverage Air\"@en</td>\n",
       "      <td>\" Continental Refrigerator BBC50S-GD Back Bar Cooler \"Continental | Culinary Depot\"</td>\n",
       "      <td>\"Continental Refrigerator\"</td>\n",
       "      <td>'12 1 cu ft', '306.00'</td>\n",
       "      <td>'355.00 Pound(s)'</td>\n",
       "      <td>0</td>\n",
       "    </tr>\n",
       "    <tr>\n",
       "      <th>1</th>\n",
       "      <td>\"Follett ABSPECLEG1 12\" Legs, Stainless Steel\"@en Steel \"@en Legs</td>\n",
       "      <td>\"Follett\"@en</td>\n",
       "      <td>\" Red Goat 30-A-154 Cone Hopper \"Red | Culinary Depot\"</td>\n",
       "      <td>\"Red Goat\"</td>\n",
       "      <td>NaN</td>\n",
       "      <td>NaN</td>\n",
       "      <td>0</td>\n",
       "    </tr>\n",
       "    <tr>\n",
       "      <th>2</th>\n",
       "      <td>\"Winco MXBT-2000Q 20-qt Mixing Bowl - Stainless\"@en Stainless \"@en</td>\n",
       "      <td>\"Winco\"@en</td>\n",
       "      <td>\" Adcraft LAD-6PE 4.666 Oz. Portion Control Ladle - White \"Adcraft | Culinary Depot\"</td>\n",
       "      <td>\"Admiral Craft\"</td>\n",
       "      <td>NaN</td>\n",
       "      <td>NaN</td>\n",
       "      <td>0</td>\n",
       "    </tr>\n",
       "    <tr>\n",
       "      <th>3</th>\n",
       "      <td>\"Accutemp ACEL-60 2203 Stationary Steam Kettle w/ 60-gal Capacity, Stainless, 220/3 V\"@en V \"@en Stainless Capacity</td>\n",
       "      <td>\"Accutemp\"@en</td>\n",
       "      <td>\" Vulcan PLTRAIL-48 Plate Rail \"Vulcan | Culinary Depot\"</td>\n",
       "      <td>\"Vulcan\"</td>\n",
       "      <td>NaN</td>\n",
       "      <td>'10 5'</td>\n",
       "      <td>0</td>\n",
       "    </tr>\n",
       "    <tr>\n",
       "      <th>4</th>\n",
       "      <td>\"Carlisle 1410FG012 Rectangular Cafeteria Tray - 13-3/4x10-5/8\" Sea Spray\"@en Spray \"@en</td>\n",
       "      <td>\"Carlisle\"@en</td>\n",
       "      <td>\" Cambro 1000522 10\" Round Burgundy Wine Fiberglass Camtray \"Cambro | Culinary Depot\"</td>\n",
       "      <td>\"Cambro\"</td>\n",
       "      <td>NaN</td>\n",
       "      <td>NaN</td>\n",
       "      <td>0</td>\n",
       "    </tr>\n",
       "    <tr>\n",
       "      <th>...</th>\n",
       "      <td>...</td>\n",
       "      <td>...</td>\n",
       "      <td>...</td>\n",
       "      <td>...</td>\n",
       "      <td>...</td>\n",
       "      <td>...</td>\n",
       "      <td>...</td>\n",
       "    </tr>\n",
       "    <tr>\n",
       "      <th>1339</th>\n",
       "      <td>\"Cambro UC1000401 10-1/2-gal Ultra Camtainer Beverage Carrier - Insulated, Slate Blue\"@en Blue \"@en Insulated</td>\n",
       "      <td>\"Cambro\"@en</td>\n",
       "      <td>\" Cambro UC1000401 10 Gallon Slate Blue Ultra Camtainer Beverage Carrier - 25.75\" H x 16.25\" W 20.5\" D \"Cambro | Culinary Depot\"</td>\n",
       "      <td>\"Cambro\"</td>\n",
       "      <td>'29.27'</td>\n",
       "      <td>NaN</td>\n",
       "      <td>1</td>\n",
       "    </tr>\n",
       "    <tr>\n",
       "      <th>1340</th>\n",
       "      <td>\"Jackson 05930-121-75-66 Cold Water Thermostat For AJ-66, AJ-80, AJX-66, AJX-80, AJ-66T, AJ-100\"@en AJ-66T AJ-80 AJ-66 AJX-80 AJ-100 \"@en AJX-66</td>\n",
       "      <td>\"Jackson\"@en</td>\n",
       "      <td>\" Jackson 05930-121-75-66 Cold Water Thermostat (Aj-66 \"Jackson | Culinary Depot\"</td>\n",
       "      <td>\"Jackson\"</td>\n",
       "      <td>NaN</td>\n",
       "      <td>NaN</td>\n",
       "      <td>1</td>\n",
       "    </tr>\n",
       "    <tr>\n",
       "      <th>1341</th>\n",
       "      <td>\"Accutemp E64403E120SGL Electric Floor Model Steamer w/ (6) Full Size Pan Capacity, 440v/3ph\"@en Capacity 440v/3ph \"@en</td>\n",
       "      <td>\"Accutemp\"@en</td>\n",
       "      <td>\" AccuTemp E64403E120 SGL Connected Evolution Boilerless \"AccuTemp | Culinary Depot\"</td>\n",
       "      <td>\"AccuTemp\"</td>\n",
       "      <td>'12 x 20', '281.00', '60'</td>\n",
       "      <td>'12 x 20', '281.00 Pound(s)'</td>\n",
       "      <td>1</td>\n",
       "    </tr>\n",
       "    <tr>\n",
       "      <th>1342</th>\n",
       "      <td>\"Advance Tabco 94-23-60-24RL 115\" 3-Compartment Sink w/ 20\"L x 20\"W Bowl, 14\" Deep\"@en Bowl Deep \"@en</td>\n",
       "      <td>\"Advance Tabco\"@en</td>\n",
       "      <td>\" Advance Tabco 94-23-60-24RL Regaline Sink \"Advance | Culinary Depot\"</td>\n",
       "      <td>\"Advance Tabco\"</td>\n",
       "      <td>'276.00'</td>\n",
       "      <td>'11\"', '276.00 Pound(s)'</td>\n",
       "      <td>1</td>\n",
       "    </tr>\n",
       "    <tr>\n",
       "      <th>1343</th>\n",
       "      <td>\"Accutemp E62083D150DBL Electric Floor Model Steamer w/ (12) Full Size Pan Capacity, 208v/3ph\"@en 208v/3ph \"@en Capacity</td>\n",
       "      <td>\"Accutemp\"@en</td>\n",
       "      <td>\" AccuTemp E62083D150 DBL Two Connectionless Evolution Boilerless \"AccuTemp | Culinary Depot\"</td>\n",
       "      <td>\"AccuTemp\"</td>\n",
       "      <td>'12 x 20', '71.23', '512.00'</td>\n",
       "      <td>'512.00 Pound(s)'</td>\n",
       "      <td>1</td>\n",
       "    </tr>\n",
       "  </tbody>\n",
       "</table>\n",
       "<p>1344 rows × 7 columns</p>\n",
       "</div>"
      ],
      "text/plain": [
       "                                                                                                                                            katom_title  \\\n",
       "0                                           \"Beverage Air BB48GSYF-1-B 48\" (2) Section Bar Refrigerator - Sliding Glass Doors, 115v\"@en Doors 115v \"@en   \n",
       "1                                                                                     \"Follett ABSPECLEG1 12\" Legs, Stainless Steel\"@en Steel \"@en Legs   \n",
       "2                                                                                    \"Winco MXBT-2000Q 20-qt Mixing Bowl - Stainless\"@en Stainless \"@en   \n",
       "3                                   \"Accutemp ACEL-60 2203 Stationary Steam Kettle w/ 60-gal Capacity, Stainless, 220/3 V\"@en V \"@en Stainless Capacity   \n",
       "4                                                              \"Carlisle 1410FG012 Rectangular Cafeteria Tray - 13-3/4x10-5/8\" Sea Spray\"@en Spray \"@en   \n",
       "...                                                                                                                                                 ...   \n",
       "1339                                      \"Cambro UC1000401 10-1/2-gal Ultra Camtainer Beverage Carrier - Insulated, Slate Blue\"@en Blue \"@en Insulated   \n",
       "1340   \"Jackson 05930-121-75-66 Cold Water Thermostat For AJ-66, AJ-80, AJX-66, AJX-80, AJ-66T, AJ-100\"@en AJ-66T AJ-80 AJ-66 AJX-80 AJ-100 \"@en AJX-66   \n",
       "1341                            \"Accutemp E64403E120SGL Electric Floor Model Steamer w/ (6) Full Size Pan Capacity, 440v/3ph\"@en Capacity 440v/3ph \"@en   \n",
       "1342                                              \"Advance Tabco 94-23-60-24RL 115\" 3-Compartment Sink w/ 20\"L x 20\"W Bowl, 14\" Deep\"@en Bowl Deep \"@en   \n",
       "1343                           \"Accutemp E62083D150DBL Electric Floor Model Steamer w/ (12) Full Size Pan Capacity, 208v/3ph\"@en 208v/3ph \"@en Capacity   \n",
       "\n",
       "             katom_brand  \\\n",
       "0      \"Beverage Air\"@en   \n",
       "1           \"Follett\"@en   \n",
       "2             \"Winco\"@en   \n",
       "3          \"Accutemp\"@en   \n",
       "4          \"Carlisle\"@en   \n",
       "...                  ...   \n",
       "1339         \"Cambro\"@en   \n",
       "1340        \"Jackson\"@en   \n",
       "1341       \"Accutemp\"@en   \n",
       "1342  \"Advance Tabco\"@en   \n",
       "1343       \"Accutemp\"@en   \n",
       "\n",
       "                                                                                                                              cdi_title  \\\n",
       "0                                                   \" Continental Refrigerator BBC50S-GD Back Bar Cooler \"Continental | Culinary Depot\"   \n",
       "1                                                                                \" Red Goat 30-A-154 Cone Hopper \"Red | Culinary Depot\"   \n",
       "2                                                  \" Adcraft LAD-6PE 4.666 Oz. Portion Control Ladle - White \"Adcraft | Culinary Depot\"   \n",
       "3                                                                              \" Vulcan PLTRAIL-48 Plate Rail \"Vulcan | Culinary Depot\"   \n",
       "4                                                 \" Cambro 1000522 10\" Round Burgundy Wine Fiberglass Camtray \"Cambro | Culinary Depot\"   \n",
       "...                                                                                                                                 ...   \n",
       "1339   \" Cambro UC1000401 10 Gallon Slate Blue Ultra Camtainer Beverage Carrier - 25.75\" H x 16.25\" W 20.5\" D \"Cambro | Culinary Depot\"   \n",
       "1340                                                  \" Jackson 05930-121-75-66 Cold Water Thermostat (Aj-66 \"Jackson | Culinary Depot\"   \n",
       "1341                                               \" AccuTemp E64403E120 SGL Connected Evolution Boilerless \"AccuTemp | Culinary Depot\"   \n",
       "1342                                                             \" Advance Tabco 94-23-60-24RL Regaline Sink \"Advance | Culinary Depot\"   \n",
       "1343                                      \" AccuTemp E62083D150 DBL Two Connectionless Evolution Boilerless \"AccuTemp | Culinary Depot\"   \n",
       "\n",
       "                       cdi_brand                  katom_height  \\\n",
       "0     \"Continental Refrigerator\"        '12 1 cu ft', '306.00'   \n",
       "1                     \"Red Goat\"                           NaN   \n",
       "2                \"Admiral Craft\"                           NaN   \n",
       "3                       \"Vulcan\"                           NaN   \n",
       "4                       \"Cambro\"                           NaN   \n",
       "...                          ...                           ...   \n",
       "1339                    \"Cambro\"                       '29.27'   \n",
       "1340                   \"Jackson\"                           NaN   \n",
       "1341                  \"AccuTemp\"     '12 x 20', '281.00', '60'   \n",
       "1342             \"Advance Tabco\"                      '276.00'   \n",
       "1343                  \"AccuTemp\"  '12 x 20', '71.23', '512.00'   \n",
       "\n",
       "                        cdi_height  label  \n",
       "0                '355.00 Pound(s)'      0  \n",
       "1                              NaN      0  \n",
       "2                              NaN      0  \n",
       "3                           '10 5'      0  \n",
       "4                              NaN      0  \n",
       "...                            ...    ...  \n",
       "1339                           NaN      1  \n",
       "1340                           NaN      1  \n",
       "1341  '12 x 20', '281.00 Pound(s)'      1  \n",
       "1342      '11\"', '276.00 Pound(s)'      1  \n",
       "1343             '512.00 Pound(s)'      1  \n",
       "\n",
       "[1344 rows x 7 columns]"
      ]
     },
     "execution_count": 138,
     "metadata": {},
     "output_type": "execute_result"
    }
   ],
   "source": [
    "candsets_with_org_attr['katom_cdi'][['katom_title','katom_brand','cdi_title','cdi_brand','katom_height','cdi_height','label']]"
   ]
  },
  {
   "cell_type": "code",
   "execution_count": 139,
   "metadata": {},
   "outputs": [
    {
     "data": {
      "text/plain": [
       "0                  '355.00 Pound(s)'\n",
       "1                                NaN\n",
       "2                                NaN\n",
       "3                             '10 5'\n",
       "4                                NaN\n",
       "                    ...             \n",
       "1339                             NaN\n",
       "1340                             NaN\n",
       "1341    '12 x 20', '281.00 Pound(s)'\n",
       "1342        '11\"', '276.00 Pound(s)'\n",
       "1343               '512.00 Pound(s)'\n",
       "Name: cdi_height, Length: 1344, dtype: object"
      ]
     },
     "execution_count": 139,
     "metadata": {},
     "output_type": "execute_result"
    }
   ],
   "source": [
    "candsets_with_org_attr['katom_cdi']['cdi_height']"
   ]
  },
  {
   "cell_type": "code",
   "execution_count": 140,
   "metadata": {},
   "outputs": [],
   "source": [
    "candsets_with_org_attr['katom_cdi']['cdi_height'] = candsets_with_org_attr['katom_cdi']['cdi_height'].str.replace(r'Pound\\(s\\)','').str.strip()"
   ]
  },
  {
   "cell_type": "code",
   "execution_count": 141,
   "metadata": {},
   "outputs": [],
   "source": [
    "candsets_with_org_attr['rewo_cdi']['cdi_height'] = candsets_with_org_attr['rewo_cdi']['cdi_height'].str.replace(r'Pound\\(s\\)','').str.strip()"
   ]
  },
  {
   "cell_type": "code",
   "execution_count": 142,
   "metadata": {},
   "outputs": [
    {
     "data": {
      "text/plain": [
       "'1075.00 '             1039\n",
       "'735.00 '               376\n",
       "'660.00 '               305\n",
       "'1320.00 '               30\n",
       "'475.00 '                24\n",
       "                       ... \n",
       "'no ss'                   1\n",
       "'55.00 '                  1\n",
       "'26 gauge', '2.94 '       1\n",
       "'12 30', '731.00 '        1\n",
       "'212.00 '                 1\n",
       "Name: cdi_height, Length: 810, dtype: int64"
      ]
     },
     "execution_count": 142,
     "metadata": {},
     "output_type": "execute_result"
    }
   ],
   "source": [
    "candsets_with_org_attr['rewo_cdi']['cdi_height'].value_counts()"
   ]
  },
  {
   "cell_type": "code",
   "execution_count": 143,
   "metadata": {},
   "outputs": [],
   "source": [
    "attr_katom_cdi = ['katom_brand', 'katom_style', 'katom_product_type', 'katom_material', 'katom_color', 'katom_finish', 'katom_height', 'katom_capacity', \n",
    "        'katom_base', 'katom_shape', 'katom_category', 'katom_brand','cdi_brand', 'cdi_style', 'cdi_product_type', 'cdi_material', 'cdi_color', \n",
    "        'cdi_finish', 'cdi_height', 'cdi_capacity', 'cdi_base', 'cdi_shape', 'cdi_category', 'cdi_brand']"
   ]
  },
  {
   "cell_type": "code",
   "execution_count": 144,
   "metadata": {},
   "outputs": [],
   "source": [
    "from collections import OrderedDict\n",
    "candsets_with_org_attr['katom_cdi'].replace(np.nan,'',inplace=True)\n",
    "candsets_with_org_attr['katom_cdi'][attr_katom_cdi] = candsets_with_org_attr['katom_cdi'][attr_katom_cdi].applymap(lambda x: x.lower().split(', ')).applymap(lambda x: OrderedDict.fromkeys(x).keys()).applymap(lambda x: ' '.join(x).strip())\n",
    "candsets_with_org_attr['katom_cdi'].replace('',np.nan,inplace=True)"
   ]
  },
  {
   "cell_type": "code",
   "execution_count": 145,
   "metadata": {},
   "outputs": [],
   "source": [
    "attr_rewo_cdi = ['rewo_brand', 'rewo_style', 'rewo_product_type', 'rewo_material', 'rewo_color', 'rewo_finish', 'rewo_height', 'rewo_capacity', \n",
    "        'rewo_base', 'rewo_shape', 'rewo_category', 'rewo_brand','cdi_brand', 'cdi_style', 'cdi_product_type', 'cdi_material', 'cdi_color', \n",
    "        'cdi_finish', 'cdi_height', 'cdi_capacity', 'cdi_base', 'cdi_shape', 'cdi_category', 'cdi_brand']"
   ]
  },
  {
   "cell_type": "code",
   "execution_count": 146,
   "metadata": {},
   "outputs": [],
   "source": [
    "candsets_with_org_attr['rewo_cdi'].replace(np.nan,'',inplace=True)\n",
    "candsets_with_org_attr['rewo_cdi'][attr_rewo_cdi] = candsets_with_org_attr['rewo_cdi'][attr_rewo_cdi].applymap(lambda x: x.lower().split(', ')).applymap(lambda x: OrderedDict.fromkeys(x).keys()).applymap(lambda x: ' '.join(x).strip())\n",
    "candsets_with_org_attr['rewo_cdi'].replace('',np.nan,inplace=True)"
   ]
  },
  {
   "cell_type": "code",
   "execution_count": 147,
   "metadata": {},
   "outputs": [],
   "source": [
    "attr_katom_brand = ['katom_brand', 'katom_style', 'katom_product_type', 'katom_material', 'katom_color', 'katom_finish', 'katom_height', 'katom_capacity', \n",
    "        'katom_base', 'katom_shape', 'katom_category', 'katom_brand','rewo_brand', 'rewo_style', 'rewo_product_type', 'rewo_material', 'rewo_color', \n",
    "        'rewo_finish', 'rewo_height', 'rewo_capacity', 'rewo_base', 'rewo_shape', 'rewo_category', 'rewo_brand']"
   ]
  },
  {
   "cell_type": "code",
   "execution_count": 148,
   "metadata": {},
   "outputs": [],
   "source": [
    "candsets_with_org_attr['katom_rewo'].replace(np.nan,'',inplace=True)\n",
    "candsets_with_org_attr['katom_rewo'][attr_katom_brand] = candsets_with_org_attr['katom_rewo'][attr_katom_brand].applymap(lambda x: x.lower().split(', ')).applymap(lambda x: OrderedDict.fromkeys(x).keys()).applymap(lambda x: ' '.join(x).strip())\n",
    "candsets_with_org_attr['katom_rewo'].replace('',np.nan,inplace=True)"
   ]
  },
  {
   "cell_type": "code",
   "execution_count": 149,
   "metadata": {},
   "outputs": [],
   "source": [
    "#for df in candsets_with_org_attr:\n",
    "#    candsets_with_org_attr[df].to_csv('../../candsets/home/v5/candset_{}.csv'.format(df),index=False)"
   ]
  },
  {
   "cell_type": "code",
   "execution_count": 150,
   "metadata": {},
   "outputs": [],
   "source": [
    "#candsets_with_org_attr['katom_cdi'][attr_katom_cdi]"
   ]
  },
  {
   "cell_type": "code",
   "execution_count": 151,
   "metadata": {},
   "outputs": [
    {
     "data": {
      "text/html": [
       "<div>\n",
       "<style scoped>\n",
       "    .dataframe tbody tr th:only-of-type {\n",
       "        vertical-align: middle;\n",
       "    }\n",
       "\n",
       "    .dataframe tbody tr th {\n",
       "        vertical-align: top;\n",
       "    }\n",
       "\n",
       "    .dataframe thead th {\n",
       "        text-align: right;\n",
       "    }\n",
       "</style>\n",
       "<table border=\"1\" class=\"dataframe\">\n",
       "  <thead>\n",
       "    <tr style=\"text-align: right;\">\n",
       "      <th></th>\n",
       "      <th>katom_title</th>\n",
       "      <th>katom_brand</th>\n",
       "      <th>katom_material</th>\n",
       "      <th>cdi_title</th>\n",
       "      <th>cdi_brand</th>\n",
       "      <th>cdi_material</th>\n",
       "    </tr>\n",
       "  </thead>\n",
       "  <tbody>\n",
       "    <tr>\n",
       "      <th>0</th>\n",
       "      <td>\"Beverage Air BB48GSYF-1-B 48\" (2) Section Bar Refrigerator - Sliding Glass Doors, 115v\"@en Doors 115v \"@en</td>\n",
       "      <td>\"beverage air\"@en</td>\n",
       "      <td>'black' 'galvanized top' 'stainless steel'</td>\n",
       "      <td>\" Continental Refrigerator BBC50S-GD Back Bar Cooler \"Continental | Culinary Depot\"</td>\n",
       "      <td>\"continental refrigerator\"</td>\n",
       "      <td>NaN</td>\n",
       "    </tr>\n",
       "    <tr>\n",
       "      <th>1</th>\n",
       "      <td>\"Follett ABSPECLEG1 12\" Legs, Stainless Steel\"@en Steel \"@en Legs</td>\n",
       "      <td>\"follett\"@en</td>\n",
       "      <td>NaN</td>\n",
       "      <td>\" Red Goat 30-A-154 Cone Hopper \"Red | Culinary Depot\"</td>\n",
       "      <td>\"red goat\"</td>\n",
       "      <td>NaN</td>\n",
       "    </tr>\n",
       "    <tr>\n",
       "      <th>2</th>\n",
       "      <td>\"Winco MXBT-2000Q 20-qt Mixing Bowl - Stainless\"@en Stainless \"@en</td>\n",
       "      <td>\"winco\"@en</td>\n",
       "      <td>NaN</td>\n",
       "      <td>\" Adcraft LAD-6PE 4.666 Oz. Portion Control Ladle - White \"Adcraft | Culinary Depot\"</td>\n",
       "      <td>\"admiral craft\"</td>\n",
       "      <td>'stainless steel'</td>\n",
       "    </tr>\n",
       "    <tr>\n",
       "      <th>3</th>\n",
       "      <td>\"Accutemp ACEL-60 2203 Stationary Steam Kettle w/ 60-gal Capacity, Stainless, 220/3 V\"@en V \"@en Stainless Capacity</td>\n",
       "      <td>\"accutemp\"@en</td>\n",
       "      <td>NaN</td>\n",
       "      <td>\" Vulcan PLTRAIL-48 Plate Rail \"Vulcan | Culinary Depot\"</td>\n",
       "      <td>\"vulcan\"</td>\n",
       "      <td>'stainless steel'</td>\n",
       "    </tr>\n",
       "    <tr>\n",
       "      <th>4</th>\n",
       "      <td>\"Carlisle 1410FG012 Rectangular Cafeteria Tray - 13-3/4x10-5/8\" Sea Spray\"@en Spray \"@en</td>\n",
       "      <td>\"carlisle\"@en</td>\n",
       "      <td>'cafeteria' 'fiberglass'</td>\n",
       "      <td>\" Cambro 1000522 10\" Round Burgundy Wine Fiberglass Camtray \"Cambro | Culinary Depot\"</td>\n",
       "      <td>\"cambro\"</td>\n",
       "      <td>'fiberglass dishwasher safe'</td>\n",
       "    </tr>\n",
       "    <tr>\n",
       "      <th>...</th>\n",
       "      <td>...</td>\n",
       "      <td>...</td>\n",
       "      <td>...</td>\n",
       "      <td>...</td>\n",
       "      <td>...</td>\n",
       "      <td>...</td>\n",
       "    </tr>\n",
       "    <tr>\n",
       "      <th>1339</th>\n",
       "      <td>\"Cambro UC1000401 10-1/2-gal Ultra Camtainer Beverage Carrier - Insulated, Slate Blue\"@en Blue \"@en Insulated</td>\n",
       "      <td>\"cambro\"@en</td>\n",
       "      <td>'insulated plastic'</td>\n",
       "      <td>\" Cambro UC1000401 10 Gallon Slate Blue Ultra Camtainer Beverage Carrier - 25.75\" H x 16.25\" W 20.5\" D \"Cambro | Culinary Depot\"</td>\n",
       "      <td>\"cambro\"</td>\n",
       "      <td>'insulated plastic'</td>\n",
       "    </tr>\n",
       "    <tr>\n",
       "      <th>1340</th>\n",
       "      <td>\"Jackson 05930-121-75-66 Cold Water Thermostat For AJ-66, AJ-80, AJX-66, AJX-80, AJ-66T, AJ-100\"@en AJ-66T AJ-80 AJ-66 AJX-80 AJ-100 \"@en AJX-66</td>\n",
       "      <td>\"jackson\"@en</td>\n",
       "      <td>NaN</td>\n",
       "      <td>\" Jackson 05930-121-75-66 Cold Water Thermostat (Aj-66 \"Jackson | Culinary Depot\"</td>\n",
       "      <td>\"jackson\"</td>\n",
       "      <td>NaN</td>\n",
       "    </tr>\n",
       "    <tr>\n",
       "      <th>1341</th>\n",
       "      <td>\"Accutemp E64403E120SGL Electric Floor Model Steamer w/ (6) Full Size Pan Capacity, 440v/3ph\"@en Capacity 440v/3ph \"@en</td>\n",
       "      <td>\"accutemp\"@en</td>\n",
       "      <td>NaN</td>\n",
       "      <td>\" AccuTemp E64403E120 SGL Connected Evolution Boilerless \"AccuTemp | Culinary Depot\"</td>\n",
       "      <td>\"accutemp\"</td>\n",
       "      <td>NaN</td>\n",
       "    </tr>\n",
       "    <tr>\n",
       "      <th>1342</th>\n",
       "      <td>\"Advance Tabco 94-23-60-24RL 115\" 3-Compartment Sink w/ 20\"L x 20\"W Bowl, 14\" Deep\"@en Bowl Deep \"@en</td>\n",
       "      <td>\"advance tabco\"@en</td>\n",
       "      <td>'stainless steel overall' 'nsf'</td>\n",
       "      <td>\" Advance Tabco 94-23-60-24RL Regaline Sink \"Advance | Culinary Depot\"</td>\n",
       "      <td>\"advance tabco\"</td>\n",
       "      <td>'stainless steel overall' 'nsf'</td>\n",
       "    </tr>\n",
       "    <tr>\n",
       "      <th>1343</th>\n",
       "      <td>\"Accutemp E62083D150DBL Electric Floor Model Steamer w/ (12) Full Size Pan Capacity, 208v/3ph\"@en 208v/3ph \"@en Capacity</td>\n",
       "      <td>\"accutemp\"@en</td>\n",
       "      <td>NaN</td>\n",
       "      <td>\" AccuTemp E62083D150 DBL Two Connectionless Evolution Boilerless \"AccuTemp | Culinary Depot\"</td>\n",
       "      <td>\"accutemp\"</td>\n",
       "      <td>NaN</td>\n",
       "    </tr>\n",
       "  </tbody>\n",
       "</table>\n",
       "<p>1344 rows × 6 columns</p>\n",
       "</div>"
      ],
      "text/plain": [
       "                                                                                                                                            katom_title  \\\n",
       "0                                           \"Beverage Air BB48GSYF-1-B 48\" (2) Section Bar Refrigerator - Sliding Glass Doors, 115v\"@en Doors 115v \"@en   \n",
       "1                                                                                     \"Follett ABSPECLEG1 12\" Legs, Stainless Steel\"@en Steel \"@en Legs   \n",
       "2                                                                                    \"Winco MXBT-2000Q 20-qt Mixing Bowl - Stainless\"@en Stainless \"@en   \n",
       "3                                   \"Accutemp ACEL-60 2203 Stationary Steam Kettle w/ 60-gal Capacity, Stainless, 220/3 V\"@en V \"@en Stainless Capacity   \n",
       "4                                                              \"Carlisle 1410FG012 Rectangular Cafeteria Tray - 13-3/4x10-5/8\" Sea Spray\"@en Spray \"@en   \n",
       "...                                                                                                                                                 ...   \n",
       "1339                                      \"Cambro UC1000401 10-1/2-gal Ultra Camtainer Beverage Carrier - Insulated, Slate Blue\"@en Blue \"@en Insulated   \n",
       "1340   \"Jackson 05930-121-75-66 Cold Water Thermostat For AJ-66, AJ-80, AJX-66, AJX-80, AJ-66T, AJ-100\"@en AJ-66T AJ-80 AJ-66 AJX-80 AJ-100 \"@en AJX-66   \n",
       "1341                            \"Accutemp E64403E120SGL Electric Floor Model Steamer w/ (6) Full Size Pan Capacity, 440v/3ph\"@en Capacity 440v/3ph \"@en   \n",
       "1342                                              \"Advance Tabco 94-23-60-24RL 115\" 3-Compartment Sink w/ 20\"L x 20\"W Bowl, 14\" Deep\"@en Bowl Deep \"@en   \n",
       "1343                           \"Accutemp E62083D150DBL Electric Floor Model Steamer w/ (12) Full Size Pan Capacity, 208v/3ph\"@en 208v/3ph \"@en Capacity   \n",
       "\n",
       "             katom_brand                              katom_material  \\\n",
       "0      \"beverage air\"@en  'black' 'galvanized top' 'stainless steel'   \n",
       "1           \"follett\"@en                                         NaN   \n",
       "2             \"winco\"@en                                         NaN   \n",
       "3          \"accutemp\"@en                                         NaN   \n",
       "4          \"carlisle\"@en                    'cafeteria' 'fiberglass'   \n",
       "...                  ...                                         ...   \n",
       "1339         \"cambro\"@en                         'insulated plastic'   \n",
       "1340        \"jackson\"@en                                         NaN   \n",
       "1341       \"accutemp\"@en                                         NaN   \n",
       "1342  \"advance tabco\"@en             'stainless steel overall' 'nsf'   \n",
       "1343       \"accutemp\"@en                                         NaN   \n",
       "\n",
       "                                                                                                                              cdi_title  \\\n",
       "0                                                   \" Continental Refrigerator BBC50S-GD Back Bar Cooler \"Continental | Culinary Depot\"   \n",
       "1                                                                                \" Red Goat 30-A-154 Cone Hopper \"Red | Culinary Depot\"   \n",
       "2                                                  \" Adcraft LAD-6PE 4.666 Oz. Portion Control Ladle - White \"Adcraft | Culinary Depot\"   \n",
       "3                                                                              \" Vulcan PLTRAIL-48 Plate Rail \"Vulcan | Culinary Depot\"   \n",
       "4                                                 \" Cambro 1000522 10\" Round Burgundy Wine Fiberglass Camtray \"Cambro | Culinary Depot\"   \n",
       "...                                                                                                                                 ...   \n",
       "1339   \" Cambro UC1000401 10 Gallon Slate Blue Ultra Camtainer Beverage Carrier - 25.75\" H x 16.25\" W 20.5\" D \"Cambro | Culinary Depot\"   \n",
       "1340                                                  \" Jackson 05930-121-75-66 Cold Water Thermostat (Aj-66 \"Jackson | Culinary Depot\"   \n",
       "1341                                               \" AccuTemp E64403E120 SGL Connected Evolution Boilerless \"AccuTemp | Culinary Depot\"   \n",
       "1342                                                             \" Advance Tabco 94-23-60-24RL Regaline Sink \"Advance | Culinary Depot\"   \n",
       "1343                                      \" AccuTemp E62083D150 DBL Two Connectionless Evolution Boilerless \"AccuTemp | Culinary Depot\"   \n",
       "\n",
       "                       cdi_brand                     cdi_material  \n",
       "0     \"continental refrigerator\"                              NaN  \n",
       "1                     \"red goat\"                              NaN  \n",
       "2                \"admiral craft\"                'stainless steel'  \n",
       "3                       \"vulcan\"                'stainless steel'  \n",
       "4                       \"cambro\"     'fiberglass dishwasher safe'  \n",
       "...                          ...                              ...  \n",
       "1339                    \"cambro\"              'insulated plastic'  \n",
       "1340                   \"jackson\"                              NaN  \n",
       "1341                  \"accutemp\"                              NaN  \n",
       "1342             \"advance tabco\"  'stainless steel overall' 'nsf'  \n",
       "1343                  \"accutemp\"                              NaN  \n",
       "\n",
       "[1344 rows x 6 columns]"
      ]
     },
     "execution_count": 151,
     "metadata": {},
     "output_type": "execute_result"
    }
   ],
   "source": [
    "candsets_with_org_attr['katom_cdi'][['katom_title','katom_brand','katom_material','cdi_title','cdi_brand','cdi_material']]"
   ]
  },
  {
   "cell_type": "markdown",
   "metadata": {},
   "source": [
    "#### Remove Brand from title if brand attribute provided"
   ]
  },
  {
   "cell_type": "code",
   "execution_count": 152,
   "metadata": {},
   "outputs": [],
   "source": [
    "import re\n",
    "# remove text within double quote from string\n",
    "def keep_text_within_double_quote(string):\n",
    "    # ensure input is string by converting it to string\n",
    "    string = str(string)\n",
    "    # first exclude text within double quotes and ensure no whitespace at the beginning or end\n",
    "    string = re.sub(r'\\\"(.*)\\\"','\\\\1',string).strip()\n",
    "    # before returning the string without parentheses also ensure no double whitespaces are in the string\n",
    "    return re.sub(r'  ',' ',string).strip()"
   ]
  },
  {
   "cell_type": "code",
   "execution_count": 153,
   "metadata": {},
   "outputs": [],
   "source": [
    "candsets_with_org_attr['katom_cdi']['katom_brand'] = candsets_with_org_attr['katom_cdi']['katom_brand'].apply(lambda s: keep_text_within_double_quote(s).rstrip('@en'))"
   ]
  },
  {
   "cell_type": "code",
   "execution_count": 154,
   "metadata": {},
   "outputs": [],
   "source": [
    "candsets_with_org_attr['katom_cdi']['katom_title'] = candsets_with_org_attr['katom_cdi'].apply(lambda row: str(row['katom_title']).lower().replace(row['katom_brand'],'') if (row['katom_brand'] in str(row['katom_title']).lower()) else row['katom_title'],axis=1)"
   ]
  },
  {
   "cell_type": "code",
   "execution_count": 155,
   "metadata": {},
   "outputs": [],
   "source": [
    "candsets_with_org_attr['katom_cdi']['cdi_brand'] = candsets_with_org_attr['katom_cdi']['cdi_brand'].apply(lambda s: keep_text_within_double_quote(s).strip())"
   ]
  },
  {
   "cell_type": "code",
   "execution_count": 156,
   "metadata": {},
   "outputs": [],
   "source": [
    "candsets_with_org_attr['katom_cdi']['cdi_title'] = candsets_with_org_attr['katom_cdi'].apply(lambda row: str(row['cdi_title']).lower().replace(row['cdi_brand'],'') if (row['cdi_brand'] in str(row['cdi_title']).lower()) else row['cdi_title'],axis=1)"
   ]
  },
  {
   "cell_type": "code",
   "execution_count": 158,
   "metadata": {},
   "outputs": [],
   "source": [
    "candsets_with_org_attr['katom_rewo']['katom_brand'] = candsets_with_org_attr['katom_rewo']['katom_brand'].apply(lambda s: keep_text_within_double_quote(s).rstrip('@en'))"
   ]
  },
  {
   "cell_type": "code",
   "execution_count": 159,
   "metadata": {},
   "outputs": [],
   "source": [
    "candsets_with_org_attr['katom_rewo']['rewo_brand'] = candsets_with_org_attr['katom_rewo']['rewo_brand'].apply(lambda s: keep_text_within_double_quote(s).rstrip('@en'))"
   ]
  },
  {
   "cell_type": "code",
   "execution_count": 160,
   "metadata": {},
   "outputs": [],
   "source": [
    "candsets_with_org_attr['katom_rewo']['katom_title'] = candsets_with_org_attr['katom_rewo'].apply(lambda row: str(row['katom_title']).lower().replace(row['katom_brand'],'') if (row['katom_brand'] in str(row['katom_title']).lower()) else row['katom_title'],axis=1)"
   ]
  },
  {
   "cell_type": "code",
   "execution_count": 161,
   "metadata": {},
   "outputs": [],
   "source": [
    "candsets_with_org_attr['katom_rewo']['rewo_title'] = candsets_with_org_attr['katom_rewo'].apply(lambda row: str(row['rewo_title']).lower().replace(row['rewo_brand'],'') if (row['rewo_brand'] in str(row['rewo_title']).lower()) else row['rewo_title'],axis=1)"
   ]
  },
  {
   "cell_type": "code",
   "execution_count": 162,
   "metadata": {},
   "outputs": [],
   "source": [
    "candsets_with_org_attr['rewo_cdi']['cdi_brand'] = candsets_with_org_attr['rewo_cdi']['cdi_brand'].apply(lambda s: keep_text_within_double_quote(s).strip())"
   ]
  },
  {
   "cell_type": "code",
   "execution_count": 163,
   "metadata": {},
   "outputs": [],
   "source": [
    "candsets_with_org_attr['rewo_cdi']['rewo_brand'] = candsets_with_org_attr['rewo_cdi']['rewo_brand'].apply(lambda s: keep_text_within_double_quote(s).rstrip('@en'))"
   ]
  },
  {
   "cell_type": "code",
   "execution_count": 164,
   "metadata": {},
   "outputs": [],
   "source": [
    "candsets_with_org_attr['rewo_cdi']['rewo_title'] = candsets_with_org_attr['rewo_cdi'].apply(lambda row: str(row['rewo_title']).lower().replace(row['rewo_brand'],'') if (row['rewo_brand'] in str(row['rewo_title']).lower()) else row['rewo_title'],axis=1)"
   ]
  },
  {
   "cell_type": "code",
   "execution_count": 165,
   "metadata": {},
   "outputs": [],
   "source": [
    "candsets_with_org_attr['rewo_cdi']['cdi_title'] = candsets_with_org_attr['rewo_cdi'].apply(lambda row: str(row['cdi_title']).lower().replace(row['cdi_brand'],'') if (row['cdi_brand'] in str(row['cdi_title']).lower()) else row['cdi_title'],axis=1)"
   ]
  },
  {
   "cell_type": "markdown",
   "metadata": {},
   "source": [
    "#### Creating some noise by removing first word (actually second but first real word because starts with \") from rewo_title"
   ]
  },
  {
   "cell_type": "code",
   "execution_count": 167,
   "metadata": {},
   "outputs": [],
   "source": [
    "#candsets_with_org_attr['katom_cdi']['katom_title'] = candsets_with_org_attr['katom_cdi'].apply(lambda row: row['katom_title'][5:] if (row['label']==1) else row['katom_title'],axis=1)"
   ]
  },
  {
   "cell_type": "code",
   "execution_count": 168,
   "metadata": {},
   "outputs": [],
   "source": [
    "#candsets_with_org_attr['rewo_cdi']['rewo_title'] = candsets_with_org_attr['rewo_cdi'].apply(lambda row: ' '.join(row['rewo_title'].split()[2:]),axis=1)"
   ]
  },
  {
   "cell_type": "code",
   "execution_count": 169,
   "metadata": {},
   "outputs": [],
   "source": [
    "#candsets_with_org_attr['katom_rewo']['katom_title'] = candsets_with_org_attr['katom_rewo'].apply(lambda row: row['katom_title'][5:] if (row['label']==1) else row['katom_title'],axis=1)"
   ]
  },
  {
   "cell_type": "code",
   "execution_count": 170,
   "metadata": {},
   "outputs": [],
   "source": [
    "#candsets_with_org_attr['katom_rewo']['rewo_title'] = candsets_with_org_attr['katom_rewo'].apply(lambda row: ' '.join(row['rewo_title'].split()[2:]),axis=1)"
   ]
  },
  {
   "cell_type": "markdown",
   "metadata": {},
   "source": [
    "#### Creating some noise by removing first word from katom_title"
   ]
  },
  {
   "cell_type": "code",
   "execution_count": 173,
   "metadata": {},
   "outputs": [],
   "source": [
    "candsets_with_org_attr['katom_cdi']['katom_title'] = candsets_with_org_attr['katom_cdi'].apply(lambda row: ' '.join(row['katom_title'].split()[2:]),axis=1)"
   ]
  },
  {
   "cell_type": "code",
   "execution_count": 176,
   "metadata": {},
   "outputs": [],
   "source": [
    "candsets_with_org_attr['katom_rewo']['katom_title'] = candsets_with_org_attr['katom_rewo'].apply(lambda row: ' '.join(row['katom_title'].split()[2:]),axis=1)"
   ]
  },
  {
   "cell_type": "markdown",
   "metadata": {},
   "source": [
    "#### Creating some noise by removing words from cdi_title"
   ]
  },
  {
   "cell_type": "code",
   "execution_count": 178,
   "metadata": {},
   "outputs": [],
   "source": [
    "candsets_with_org_attr['katom_cdi']['cdi_title'] = candsets_with_org_attr['katom_cdi'].apply(lambda row: ' '.join(row['cdi_title'].split()[2:]),axis=1)"
   ]
  },
  {
   "cell_type": "code",
   "execution_count": 179,
   "metadata": {},
   "outputs": [],
   "source": [
    "candsets_with_org_attr['rewo_cdi']['cdi_title'] = candsets_with_org_attr['rewo_cdi'].apply(lambda row: ' '.join(row['cdi_title'].split()[2:]),axis=1)"
   ]
  },
  {
   "cell_type": "code",
   "execution_count": 184,
   "metadata": {},
   "outputs": [],
   "source": [
    "for df in candsets_with_org_attr:  \n",
    "    if(any(candsets_with_org_attr[df].columns.str.endswith('blocking_key'))):\n",
    "        candsets_with_org_attr[df].drop(columns=list(candsets_with_org_attr[df].columns[candsets_with_org_attr[df].columns.str.endswith('blocking_key')]),inplace=True)"
   ]
  },
  {
   "cell_type": "code",
   "execution_count": 186,
   "metadata": {},
   "outputs": [],
   "source": [
    "for df in candsets_with_org_attr:\n",
    "    if(any(candsets_with_org_attr[df].columns.str.endswith('description'))):\n",
    "        candsets_with_org_attr[df].drop(columns=list(candsets_with_org_attr[df].columns[candsets_with_org_attr[df].columns.str.endswith('description')])).to_csv('../../candsets/home/candset_{}.csv'.format(df),index=False)"
   ]
  }
 ],
 "metadata": {
  "kernelspec": {
   "display_name": "Python [conda env:ml]",
   "language": "python",
   "name": "conda-env-ml-py"
  },
  "language_info": {
   "codemirror_mode": {
    "name": "ipython",
    "version": 3
   },
   "file_extension": ".py",
   "mimetype": "text/x-python",
   "name": "python",
   "nbconvert_exporter": "python",
   "pygments_lexer": "ipython3",
   "version": "3.8.3"
  },
  "varInspector": {
   "cols": {
    "lenName": 16,
    "lenType": 16,
    "lenVar": 40
   },
   "kernels_config": {
    "python": {
     "delete_cmd_postfix": "",
     "delete_cmd_prefix": "del ",
     "library": "var_list.py",
     "varRefreshCmd": "print(var_dic_list())"
    },
    "r": {
     "delete_cmd_postfix": ") ",
     "delete_cmd_prefix": "rm(",
     "library": "var_list.r",
     "varRefreshCmd": "cat(var_dic_list()) "
    }
   },
   "oldHeight": 1015.4166659999999,
   "position": {
    "height": "40px",
    "left": "1712px",
    "right": "20px",
    "top": "104px",
    "width": "781.567px"
   },
   "types_to_exclude": [
    "module",
    "function",
    "builtin_function_or_method",
    "instance",
    "_Feature"
   ],
   "varInspector_section_display": "none",
   "window_display": false
  }
 },
 "nbformat": 4,
 "nbformat_minor": 2
}
