{
 "cells": [
  {
   "cell_type": "code",
   "execution_count": 1,
   "metadata": {},
   "outputs": [],
   "source": [
    "import pandas as pd\n",
    "import numpy as np\n",
    "import py_stringmatching as sm\n",
    "import py_stringsimjoin as ssj\n",
    "from pandas_profiling import ProfileReport\n",
    "import re\n",
    "import nltk\n",
    "from datetime import datetime\n",
    "from nltk.corpus import stopwords \n",
    "from nltk.tokenize import word_tokenize\n",
    "pd.set_option('display.max_columns', 1000)\n",
    "pd.set_option('display.width', 1000)\n",
    "pd.set_option('display.max_rows', 1000)"
   ]
  },
  {
   "cell_type": "code",
   "execution_count": 4,
   "metadata": {},
   "outputs": [],
   "source": [
    "wor = pd.read_csv('../../datasets/books/wor.csv',sep=';')"
   ]
  },
  {
   "cell_type": "code",
   "execution_count": 5,
   "metadata": {},
   "outputs": [],
   "source": [
    "half = pd.read_csv('../../datasets/books/half.csv',sep=';')"
   ]
  },
  {
   "cell_type": "code",
   "execution_count": 6,
   "metadata": {},
   "outputs": [
    {
     "name": "stdout",
     "output_type": "stream",
     "text": [
      "<class 'pandas.core.frame.DataFrame'>\n",
      "RangeIndex: 48792 entries, 0 to 48791\n",
      "Data columns (total 12 columns):\n",
      " #   Column                          Non-Null Count  Dtype \n",
      "---  ------                          --------------  ----- \n",
      " 0   wor_id                          48792 non-null  object\n",
      " 1   wor_isbn                        48792 non-null  int64 \n",
      " 2   wor_title                       48792 non-null  object\n",
      " 3   wor_author                      48533 non-null  object\n",
      " 4   wor_binding                     46050 non-null  object\n",
      " 5   wor_pubdate                     48677 non-null  object\n",
      " 6   wor_pages                       48792 non-null  int64 \n",
      " 7   wor_publisher                   48744 non-null  object\n",
      " 8   wor_title_no_par                48791 non-null  object\n",
      " 9   wor_title_no_par_no_stop_words  48729 non-null  object\n",
      " 10  wor_firstauthor                 48511 non-null  object\n",
      " 11  wor_firsttwoauthors             48533 non-null  object\n",
      "dtypes: int64(2), object(10)\n",
      "memory usage: 4.5+ MB\n"
     ]
    }
   ],
   "source": [
    "wor.info()"
   ]
  },
  {
   "cell_type": "code",
   "execution_count": 7,
   "metadata": {},
   "outputs": [
    {
     "name": "stdout",
     "output_type": "stream",
     "text": [
      "<class 'pandas.core.frame.DataFrame'>\n",
      "RangeIndex: 3099 entries, 0 to 3098\n",
      "Data columns (total 10 columns):\n",
      " #   Column                           Non-Null Count  Dtype \n",
      "---  ------                           --------------  ----- \n",
      " 0   half_id                          3099 non-null   object\n",
      " 1   half_isbn                        3099 non-null   int64 \n",
      " 2   half_title                       3099 non-null   object\n",
      " 3   half_firstauthor                 3094 non-null   object\n",
      " 4   half_binding                     460 non-null    object\n",
      " 5   half_pubdate                     3028 non-null   object\n",
      " 6   half_pages                       3099 non-null   int64 \n",
      " 7   half_publisher                   3099 non-null   object\n",
      " 8   half_title_no_par                3099 non-null   object\n",
      " 9   half_title_no_par_no_stop_words  3094 non-null   object\n",
      "dtypes: int64(2), object(8)\n",
      "memory usage: 242.2+ KB\n"
     ]
    }
   ],
   "source": [
    "half.info()"
   ]
  },
  {
   "cell_type": "code",
   "execution_count": 8,
   "metadata": {},
   "outputs": [],
   "source": [
    "#wor is not read in as string but as integer so we convert it back to string\n",
    "wor['wor_isbn'] = wor['wor_isbn'].apply(lambda x: str(x))\n",
    "half['half_isbn'] = half['half_isbn'].apply(lambda x: str(x))"
   ]
  },
  {
   "cell_type": "code",
   "execution_count": 9,
   "metadata": {},
   "outputs": [],
   "source": [
    "wor.fillna('',inplace=True)\n",
    "half.fillna('',inplace=True)"
   ]
  },
  {
   "cell_type": "code",
   "execution_count": 10,
   "metadata": {},
   "outputs": [
    {
     "name": "stdout",
     "output_type": "stream",
     "text": [
      "True matches across wor and half: 1370\n"
     ]
    }
   ],
   "source": [
    "matches_wor_half = pd.merge(wor,half,left_on='wor_isbn',right_on='half_isbn')\n",
    "print('True matches across wor and half: {}'.format(matches_wor_half.shape[0]))"
   ]
  },
  {
   "cell_type": "code",
   "execution_count": 11,
   "metadata": {},
   "outputs": [
    {
     "data": {
      "text/plain": [
       "Index(['wor_id', 'wor_isbn', 'wor_title', 'wor_author', 'wor_binding', 'wor_pubdate', 'wor_pages', 'wor_publisher', 'wor_title_no_par', 'wor_title_no_par_no_stop_words', 'wor_firstauthor', 'wor_firsttwoauthors'], dtype='object')"
      ]
     },
     "execution_count": 11,
     "metadata": {},
     "output_type": "execute_result"
    }
   ],
   "source": [
    "wor.columns"
   ]
  },
  {
   "cell_type": "code",
   "execution_count": 12,
   "metadata": {},
   "outputs": [
    {
     "data": {
      "text/plain": [
       "Index(['half_id', 'half_isbn', 'half_title', 'half_firstauthor', 'half_binding', 'half_pubdate', 'half_pages', 'half_publisher', 'half_title_no_par', 'half_title_no_par_no_stop_words'], dtype='object')"
      ]
     },
     "execution_count": 12,
     "metadata": {},
     "output_type": "execute_result"
    }
   ],
   "source": [
    "half.columns"
   ]
  },
  {
   "cell_type": "markdown",
   "metadata": {},
   "source": [
    "### Join on author based on Jaccard score of at least 0.3 with 3-gram tokenization"
   ]
  },
  {
   "cell_type": "code",
   "execution_count": 12,
   "metadata": {},
   "outputs": [],
   "source": [
    "q3 = sm.QgramTokenizer(qval=3,return_set=True)"
   ]
  },
  {
   "cell_type": "code",
   "execution_count": 33,
   "metadata": {},
   "outputs": [],
   "source": [
    "wor_half_pairs_a_q3_jac_03 = ssj.jaccard_join(wor, half, 'wor_id', 'half_id', 'wor_author_lower', 'half_author_lower', q3, 0.3, \n",
    "                                     l_out_attrs=['wor_title','wor_title_no_par','wor_title_no_par_no_stop_words','wor_author', 'wor_firstauthor', 'wor_firsttwoauthors','wor_binding','wor_pubdate', 'wor_pages','wor_publisher','wor_isbn'], \n",
    "                                     r_out_attrs=['half_isbn','half_title','half_title_no_par','half_title_no_par_no_stop_words','half_author','half_binding','half_pubdate','half_pages','half_publisher'],\n",
    "                                     n_jobs=-3)\n",
    "#wor_half_pairs_a_q3_jac_03.to_csv('wor_half_pairs_a_q3_jac_03.csv',index=False)"
   ]
  },
  {
   "cell_type": "markdown",
   "metadata": {},
   "source": [
    "### Join on first author (wor_firstauthor and half_author) based on Jaccard score of at least 0.3 with 3-gram tokenization"
   ]
  },
  {
   "cell_type": "code",
   "execution_count": 19,
   "metadata": {},
   "outputs": [],
   "source": [
    "wor_half_pairs_fa2_q3_jac_03 = ssj.jaccard_join(wor, half, 'wor_id', 'half_id', 'wor_firstauthor', 'half_author', q3, 0.3, \n",
    "                                    l_out_attrs=['wor_title','wor_title_no_par','wor_title_no_par_no_stop_words','wor_author', 'wor_firstauthor', 'wor_firsttwoauthors','wor_binding','wor_pubdate', 'wor_pages','wor_publisher','wor_isbn'], \n",
    "                                    r_out_attrs=['half_isbn','half_title','half_title_no_par','half_title_no_par_no_stop_words','half_author','half_binding','half_pubdate','half_pages','half_publisher'],\n",
    "                                    n_jobs=-3)\n",
    "#wor_half_pairs_fa2_q3_jac_03.to_csv('wor_half_pairs_fa2_q3_jac_03.csv',index=False)"
   ]
  },
  {
   "cell_type": "markdown",
   "metadata": {},
   "source": [
    "### Join on title (with parentheses) based on Jaccard score of at least 0.3 with 3-gram tokenization"
   ]
  },
  {
   "cell_type": "code",
   "execution_count": 20,
   "metadata": {},
   "outputs": [],
   "source": [
    "wor_half_pairs_tit_q3_jac_03 = ssj.jaccard_join(wor, half, 'wor_id', 'half_id', 'wor_title_lower', 'half_title_lower', q3, 0.3, \n",
    "                                     l_out_attrs=['wor_title','wor_title_no_par','wor_title_no_par_no_stop_words','wor_author', 'wor_firstauthor', 'wor_firsttwoauthors','wor_binding','wor_pubdate', 'wor_pages','wor_publisher','wor_isbn'], \n",
    "                                     r_out_attrs=['half_isbn','half_title','half_title_no_par','half_title_no_par_no_stop_words','half_author','half_binding','half_pubdate','half_pages','half_publisher'],\n",
    "                                     n_jobs=-3)\n",
    "#wor_half_pairs_tit_q3_jac_03.to_csv('wor_half_pairs_tit_q3_jac_03.csv',index=False)"
   ]
  },
  {
   "cell_type": "markdown",
   "metadata": {},
   "source": [
    "### Join on title (without parentheses) based on Jaccard score of at least 0.3 with 3-gram tokenization"
   ]
  },
  {
   "cell_type": "code",
   "execution_count": 22,
   "metadata": {},
   "outputs": [],
   "source": [
    "wor_half_pairs_titnp_q3_jac_03 = ssj.jaccard_join(wor, half, 'wor_id', 'half_id', 'wor_title_no_par', 'half_title_no_par', q3, 0.3, \n",
    "                                     l_out_attrs=['wor_title','wor_title_no_par','wor_title_no_par_no_stop_words','wor_author', 'wor_firstauthor', 'wor_firsttwoauthors','wor_binding','wor_pubdate', 'wor_pages','wor_publisher','wor_isbn'], \n",
    "                                     r_out_attrs=['half_isbn','half_title','half_title_no_par','half_title_no_par_no_stop_words','half_author','half_binding','half_pubdate','half_pages','half_publisher'],\n",
    "                                     n_jobs=-3)\n",
    "wor_half_pairs_titnp_q3_jac_03.to_csv('wor_half_pairs_titnp_q3_jac_03.csv',index=False)"
   ]
  },
  {
   "cell_type": "markdown",
   "metadata": {},
   "source": [
    "### Join on title (w/out parentheses) and stop words removed based on Jaccard score of at least 0.3 with 3-gram tokenization"
   ]
  },
  {
   "cell_type": "code",
   "execution_count": 25,
   "metadata": {},
   "outputs": [],
   "source": [
    "wor_half_pairs_titnp_nosw_q3_jac_03 = ssj.jaccard_join(wor, half, 'wor_id', 'half_id', 'wor_title_no_par_no_stop_words', 'half_title_no_par_no_stop_words', q3, 0.3, \n",
    "                                    l_out_attrs=['wor_title','wor_title_no_par','wor_title_no_par_no_stop_words','wor_author', 'wor_firstauthor', 'wor_firsttwoauthors','wor_binding','wor_pubdate', 'wor_pages','wor_publisher','wor_isbn'], \n",
    "                                     r_out_attrs=['half_isbn','half_title','half_title_no_par','half_title_no_par_no_stop_words','half_author','half_binding','half_pubdate','half_pages','half_publisher'],\n",
    "                                     n_jobs=-3)"
   ]
  },
  {
   "cell_type": "markdown",
   "metadata": {},
   "source": [
    "### Evaluate Blocking"
   ]
  },
  {
   "cell_type": "code",
   "execution_count": 56,
   "metadata": {},
   "outputs": [
    {
     "name": "stdout",
     "output_type": "stream",
     "text": [
      "True matches across wor and halfdery: 1370\n"
     ]
    }
   ],
   "source": [
    "print('True matches across wor and halfdery: {}'.format(matches_wor_half.shape[0]))"
   ]
  },
  {
   "cell_type": "code",
   "execution_count": 34,
   "metadata": {},
   "outputs": [],
   "source": [
    "def assignTrueLabels(df_blockedpairs, idcolumn1, idcolumn2):\n",
    "    return df_blockedpairs.apply(lambda row: 1 if (row[idcolumn1]==row[idcolumn2]) else 0, axis=1)"
   ]
  },
  {
   "cell_type": "code",
   "execution_count": 35,
   "metadata": {},
   "outputs": [],
   "source": [
    "def calcRedRatio(df1,df2,df_blockedpairs):\n",
    "    cp = (df1.shape[0]*df2.shape[0])/2\n",
    "    rr = (1-(df_blockedpairs.shape[0]/cp))*100\n",
    "    return round(rr,2)"
   ]
  },
  {
   "cell_type": "code",
   "execution_count": 36,
   "metadata": {},
   "outputs": [],
   "source": [
    "def calcPairCompISBN(df_matches,df_blockedpairs,true_label_col):\n",
    "    pc = (df_blockedpairs[df_blockedpairs[true_label_col]==1].shape[0]/df_matches.shape[0])*100\n",
    "    return round(pc,2)"
   ]
  },
  {
   "cell_type": "code",
   "execution_count": 37,
   "metadata": {},
   "outputs": [],
   "source": [
    "#Assign labels to the blockedpairs df\n",
    "wor_half_pairs_a_q3_jac_03['true_label'] = assignTrueLabels(wor_half_pairs_a_q3_jac_03,'l_wor_isbn','r_half_isbn')\n",
    "wor_half_pairs_fa2_q3_jac_03['true_label'] = assignTrueLabels(wor_half_pairs_fa2_q3_jac_03,'l_wor_isbn','r_half_isbn')\n",
    "wor_half_pairs_tit_q3_jac_03['true_label'] = assignTrueLabels(wor_half_pairs_tit_q3_jac_03,'l_wor_isbn','r_half_isbn')\n",
    "wor_half_pairs_titnp_q3_jac_03['true_label'] = assignTrueLabels(wor_half_pairs_titnp_q3_jac_03,'l_wor_isbn','r_half_isbn')\n",
    "wor_half_pairs_titnp_nosw_q3_jac_03['true_label'] = assignTrueLabels(wor_half_pairs_titnp_nosw_q3_jac_03,'l_wor_isbn','r_half_isbn')"
   ]
  },
  {
   "cell_type": "code",
   "execution_count": 40,
   "metadata": {},
   "outputs": [
    {
     "name": "stdout",
     "output_type": "stream",
     "text": [
      "Blocking based on author, Jaccaed, 3-gram, Threshold 0.3\n",
      "Evaluation of wor_half_pairs_a_q3_jac_03\n",
      "Number of rows: 146,851\n",
      "Reduction Ratio: 99.81%\n",
      "Pair Completeness: 97.3%\n",
      "\n",
      "\n",
      "Blocking based on first author (wor) and author (half), Jaccaed, 3-gram, Threshold 0.3\n",
      "Evaluation of wor_half_pairs_fa2_q3_jac_03\n",
      "Number of rows: 49,867\n",
      "Reduction Ratio: 99.93%\n",
      "Pair Completeness: 84.96%\n",
      "\n",
      "\n",
      "Evaluation of wor_half_pairs_tit_q3_jac_03 (Title, Jaccaed, 3-gram, Threshold 0.3)\n",
      "Number of rows: 19,925\n",
      "Reduction Ratio: 99.97%\n",
      "Pair Completeness: 82.63%\n",
      "\n",
      "\n",
      "Evaluation of wor_half_pairs_titnp_q3_jac_03 (Title excluded text in parenthesis, Jaccard, 3-gram, Threshold 0.3)\n",
      "Number of rows: 5,352\n",
      "Reduction Ratio: 99.99%\n",
      "Pair Completeness: 63.72%\n",
      "\n",
      "\n",
      "Evaluation of wor_half_pairs_titnp_nosw_q3_jac_03 (Title excluded text in parenthesis and stop words, Jaccard, 3-gram, Threshold 0.3)\n",
      "Number of rows: 34,707\n",
      "Reduction Ratio: 99.95%\n",
      "Pair Completeness: 88.32%\n"
     ]
    }
   ],
   "source": [
    "print('Blocking based on author, Jaccaed, 3-gram, Threshold 0.3')\n",
    "print('Evaluation of wor_half_pairs_a_q3_jac_03')\n",
    "print('Number of rows: {:,}'.format(wor_half_pairs_a_q3_jac_03.shape[0]))\n",
    "print('Reduction Ratio: {}%'.format(calcRedRatio(wor,half,wor_half_pairs_a_q3_jac_03)))\n",
    "print('Pair Completeness: {}%'.format(calcPairCompISBN(matches_wor_half,wor_half_pairs_a_q3_jac_03,'true_label')))\n",
    "print('\\n')\n",
    "print('Blocking based on first author (wor) and author (half), Jaccaed, 3-gram, Threshold 0.3')\n",
    "print('Evaluation of wor_half_pairs_fa2_q3_jac_03')\n",
    "print('Number of rows: {:,}'.format(wor_half_pairs_fa2_q3_jac_03.shape[0]))\n",
    "print('Reduction Ratio: {}%'.format(calcRedRatio(wor,half,wor_half_pairs_fa2_q3_jac_03)))\n",
    "print('Pair Completeness: {}%'.format(calcPairCompISBN(matches_wor_half,wor_half_pairs_fa2_q3_jac_03,'true_label')))\n",
    "print('\\n')\n",
    "print('Evaluation of wor_half_pairs_tit_q3_jac_03 (Title, Jaccaed, 3-gram, Threshold 0.3)')\n",
    "print('Number of rows: {:,}'.format(wor_half_pairs_tit_q3_jac_03.shape[0]))\n",
    "print('Reduction Ratio: {}%'.format(calcRedRatio(wor,half,wor_half_pairs_tit_q3_jac_03)))\n",
    "print('Pair Completeness: {}%'.format(calcPairCompISBN(matches_wor_half,wor_half_pairs_tit_q3_jac_03,'true_label')))\n",
    "print('\\n')\n",
    "print('Evaluation of wor_half_pairs_titnp_q3_jac_03 (Title excluded text in parenthesis, Jaccard, 3-gram, Threshold 0.3)')\n",
    "print('Number of rows: {:,}'.format(wor_half_pairs_titnp_q3_jac_03.shape[0]))\n",
    "print('Reduction Ratio: {}%'.format(calcRedRatio(wor,half,wor_half_pairs_titnp_q3_jac_03)))\n",
    "print('Pair Completeness: {}%'.format(calcPairCompISBN(matches_wor_half,wor_half_pairs_titnp_q3_jac_03,'true_label')))\n",
    "print('\\n')\n",
    "print('Evaluation of wor_half_pairs_titnp_nosw_q3_jac_03 (Title excluded text in parenthesis and stop words, Jaccard, 3-gram, Threshold 0.3)')\n",
    "print('Number of rows: {:,}'.format(wor_half_pairs_titnp_nosw_q3_jac_03.shape[0]))\n",
    "print('Reduction Ratio: {}%'.format(calcRedRatio(wor,half,wor_half_pairs_titnp_nosw_q3_jac_03)))\n",
    "print('Pair Completeness: {}%'.format(calcPairCompISBN(matches_wor_half,wor_half_pairs_titnp_nosw_q3_jac_03,'true_label')))"
   ]
  },
  {
   "cell_type": "code",
   "execution_count": 62,
   "metadata": {},
   "outputs": [],
   "source": [
    "matches_wor_half.to_csv('matching_pais/matches_wor_half.csv',index=False)"
   ]
  },
  {
   "cell_type": "markdown",
   "metadata": {},
   "source": [
    "-- Blocking based on author (lower cased) with Jaccard distance using 3-gram tokens performs best."
   ]
  },
  {
   "cell_type": "code",
   "execution_count": 39,
   "metadata": {},
   "outputs": [],
   "source": [
    "wor_half_pairs_a_q3_jac_03.to_csv('filtered_correspondences/wor_half_pairs_a_q3_jac_03.csv',index=False)"
   ]
  }
 ],
 "metadata": {
  "kernelspec": {
   "display_name": "Python [conda env:mag]",
   "language": "python",
   "name": "conda-env-mag-py"
  },
  "language_info": {
   "codemirror_mode": {
    "name": "ipython",
    "version": 3
   },
   "file_extension": ".py",
   "mimetype": "text/x-python",
   "name": "python",
   "nbconvert_exporter": "python",
   "pygments_lexer": "ipython3",
   "version": "3.6.10"
  },
  "varInspector": {
   "cols": {
    "lenName": 16,
    "lenType": 16,
    "lenVar": 40
   },
   "kernels_config": {
    "python": {
     "delete_cmd_postfix": "",
     "delete_cmd_prefix": "del ",
     "library": "var_list.py",
     "varRefreshCmd": "print(var_dic_list())"
    },
    "r": {
     "delete_cmd_postfix": ") ",
     "delete_cmd_prefix": "rm(",
     "library": "var_list.r",
     "varRefreshCmd": "cat(var_dic_list()) "
    }
   },
   "types_to_exclude": [
    "module",
    "function",
    "builtin_function_or_method",
    "instance",
    "_Feature"
   ],
   "window_display": false
  }
 },
 "nbformat": 4,
 "nbformat_minor": 2
}
