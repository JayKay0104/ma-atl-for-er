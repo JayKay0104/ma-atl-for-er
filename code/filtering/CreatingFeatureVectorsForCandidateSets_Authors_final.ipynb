{
 "cells": [
  {
   "cell_type": "code",
   "execution_count": 2,
   "metadata": {},
   "outputs": [],
   "source": [
    "%load_ext autoreload\n",
    "%autoreload\n",
    "\n",
    "import warnings\n",
    "import logging\n",
    "from help_functions import *"
   ]
  },
  {
   "cell_type": "markdown",
   "metadata": {},
   "source": [
    "#### Create Logger Handlers"
   ]
  },
  {
   "cell_type": "code",
   "execution_count": 2,
   "metadata": {},
   "outputs": [],
   "source": [
    "logger = logging.getLogger()\n",
    "logger.setLevel(logging.DEBUG)\n",
    "\n",
    "formatter = logging.Formatter('%(asctime)s - %(levelname)s - %(lineno)d - %(funcName)s - %(message)s')\n",
    "\n",
    "fh = logging.FileHandler('logging/CreatingFeatureVectorsOfPotCorr_Authors.log')\n",
    "fh.setLevel(logging.DEBUG)\n",
    "fh.setFormatter(formatter)\n",
    "logger.addHandler(fh)\n",
    "\n",
    "ch = logging.StreamHandler()\n",
    "ch.setLevel(logging.INFO)\n",
    "ch.setFormatter(formatter)\n",
    "logger.addHandler(ch)"
   ]
  },
  {
   "cell_type": "markdown",
   "metadata": {},
   "source": [
    "### Read in all candidate sets and store them as Pandas DataFrames in a Dictionary"
   ]
  },
  {
   "cell_type": "code",
   "execution_count": 3,
   "metadata": {},
   "outputs": [],
   "source": [
    "# The datasets should follow the same structure\n",
    "path_to_datasets='../../candsets/authors/' # path to the directory where the datasets are stored\n",
    "pattern_of_filename = '(candset_.{3}_.{3,4})_train' # the file names of the datasets should follow the same pattern\n",
    "csv_separator = ',' # all datasets need to be csv files and need to have the same separator\n",
    "lst_of_ids = ['id','uri']  # provide the names of the IDs that are in the datasets\n",
    "candset_dict = readDataInDictionary(path_to_datasets, pattern_of_filename, csv_separator)"
   ]
  },
  {
   "cell_type": "code",
   "execution_count": 4,
   "metadata": {},
   "outputs": [
    {
     "data": {
      "text/plain": [
       "Index(['dnb_id', 'dnb_uri', 'dnb_birthdate', 'dnb_deathdate', 'dnb_gender',\n",
       "       'dnb_name', 'dnb_work', 'dbp_id', 'dbp_uri', 'dbp_birthdate',\n",
       "       'dbp_deathdate', 'dbp_gender', 'dbp_name', 'dbp_work', 'dbp_link_db',\n",
       "       'label'],\n",
       "      dtype='object')"
      ]
     },
     "execution_count": 4,
     "metadata": {},
     "output_type": "execute_result"
    }
   ],
   "source": [
    "candset_dict['candset_dbp_dnb'].columns"
   ]
  },
  {
   "cell_type": "code",
   "execution_count": 5,
   "metadata": {},
   "outputs": [
    {
     "name": "stderr",
     "output_type": "stream",
     "text": [
      "2020-06-12 15:39:32,252 - INFO - 235 - returnAlignedDataTypeSchema - Start with candset_dbp_viaf\n",
      "2020-06-12 15:39:32,254 - INFO - 84 - getDataTypes - Start detecting datatypes for all columns of dataframe:\n",
      "2020-06-12 15:39:32,678 - INFO - 138 - getDataTypes - Datatype for Column viaf_birthdate detected: date\n",
      "2020-06-12 15:39:32,883 - INFO - 138 - getDataTypes - Datatype for Column viaf_deathdate detected: date\n",
      "2020-06-12 15:39:32,906 - INFO - 107 - getDataTypes - Datatype for Column viaf_gender detected: custom\n",
      "2020-06-12 15:39:40,778 - INFO - 138 - getDataTypes - Datatype for Column viaf_name detected: str\n",
      "2020-06-12 15:39:40,829 - INFO - 112 - getDataTypes - Datatype for Column viaf_work detected: long_str with avg_length 15.060646303674192\n",
      "2020-06-12 15:39:41,079 - INFO - 138 - getDataTypes - Datatype for Column dbp_birthdate detected: date\n",
      "2020-06-12 15:39:41,190 - INFO - 138 - getDataTypes - Datatype for Column dbp_deathdate detected: date\n",
      "2020-06-12 15:39:41,201 - INFO - 107 - getDataTypes - Datatype for Column dbp_gender detected: custom\n",
      "2020-06-12 15:39:49,621 - INFO - 138 - getDataTypes - Datatype for Column dbp_name detected: str\n",
      "2020-06-12 15:39:49,650 - INFO - 112 - getDataTypes - Datatype for Column dbp_work detected: long_str with avg_length 6.525208951199784\n",
      "2020-06-12 15:39:49,651 - INFO - 235 - returnAlignedDataTypeSchema - Start with candset_dbp_dnb\n",
      "2020-06-12 15:39:49,652 - INFO - 84 - getDataTypes - Start detecting datatypes for all columns of dataframe:\n",
      "2020-06-12 15:39:49,799 - INFO - 138 - getDataTypes - Datatype for Column dnb_birthdate detected: date\n",
      "2020-06-12 15:39:49,869 - INFO - 138 - getDataTypes - Datatype for Column dnb_deathdate detected: date\n",
      "2020-06-12 15:39:55,996 - INFO - 138 - getDataTypes - Datatype for Column dnb_gender detected: str\n",
      "2020-06-12 15:40:02,619 - INFO - 138 - getDataTypes - Datatype for Column dnb_name detected: str\n",
      "2020-06-12 15:40:02,627 - INFO - 138 - getDataTypes - Datatype for Column dnb_work detected: str\n",
      "2020-06-12 15:40:02,801 - INFO - 138 - getDataTypes - Datatype for Column dbp_birthdate detected: date\n",
      "2020-06-12 15:40:02,899 - INFO - 138 - getDataTypes - Datatype for Column dbp_deathdate detected: date\n",
      "2020-06-12 15:40:02,908 - INFO - 107 - getDataTypes - Datatype for Column dbp_gender detected: custom\n",
      "2020-06-12 15:40:09,444 - INFO - 138 - getDataTypes - Datatype for Column dbp_name detected: str\n",
      "2020-06-12 15:40:09,458 - INFO - 112 - getDataTypes - Datatype for Column dbp_work detected: long_str with avg_length 7.5274010517575425\n",
      "2020-06-12 15:40:09,460 - INFO - 235 - returnAlignedDataTypeSchema - Start with candset_dbp_wiki\n",
      "2020-06-12 15:40:09,461 - INFO - 84 - getDataTypes - Start detecting datatypes for all columns of dataframe:\n",
      "2020-06-12 15:40:09,899 - INFO - 138 - getDataTypes - Datatype for Column wiki_birthdate detected: date\n",
      "2020-06-12 15:40:10,115 - INFO - 138 - getDataTypes - Datatype for Column wiki_deathdate detected: date\n",
      "2020-06-12 15:40:20,256 - INFO - 138 - getDataTypes - Datatype for Column wiki_name detected: str\n",
      "2020-06-12 15:40:20,263 - INFO - 112 - getDataTypes - Datatype for Column wiki_work detected: long_str with avg_length 6.977670488835244\n",
      "2020-06-12 15:40:30,133 - INFO - 138 - getDataTypes - Datatype for Column wiki_gender detected: str\n",
      "2020-06-12 15:40:30,547 - INFO - 138 - getDataTypes - Datatype for Column dbp_birthdate detected: date\n",
      "2020-06-12 15:40:30,750 - INFO - 138 - getDataTypes - Datatype for Column dbp_deathdate detected: date\n",
      "2020-06-12 15:40:41,418 - INFO - 138 - getDataTypes - Datatype for Column dbp_gender detected: str\n",
      "2020-06-12 15:40:51,873 - INFO - 138 - getDataTypes - Datatype for Column dbp_name detected: str\n",
      "2020-06-12 15:40:51,894 - INFO - 112 - getDataTypes - Datatype for Column dbp_work detected: long_str with avg_length 8.552462352462353\n",
      "2020-06-12 15:40:51,896 - INFO - 205 - getAlignedDataTypeSchema - Different Format for work\n",
      "2020-06-12 15:40:51,897 - INFO - 212 - getAlignedDataTypeSchema - For work at least one colum has str instead of long_str. But take majority.\n",
      "2020-06-12 15:40:51,898 - INFO - 225 - getAlignedDataTypeSchema - type_per_column dictionary returned\n"
     ]
    }
   ],
   "source": [
    "type_per_column = returnAlignedDataTypeSchema(candset_dict,lst_of_ids_to_be_removed=['id','uri','link_db','label'])"
   ]
  },
  {
   "cell_type": "code",
   "execution_count": 21,
   "metadata": {},
   "outputs": [
    {
     "data": {
      "text/plain": [
       "{'name': 'str',\n",
       " 'birthdate': 'date',\n",
       " 'work': 'long_str',\n",
       " 'deathdate': 'date',\n",
       " 'gender': 'custom'}"
      ]
     },
     "execution_count": 21,
     "metadata": {},
     "output_type": "execute_result"
    }
   ],
   "source": [
    "type_per_column"
   ]
  },
  {
   "cell_type": "code",
   "execution_count": 7,
   "metadata": {
    "scrolled": false
   },
   "outputs": [
    {
     "name": "stderr",
     "output_type": "stream",
     "text": [
      "2020-06-12 15:41:16,715 - INFO - 982 - createLabeledFeatureVectorForCandidateSets - Start Function\n",
      "2020-06-12 15:41:17,975 - INFO - 1005 - createLabeledFeatureVectorForCandidateSets - Common attributes identified!\n",
      "2020-06-12 15:41:17,976 - INFO - 1028 - createLabeledFeatureVectorForCandidateSets - dbp_deathdate\n",
      "2020-06-12 15:41:17,979 - INFO - 1030 - createLabeledFeatureVectorForCandidateSets - viaf_deathdate\n",
      "2020-06-12 15:41:27,191 - INFO - 1028 - createLabeledFeatureVectorForCandidateSets - dbp_gender\n",
      "2020-06-12 15:41:27,195 - INFO - 1030 - createLabeledFeatureVectorForCandidateSets - viaf_gender\n",
      "2020-06-12 15:41:27,938 - INFO - 1028 - createLabeledFeatureVectorForCandidateSets - dbp_birthdate\n",
      "2020-06-12 15:41:27,941 - INFO - 1030 - createLabeledFeatureVectorForCandidateSets - viaf_birthdate\n",
      "2020-06-12 15:41:35,452 - INFO - 1028 - createLabeledFeatureVectorForCandidateSets - dbp_name\n",
      "2020-06-12 15:41:35,454 - INFO - 1030 - createLabeledFeatureVectorForCandidateSets - viaf_name\n",
      "2020-06-12 15:41:40,436 - INFO - 1028 - createLabeledFeatureVectorForCandidateSets - dbp_work\n",
      "2020-06-12 15:41:40,441 - INFO - 1030 - createLabeledFeatureVectorForCandidateSets - viaf_work\n",
      "2020-06-12 15:41:56,332 - INFO - 1033 - createLabeledFeatureVectorForCandidateSets - \n",
      "Finished! Labeled Feature Vectors created for dbp and viaf\n",
      "2020-06-12 15:41:56,335 - INFO - 982 - createLabeledFeatureVectorForCandidateSets - Start Function\n",
      "2020-06-12 15:41:57,286 - INFO - 1005 - createLabeledFeatureVectorForCandidateSets - Common attributes identified!\n",
      "2020-06-12 15:41:57,287 - INFO - 1028 - createLabeledFeatureVectorForCandidateSets - dbp_deathdate\n",
      "2020-06-12 15:41:57,289 - INFO - 1030 - createLabeledFeatureVectorForCandidateSets - dnb_deathdate\n",
      "2020-06-12 15:42:02,069 - WARNING - 284 - days_sim - No Date at least one of the two str1: 1814-01-04 and str2: 708-01-01, hence -1 assigend\n",
      "2020-06-12 15:42:02,072 - WARNING - 284 - days_sim - No Date at least one of the two str1: 708-06-05 and str2: 708-01-01, hence -1 assigend\n",
      "2020-06-12 15:42:02,083 - WARNING - 284 - days_sim - No Date at least one of the two str1: 1000-01-01 and str2: 921-01-01, hence -1 assigend\n",
      "2020-06-12 15:42:02,373 - WARNING - 284 - days_sim - No Date at least one of the two str1: 2003-08-04 and str2: 66-01-01, hence -1 assigend\n",
      "2020-06-12 15:42:02,376 - WARNING - 284 - days_sim - No Date at least one of the two str1: 1905-05-15 and str2: 66-01-01, hence -1 assigend\n",
      "2020-06-12 15:42:02,377 - WARNING - 284 - days_sim - No Date at least one of the two str1: 2006-02-25 and str2: 66-01-01, hence -1 assigend\n",
      "2020-06-12 15:42:02,379 - WARNING - 284 - days_sim - No Date at least one of the two str1: 2008-08-24 and str2: 66-01-01, hence -1 assigend\n",
      "2020-06-12 15:42:02,575 - WARNING - 284 - days_sim - No Date at least one of the two str1: 1902-04-16 and str2: 120-01-01, hence -1 assigend\n",
      "2020-06-12 15:42:02,590 - WARNING - 284 - days_sim - No Date at least one of the two str1: 880-05-28 and str2: 880-01-01, hence -1 assigend\n",
      "2020-06-12 15:42:03,130 - WARNING - 301 - years_sim - No Date at least one of the two str1: 1814-01-04 and str2: 708-01-01, hence -1 assigend\n",
      "2020-06-12 15:42:03,133 - WARNING - 301 - years_sim - No Date at least one of the two str1: 708-06-05 and str2: 708-01-01, hence -1 assigend\n",
      "2020-06-12 15:42:03,144 - WARNING - 301 - years_sim - No Date at least one of the two str1: 1000-01-01 and str2: 921-01-01, hence -1 assigend\n",
      "2020-06-12 15:42:03,438 - WARNING - 301 - years_sim - No Date at least one of the two str1: 2003-08-04 and str2: 66-01-01, hence -1 assigend\n",
      "2020-06-12 15:42:03,440 - WARNING - 301 - years_sim - No Date at least one of the two str1: 1905-05-15 and str2: 66-01-01, hence -1 assigend\n",
      "2020-06-12 15:42:03,444 - WARNING - 301 - years_sim - No Date at least one of the two str1: 2006-02-25 and str2: 66-01-01, hence -1 assigend\n",
      "2020-06-12 15:42:03,446 - WARNING - 301 - years_sim - No Date at least one of the two str1: 2008-08-24 and str2: 66-01-01, hence -1 assigend\n",
      "2020-06-12 15:42:03,628 - WARNING - 301 - years_sim - No Date at least one of the two str1: 1902-04-16 and str2: 120-01-01, hence -1 assigend\n",
      "2020-06-12 15:42:03,641 - WARNING - 301 - years_sim - No Date at least one of the two str1: 880-05-28 and str2: 880-01-01, hence -1 assigend\n",
      "2020-06-12 15:42:04,262 - WARNING - 318 - days_diff - No Date at least one of the two str1: 1814-01-04 and str2: 708-01-01, hence -1 assigend\n",
      "2020-06-12 15:42:04,264 - WARNING - 318 - days_diff - No Date at least one of the two str1: 708-06-05 and str2: 708-01-01, hence -1 assigend\n",
      "2020-06-12 15:42:04,283 - WARNING - 318 - days_diff - No Date at least one of the two str1: 1000-01-01 and str2: 921-01-01, hence -1 assigend\n",
      "2020-06-12 15:42:04,717 - WARNING - 318 - days_diff - No Date at least one of the two str1: 2003-08-04 and str2: 66-01-01, hence -1 assigend\n",
      "2020-06-12 15:42:04,719 - WARNING - 318 - days_diff - No Date at least one of the two str1: 1905-05-15 and str2: 66-01-01, hence -1 assigend\n",
      "2020-06-12 15:42:04,721 - WARNING - 318 - days_diff - No Date at least one of the two str1: 2006-02-25 and str2: 66-01-01, hence -1 assigend\n",
      "2020-06-12 15:42:04,722 - WARNING - 318 - days_diff - No Date at least one of the two str1: 2008-08-24 and str2: 66-01-01, hence -1 assigend\n",
      "2020-06-12 15:42:04,905 - WARNING - 318 - days_diff - No Date at least one of the two str1: 1902-04-16 and str2: 120-01-01, hence -1 assigend\n",
      "2020-06-12 15:42:04,917 - WARNING - 318 - days_diff - No Date at least one of the two str1: 880-05-28 and str2: 880-01-01, hence -1 assigend\n",
      "2020-06-12 15:42:05,060 - INFO - 1028 - createLabeledFeatureVectorForCandidateSets - dbp_gender\n",
      "2020-06-12 15:42:05,063 - INFO - 1030 - createLabeledFeatureVectorForCandidateSets - dnb_gender\n",
      "2020-06-12 15:42:05,540 - INFO - 1028 - createLabeledFeatureVectorForCandidateSets - dbp_birthdate\n",
      "2020-06-12 15:42:05,543 - INFO - 1030 - createLabeledFeatureVectorForCandidateSets - dnb_birthdate\n",
      "2020-06-12 15:42:07,309 - WARNING - 284 - days_sim - No Date at least one of the two str1: 1951-01-10 and str2: 940-01-01, hence -1 assigend\n",
      "2020-06-12 15:42:07,358 - WARNING - 284 - days_sim - No Date at least one of the two str1: 71-09-25 and str2: 1971-09-25, hence -1 assigend\n",
      "2020-06-12 15:42:07,493 - WARNING - 284 - days_sim - No Date at least one of the two str1: 1947-09-10 and str2: 500-01-01, hence -1 assigend\n",
      "2020-06-12 15:42:07,615 - WARNING - 284 - days_sim - No Date at least one of the two str1: 1740-09-02 and str2: 640-01-01, hence -1 assigend\n",
      "2020-06-12 15:42:08,286 - WARNING - 284 - days_sim - No Date at least one of the two str1: 1973-03-18 and str2: 210-01-01, hence -1 assigend\n",
      "2020-06-12 15:42:08,337 - WARNING - 284 - days_sim - No Date at least one of the two str1: 71-09-25 and str2: 1933-01-01, hence -1 assigend\n",
      "2020-06-12 15:42:08,479 - WARNING - 284 - days_sim - No Date at least one of the two str1: 1945-01-14 and str2: 505-01-01, hence -1 assigend\n",
      "2020-06-12 15:42:08,580 - WARNING - 284 - days_sim - No Date at least one of the two str1: 1833-07-13 and str2: 55-01-01, hence -1 assigend\n",
      "2020-06-12 15:42:09,056 - WARNING - 301 - years_sim - No Date at least one of the two str1: 1951-01-10 and str2: 940-01-01, hence -1 assigend\n",
      "2020-06-12 15:42:09,115 - WARNING - 301 - years_sim - No Date at least one of the two str1: 71-09-25 and str2: 1971-09-25, hence -1 assigend\n",
      "2020-06-12 15:42:09,263 - WARNING - 301 - years_sim - No Date at least one of the two str1: 1947-09-10 and str2: 500-01-01, hence -1 assigend\n",
      "2020-06-12 15:42:09,477 - WARNING - 301 - years_sim - No Date at least one of the two str1: 1740-09-02 and str2: 640-01-01, hence -1 assigend\n",
      "2020-06-12 15:42:09,964 - WARNING - 301 - years_sim - No Date at least one of the two str1: 1973-03-18 and str2: 210-01-01, hence -1 assigend\n",
      "2020-06-12 15:42:09,998 - WARNING - 301 - years_sim - No Date at least one of the two str1: 71-09-25 and str2: 1933-01-01, hence -1 assigend\n",
      "2020-06-12 15:42:10,070 - WARNING - 301 - years_sim - No Date at least one of the two str1: 1945-01-14 and str2: 505-01-01, hence -1 assigend\n",
      "2020-06-12 15:42:10,159 - WARNING - 301 - years_sim - No Date at least one of the two str1: 1833-07-13 and str2: 55-01-01, hence -1 assigend\n"
     ]
    },
    {
     "name": "stderr",
     "output_type": "stream",
     "text": [
      "2020-06-12 15:42:10,671 - WARNING - 318 - days_diff - No Date at least one of the two str1: 1951-01-10 and str2: 940-01-01, hence -1 assigend\n",
      "2020-06-12 15:42:10,759 - WARNING - 318 - days_diff - No Date at least one of the two str1: 71-09-25 and str2: 1971-09-25, hence -1 assigend\n",
      "2020-06-12 15:42:10,901 - WARNING - 318 - days_diff - No Date at least one of the two str1: 1947-09-10 and str2: 500-01-01, hence -1 assigend\n",
      "2020-06-12 15:42:11,030 - WARNING - 318 - days_diff - No Date at least one of the two str1: 1740-09-02 and str2: 640-01-01, hence -1 assigend\n",
      "2020-06-12 15:42:11,508 - WARNING - 318 - days_diff - No Date at least one of the two str1: 1973-03-18 and str2: 210-01-01, hence -1 assigend\n",
      "2020-06-12 15:42:11,543 - WARNING - 318 - days_diff - No Date at least one of the two str1: 71-09-25 and str2: 1933-01-01, hence -1 assigend\n",
      "2020-06-12 15:42:11,608 - WARNING - 318 - days_diff - No Date at least one of the two str1: 1945-01-14 and str2: 505-01-01, hence -1 assigend\n",
      "2020-06-12 15:42:11,694 - WARNING - 318 - days_diff - No Date at least one of the two str1: 1833-07-13 and str2: 55-01-01, hence -1 assigend\n",
      "2020-06-12 15:42:12,049 - INFO - 1028 - createLabeledFeatureVectorForCandidateSets - dbp_name\n",
      "2020-06-12 15:42:12,052 - INFO - 1030 - createLabeledFeatureVectorForCandidateSets - dnb_name\n",
      "2020-06-12 15:42:16,511 - INFO - 1028 - createLabeledFeatureVectorForCandidateSets - dbp_work\n",
      "2020-06-12 15:42:16,514 - INFO - 1030 - createLabeledFeatureVectorForCandidateSets - dnb_work\n",
      "2020-06-12 15:42:24,473 - INFO - 1033 - createLabeledFeatureVectorForCandidateSets - \n",
      "Finished! Labeled Feature Vectors created for dbp and dnb\n",
      "2020-06-12 15:42:24,475 - INFO - 982 - createLabeledFeatureVectorForCandidateSets - Start Function\n",
      "2020-06-12 15:42:25,593 - INFO - 1005 - createLabeledFeatureVectorForCandidateSets - Common attributes identified!\n",
      "2020-06-12 15:42:25,595 - INFO - 1028 - createLabeledFeatureVectorForCandidateSets - dbp_deathdate\n",
      "2020-06-12 15:42:25,598 - INFO - 1030 - createLabeledFeatureVectorForCandidateSets - wiki_deathdate\n",
      "2020-06-12 15:42:35,312 - WARNING - 284 - days_sim - No Date at least one of the two str1: 1849-05-22 and str2: 104-01-01, hence -1 assigend\n",
      "2020-06-12 15:42:35,912 - WARNING - 284 - days_sim - No Date at least one of the two str1: 1861-02-28 and str2: 800-01-01, hence -1 assigend\n",
      "2020-06-12 15:42:36,552 - WARNING - 301 - years_sim - No Date at least one of the two str1: 1849-05-22 and str2: 104-01-01, hence -1 assigend\n",
      "2020-06-12 15:42:37,213 - WARNING - 301 - years_sim - No Date at least one of the two str1: 1861-02-28 and str2: 800-01-01, hence -1 assigend\n",
      "2020-06-12 15:42:37,920 - WARNING - 318 - days_diff - No Date at least one of the two str1: 1849-05-22 and str2: 104-01-01, hence -1 assigend\n",
      "2020-06-12 15:42:38,533 - WARNING - 318 - days_diff - No Date at least one of the two str1: 1861-02-28 and str2: 800-01-01, hence -1 assigend\n",
      "2020-06-12 15:42:38,985 - INFO - 1028 - createLabeledFeatureVectorForCandidateSets - dbp_gender\n",
      "2020-06-12 15:42:38,988 - INFO - 1030 - createLabeledFeatureVectorForCandidateSets - wiki_gender\n",
      "2020-06-12 15:42:39,760 - INFO - 1028 - createLabeledFeatureVectorForCandidateSets - dbp_birthdate\n",
      "2020-06-12 15:42:39,762 - INFO - 1030 - createLabeledFeatureVectorForCandidateSets - wiki_birthdate\n",
      "2020-06-12 15:42:43,653 - WARNING - 284 - days_sim - No Date at least one of the two str1: 1942-06-18 and str2: 972-01-01, hence -1 assigend\n",
      "2020-06-12 15:42:43,787 - WARNING - 284 - days_sim - No Date at least one of the two str1: 1951-03-04 and str2: 193-01-01, hence -1 assigend\n",
      "2020-06-12 15:42:43,819 - WARNING - 284 - days_sim - No Date at least one of the two str1: 1954-10-13 and str2: 125-01-01, hence -1 assigend\n",
      "2020-06-12 15:42:44,665 - WARNING - 284 - days_sim - No Date at least one of the two str1: 1828-01-01 and str2: 700-01-01, hence -1 assigend\n",
      "2020-06-12 15:42:45,259 - WARNING - 284 - days_sim - No Date at least one of the two str1: 1938-01-17 and str2: 900-01-01, hence -1 assigend\n",
      "2020-06-12 15:42:45,261 - WARNING - 284 - days_sim - No Date at least one of the two str1: 1628-11-28 and str2: 900-01-01, hence -1 assigend\n",
      "2020-06-12 15:42:45,264 - WARNING - 284 - days_sim - No Date at least one of the two str1: 1867-08-14 and str2: 900-01-01, hence -1 assigend\n",
      "2020-06-12 15:42:45,611 - WARNING - 301 - years_sim - No Date at least one of the two str1: 1942-06-18 and str2: 972-01-01, hence -1 assigend\n",
      "2020-06-12 15:42:45,758 - WARNING - 301 - years_sim - No Date at least one of the two str1: 1951-03-04 and str2: 193-01-01, hence -1 assigend\n",
      "2020-06-12 15:42:45,791 - WARNING - 301 - years_sim - No Date at least one of the two str1: 1954-10-13 and str2: 125-01-01, hence -1 assigend\n",
      "2020-06-12 15:42:46,751 - WARNING - 301 - years_sim - No Date at least one of the two str1: 1828-01-01 and str2: 700-01-01, hence -1 assigend\n",
      "2020-06-12 15:42:47,509 - WARNING - 301 - years_sim - No Date at least one of the two str1: 1938-01-17 and str2: 900-01-01, hence -1 assigend\n",
      "2020-06-12 15:42:47,510 - WARNING - 301 - years_sim - No Date at least one of the two str1: 1628-11-28 and str2: 900-01-01, hence -1 assigend\n",
      "2020-06-12 15:42:47,512 - WARNING - 301 - years_sim - No Date at least one of the two str1: 1867-08-14 and str2: 900-01-01, hence -1 assigend\n",
      "2020-06-12 15:42:47,789 - WARNING - 318 - days_diff - No Date at least one of the two str1: 1942-06-18 and str2: 972-01-01, hence -1 assigend\n",
      "2020-06-12 15:42:47,942 - WARNING - 318 - days_diff - No Date at least one of the two str1: 1951-03-04 and str2: 193-01-01, hence -1 assigend\n",
      "2020-06-12 15:42:47,975 - WARNING - 318 - days_diff - No Date at least one of the two str1: 1954-10-13 and str2: 125-01-01, hence -1 assigend\n",
      "2020-06-12 15:42:48,724 - WARNING - 318 - days_diff - No Date at least one of the two str1: 1828-01-01 and str2: 700-01-01, hence -1 assigend\n",
      "2020-06-12 15:42:49,309 - WARNING - 318 - days_diff - No Date at least one of the two str1: 1938-01-17 and str2: 900-01-01, hence -1 assigend\n",
      "2020-06-12 15:42:49,311 - WARNING - 318 - days_diff - No Date at least one of the two str1: 1628-11-28 and str2: 900-01-01, hence -1 assigend\n",
      "2020-06-12 15:42:49,313 - WARNING - 318 - days_diff - No Date at least one of the two str1: 1867-08-14 and str2: 900-01-01, hence -1 assigend\n",
      "2020-06-12 15:42:49,358 - INFO - 1028 - createLabeledFeatureVectorForCandidateSets - dbp_name\n",
      "2020-06-12 15:42:49,361 - INFO - 1030 - createLabeledFeatureVectorForCandidateSets - wiki_name\n",
      "2020-06-12 15:42:55,808 - INFO - 1028 - createLabeledFeatureVectorForCandidateSets - dbp_work\n",
      "2020-06-12 15:42:55,811 - INFO - 1030 - createLabeledFeatureVectorForCandidateSets - wiki_work\n",
      "2020-06-12 15:43:08,451 - INFO - 1033 - createLabeledFeatureVectorForCandidateSets - \n",
      "Finished! Labeled Feature Vectors created for dbp and wiki\n",
      "2020-06-12 15:43:08,453 - INFO - 960 - returnLabeledFeatureVectorsForCandidateSet - \n",
      "Finished! All labeled feature vectors are created for all dataset combinations\n"
     ]
    }
   ],
   "source": [
    "candset_feature_dict = returnLabeledFeatureVectorsForCandidateSet(candset_dict, type_per_column, columns_to_be_ignored=['uri','link_db'], identifier='id')"
   ]
  },
  {
   "cell_type": "code",
   "execution_count": 9,
   "metadata": {},
   "outputs": [
    {
     "name": "stderr",
     "output_type": "stream",
     "text": [
      "2020-06-12 15:43:39,068 - INFO - 701 - rescaleFeatureVectorsInDict - Rescaling feature dataframes within the dictionary that end with diff\n",
      "2020-06-12 15:43:39,090 - INFO - 708 - rescaleFeatureVectorsInDict - Column that ends with diff found: deathdate_days_diff. Hence will be rescaled!\n",
      "2020-06-12 15:43:39,107 - INFO - 708 - rescaleFeatureVectorsInDict - Column that ends with diff found: birthdate_days_diff. Hence will be rescaled!\n",
      "2020-06-12 15:43:39,136 - INFO - 708 - rescaleFeatureVectorsInDict - Column that ends with diff found: deathdate_days_diff. Hence will be rescaled!\n",
      "2020-06-12 15:43:39,148 - INFO - 708 - rescaleFeatureVectorsInDict - Column that ends with diff found: birthdate_days_diff. Hence will be rescaled!\n",
      "2020-06-12 15:43:39,173 - INFO - 708 - rescaleFeatureVectorsInDict - Column that ends with diff found: deathdate_days_diff. Hence will be rescaled!\n",
      "2020-06-12 15:43:39,184 - INFO - 708 - rescaleFeatureVectorsInDict - Column that ends with diff found: birthdate_days_diff. Hence will be rescaled!\n",
      "2020-06-12 15:43:39,197 - INFO - 714 - rescaleFeatureVectorsInDict - All features from the frature_vector dataframes within the dictionary that end with diff are now rescaled inplace\n"
     ]
    }
   ],
   "source": [
    "rescaleFeatureVectorsInDict(candset_feature_dict,col_to_be_dropped=['ids','label'],col_to_be_rescaled_endswith='diff')"
   ]
  },
  {
   "cell_type": "code",
   "execution_count": 12,
   "metadata": {},
   "outputs": [],
   "source": [
    "for df in candset_feature_dict:\n",
    "    candset_feature_dict[df].to_csv('../../candsets/authors/candset_{}_train.csv'.format(df),index=False)"
   ]
  },
  {
   "cell_type": "markdown",
   "metadata": {},
   "source": [
    "### Test Set"
   ]
  },
  {
   "cell_type": "code",
   "execution_count": 11,
   "metadata": {},
   "outputs": [
    {
     "name": "stderr",
     "output_type": "stream",
     "text": [
      "2020-06-12 16:18:43,035 - INFO - 65 - readDataInDictionary - ../../candsets/authors/candset_dbp_wiki_test.csv is read in and is stored in the dictionary with they key ['candset_dbp_wiki']\n",
      "2020-06-12 16:18:43,072 - INFO - 65 - readDataInDictionary - ../../candsets/authors/candset_dbp_dnb_test.csv is read in and is stored in the dictionary with they key ['candset_dbp_dnb']\n",
      "2020-06-12 16:18:43,132 - INFO - 65 - readDataInDictionary - ../../candsets/authors/candset_dbp_viaf_test.csv is read in and is stored in the dictionary with they key ['candset_dbp_viaf']\n"
     ]
    }
   ],
   "source": [
    "# The datasets should follow the same structure\n",
    "path_to_datasets='../../candsets/authors/' # path to the directory where the datasets are stored\n",
    "pattern_of_filename = '(candset_.{3}_.{3,4})_test' # the file names of the datasets should follow the same pattern\n",
    "csv_separator = ',' # all datasets need to be csv files and need to have the same separator\n",
    "lst_of_ids = ['id','uri']  # provide the names of the IDs that are in the datasets\n",
    "candset_dict_test = readDataInDictionary(path_to_datasets, pattern_of_filename, csv_separator)"
   ]
  },
  {
   "cell_type": "code",
   "execution_count": 12,
   "metadata": {},
   "outputs": [
    {
     "data": {
      "text/plain": [
       "Index(['dnb_id', 'dnb_uri', 'dnb_birthdate', 'dnb_deathdate', 'dnb_gender',\n",
       "       'dnb_name', 'dnb_work', 'dbp_id', 'dbp_uri', 'dbp_birthdate',\n",
       "       'dbp_deathdate', 'dbp_gender', 'dbp_name', 'dbp_work', 'dbp_link_db',\n",
       "       'label'],\n",
       "      dtype='object')"
      ]
     },
     "execution_count": 12,
     "metadata": {},
     "output_type": "execute_result"
    }
   ],
   "source": [
    "candset_dict_test['candset_dbp_dnb'].columns"
   ]
  },
  {
   "cell_type": "code",
   "execution_count": 13,
   "metadata": {
    "scrolled": false
   },
   "outputs": [
    {
     "name": "stderr",
     "output_type": "stream",
     "text": [
      "2020-06-12 16:18:57,552 - INFO - 982 - createLabeledFeatureVectorForCandidateSets - Start Function\n",
      "2020-06-12 16:18:57,897 - INFO - 1005 - createLabeledFeatureVectorForCandidateSets - Common attributes identified!\n",
      "2020-06-12 16:18:57,899 - INFO - 1028 - createLabeledFeatureVectorForCandidateSets - dbp_deathdate\n",
      "2020-06-12 16:18:57,901 - INFO - 1030 - createLabeledFeatureVectorForCandidateSets - wiki_deathdate\n",
      "2020-06-12 16:19:01,319 - INFO - 1028 - createLabeledFeatureVectorForCandidateSets - dbp_gender\n",
      "2020-06-12 16:19:01,324 - INFO - 1030 - createLabeledFeatureVectorForCandidateSets - wiki_gender\n",
      "2020-06-12 16:19:01,574 - INFO - 1028 - createLabeledFeatureVectorForCandidateSets - dbp_birthdate\n",
      "2020-06-12 16:19:01,578 - INFO - 1030 - createLabeledFeatureVectorForCandidateSets - wiki_birthdate\n",
      "2020-06-12 16:19:03,127 - WARNING - 284 - days_sim - No Date at least one of the two str1: 1906-10-14 and str2: 145-08-25, hence -1 assigend\n",
      "2020-06-12 16:19:03,563 - WARNING - 301 - years_sim - No Date at least one of the two str1: 1906-10-14 and str2: 145-08-25, hence -1 assigend\n",
      "2020-06-12 16:19:04,220 - WARNING - 318 - days_diff - No Date at least one of the two str1: 1906-10-14 and str2: 145-08-25, hence -1 assigend\n",
      "2020-06-12 16:19:04,254 - INFO - 1028 - createLabeledFeatureVectorForCandidateSets - dbp_name\n",
      "2020-06-12 16:19:04,257 - INFO - 1030 - createLabeledFeatureVectorForCandidateSets - wiki_name\n",
      "2020-06-12 16:19:06,033 - INFO - 1028 - createLabeledFeatureVectorForCandidateSets - dbp_work\n",
      "2020-06-12 16:19:06,036 - INFO - 1030 - createLabeledFeatureVectorForCandidateSets - wiki_work\n",
      "2020-06-12 16:19:08,928 - INFO - 1033 - createLabeledFeatureVectorForCandidateSets - \n",
      "Finished! Labeled Feature Vectors created for dbp and wiki\n",
      "2020-06-12 16:19:08,930 - INFO - 982 - createLabeledFeatureVectorForCandidateSets - Start Function\n",
      "2020-06-12 16:19:09,120 - INFO - 1005 - createLabeledFeatureVectorForCandidateSets - Common attributes identified!\n",
      "2020-06-12 16:19:09,122 - INFO - 1028 - createLabeledFeatureVectorForCandidateSets - dbp_deathdate\n",
      "2020-06-12 16:19:09,123 - INFO - 1030 - createLabeledFeatureVectorForCandidateSets - dnb_deathdate\n",
      "2020-06-12 16:19:11,194 - INFO - 1028 - createLabeledFeatureVectorForCandidateSets - dbp_gender\n",
      "2020-06-12 16:19:11,198 - INFO - 1030 - createLabeledFeatureVectorForCandidateSets - dnb_gender\n",
      "2020-06-12 16:19:11,331 - INFO - 1028 - createLabeledFeatureVectorForCandidateSets - dbp_birthdate\n",
      "2020-06-12 16:19:11,333 - INFO - 1030 - createLabeledFeatureVectorForCandidateSets - dnb_birthdate\n",
      "2020-06-12 16:19:11,849 - WARNING - 284 - days_sim - No Date at least one of the two str1: 71-09-25 and str2: 1881-01-01, hence -1 assigend\n",
      "2020-06-12 16:19:12,186 - WARNING - 301 - years_sim - No Date at least one of the two str1: 71-09-25 and str2: 1881-01-01, hence -1 assigend\n",
      "2020-06-12 16:19:12,519 - WARNING - 318 - days_diff - No Date at least one of the two str1: 71-09-25 and str2: 1881-01-01, hence -1 assigend\n",
      "2020-06-12 16:19:12,672 - INFO - 1028 - createLabeledFeatureVectorForCandidateSets - dbp_name\n",
      "2020-06-12 16:19:12,674 - INFO - 1030 - createLabeledFeatureVectorForCandidateSets - dnb_name\n",
      "2020-06-12 16:19:13,869 - INFO - 1028 - createLabeledFeatureVectorForCandidateSets - dbp_work\n",
      "2020-06-12 16:19:13,872 - INFO - 1030 - createLabeledFeatureVectorForCandidateSets - dnb_work\n",
      "2020-06-12 16:19:15,627 - INFO - 1033 - createLabeledFeatureVectorForCandidateSets - \n",
      "Finished! Labeled Feature Vectors created for dbp and dnb\n",
      "2020-06-12 16:19:15,629 - INFO - 982 - createLabeledFeatureVectorForCandidateSets - Start Function\n",
      "2020-06-12 16:19:15,847 - INFO - 1005 - createLabeledFeatureVectorForCandidateSets - Common attributes identified!\n",
      "2020-06-12 16:19:15,849 - INFO - 1028 - createLabeledFeatureVectorForCandidateSets - dbp_deathdate\n",
      "2020-06-12 16:19:15,851 - INFO - 1030 - createLabeledFeatureVectorForCandidateSets - viaf_deathdate\n",
      "2020-06-12 16:19:18,166 - INFO - 1028 - createLabeledFeatureVectorForCandidateSets - dbp_gender\n",
      "2020-06-12 16:19:18,168 - INFO - 1030 - createLabeledFeatureVectorForCandidateSets - viaf_gender\n",
      "2020-06-12 16:19:18,340 - INFO - 1028 - createLabeledFeatureVectorForCandidateSets - dbp_birthdate\n",
      "2020-06-12 16:19:18,342 - INFO - 1030 - createLabeledFeatureVectorForCandidateSets - viaf_birthdate\n",
      "2020-06-12 16:19:20,105 - INFO - 1028 - createLabeledFeatureVectorForCandidateSets - dbp_name\n",
      "2020-06-12 16:19:20,109 - INFO - 1030 - createLabeledFeatureVectorForCandidateSets - viaf_name\n",
      "2020-06-12 16:19:21,598 - INFO - 1028 - createLabeledFeatureVectorForCandidateSets - dbp_work\n",
      "2020-06-12 16:19:21,601 - INFO - 1030 - createLabeledFeatureVectorForCandidateSets - viaf_work\n",
      "2020-06-12 16:19:25,198 - INFO - 1033 - createLabeledFeatureVectorForCandidateSets - \n",
      "Finished! Labeled Feature Vectors created for dbp and viaf\n",
      "2020-06-12 16:19:25,200 - INFO - 960 - returnLabeledFeatureVectorsForCandidateSet - \n",
      "Finished! All labeled feature vectors are created for all dataset combinations\n"
     ]
    }
   ],
   "source": [
    "candset_feature_dict_test = returnLabeledFeatureVectorsForCandidateSet(candset_dict_test, type_per_column, columns_to_be_ignored=['uri','link_db'], identifier='id', no_prefix=True)"
   ]
  },
  {
   "cell_type": "code",
   "execution_count": 17,
   "metadata": {},
   "outputs": [
    {
     "data": {
      "text/plain": [
       "Index(['ids', 'label', 'deathdate_days_sim', 'deathdate_years_sim',\n",
       "       'deathdate_days_diff', 'gender_lev_sim', 'gender_jac_q3_sim',\n",
       "       'gender_jac_an_sim', 'gender_rel_jac_an_sim', 'gender_containment_sim',\n",
       "       'gender_exact_sim', 'name_lev_sim', 'name_jac_q3_sim',\n",
       "       'name_jac_an_sim', 'name_rel_jac_an_sim', 'name_containment_sim',\n",
       "       'name_exact_sim', 'work_cosine_tfidf_sim', 'work_lev_sim',\n",
       "       'work_jac_q3_sim', 'work_jac_an_sim', 'work_rel_jac_an_sim',\n",
       "       'work_containment_sim', 'work_exact_sim', 'birthdate_days_sim',\n",
       "       'birthdate_years_sim', 'birthdate_days_diff'],\n",
       "      dtype='object')"
      ]
     },
     "execution_count": 17,
     "metadata": {},
     "output_type": "execute_result"
    }
   ],
   "source": [
    "candset_feature_dict_test['feature_dbp_dnb'].keys()"
   ]
  },
  {
   "cell_type": "code",
   "execution_count": 19,
   "metadata": {},
   "outputs": [
    {
     "name": "stderr",
     "output_type": "stream",
     "text": [
      "2020-06-09 15:36:07,117 - INFO - 685 - rescaleFeatureVectorsInDict - Rescaling feature dataframes within the dictionary that end with diff\n",
      "2020-06-09 15:36:07,132 - INFO - 692 - rescaleFeatureVectorsInDict - Column that ends with diff found: deathdate_days_diff. Hence will be rescaled!\n",
      "2020-06-09 15:36:07,146 - INFO - 692 - rescaleFeatureVectorsInDict - Column that ends with diff found: birthdate_days_diff. Hence will be rescaled!\n",
      "2020-06-09 15:36:07,173 - INFO - 692 - rescaleFeatureVectorsInDict - Column that ends with diff found: deathdate_days_diff. Hence will be rescaled!\n",
      "2020-06-09 15:36:07,185 - INFO - 692 - rescaleFeatureVectorsInDict - Column that ends with diff found: birthdate_days_diff. Hence will be rescaled!\n",
      "2020-06-09 15:36:07,207 - INFO - 692 - rescaleFeatureVectorsInDict - Column that ends with diff found: deathdate_days_diff. Hence will be rescaled!\n",
      "2020-06-09 15:36:07,217 - INFO - 692 - rescaleFeatureVectorsInDict - Column that ends with diff found: birthdate_days_diff. Hence will be rescaled!\n",
      "2020-06-09 15:36:07,227 - INFO - 698 - rescaleFeatureVectorsInDict - All features from the frature_vector dataframes within the dictionary that end with diff are now rescaled inplace\n"
     ]
    }
   ],
   "source": [
    "rescaleFeatureVectorsInDict(candset_feature_dict_test,col_to_be_dropped=['ids','label'],col_to_be_rescaled_endswith='diff')"
   ]
  },
  {
   "cell_type": "code",
   "execution_count": 20,
   "metadata": {},
   "outputs": [],
   "source": [
    "for df in candset_feature_dict:\n",
    "    candset_feature_dict_test[df].to_csv('../../candsets/authors/candset_{}_test.csv'.format(df),index=False)"
   ]
  }
 ],
 "metadata": {
  "kernelspec": {
   "display_name": "Python [conda env:mag]",
   "language": "python",
   "name": "conda-env-mag-py"
  },
  "language_info": {
   "codemirror_mode": {
    "name": "ipython",
    "version": 3
   },
   "file_extension": ".py",
   "mimetype": "text/x-python",
   "name": "python",
   "nbconvert_exporter": "python",
   "pygments_lexer": "ipython3",
   "version": "3.6.10"
  },
  "notify_time": "30",
  "varInspector": {
   "cols": {
    "lenName": 16,
    "lenType": 16,
    "lenVar": 40
   },
   "kernels_config": {
    "python": {
     "delete_cmd_postfix": "",
     "delete_cmd_prefix": "del ",
     "library": "var_list.py",
     "varRefreshCmd": "print(var_dic_list())"
    },
    "r": {
     "delete_cmd_postfix": ") ",
     "delete_cmd_prefix": "rm(",
     "library": "var_list.r",
     "varRefreshCmd": "cat(var_dic_list()) "
    }
   },
   "position": {
    "height": "731.198px",
    "left": "1590.94px",
    "right": "20px",
    "top": "18.9236px",
    "width": "508.455px"
   },
   "types_to_exclude": [
    "module",
    "function",
    "builtin_function_or_method",
    "instance",
    "_Feature"
   ],
   "window_display": false
  }
 },
 "nbformat": 4,
 "nbformat_minor": 2
}
