{
 "cells": [
  {
   "cell_type": "code",
   "execution_count": 1,
   "metadata": {},
   "outputs": [],
   "source": [
    "import pandas as pd\n",
    "import numpy as np\n",
    "import py_stringmatching as sm\n",
    "import py_stringsimjoin as ssj\n",
    "from pandas_profiling import ProfileReport\n",
    "import re\n",
    "import nltk\n",
    "from datetime import datetime\n",
    "from nltk.corpus import stopwords \n",
    "from nltk.tokenize import word_tokenize"
   ]
  },
  {
   "cell_type": "code",
   "execution_count": 2,
   "metadata": {},
   "outputs": [],
   "source": [
    "pd.set_option('display.max_columns', 1000)\n",
    "pd.set_option('display.width', 1000)\n",
    "pd.set_option('display.max_rows', 1000)"
   ]
  },
  {
   "cell_type": "code",
   "execution_count": 3,
   "metadata": {},
   "outputs": [],
   "source": [
    "bx = pd.read_csv('../../datasets/books/bx.csv',sep=';',low_memory=False)"
   ]
  },
  {
   "cell_type": "code",
   "execution_count": 4,
   "metadata": {},
   "outputs": [],
   "source": [
    "wor = pd.read_csv('../../datasets/books/wor.csv',sep=';')"
   ]
  },
  {
   "cell_type": "code",
   "execution_count": 5,
   "metadata": {},
   "outputs": [
    {
     "name": "stdout",
     "output_type": "stream",
     "text": [
      "<class 'pandas.core.frame.DataFrame'>\n",
      "RangeIndex: 270948 entries, 0 to 270947\n",
      "Data columns (total 10 columns):\n",
      " #   Column                         Non-Null Count   Dtype \n",
      "---  ------                         --------------   ----- \n",
      " 0   bx_id                          270948 non-null  object\n",
      " 1   bx_isbn                        270948 non-null  object\n",
      " 2   bx_title                       270948 non-null  object\n",
      " 3   bx_firstauthor                 270947 non-null  object\n",
      " 4   bx_pubdate                     270948 non-null  object\n",
      " 5   bx_pages                       270948 non-null  int64 \n",
      " 6   bx_publisher                   270946 non-null  object\n",
      " 7   bx_binding                     4171 non-null    object\n",
      " 8   bx_title_no_par                270946 non-null  object\n",
      " 9   bx_title_no_par_no_stop_words  270658 non-null  object\n",
      "dtypes: int64(1), object(9)\n",
      "memory usage: 20.7+ MB\n"
     ]
    }
   ],
   "source": [
    "bx.info()"
   ]
  },
  {
   "cell_type": "code",
   "execution_count": 6,
   "metadata": {},
   "outputs": [
    {
     "name": "stdout",
     "output_type": "stream",
     "text": [
      "<class 'pandas.core.frame.DataFrame'>\n",
      "RangeIndex: 48792 entries, 0 to 48791\n",
      "Data columns (total 12 columns):\n",
      " #   Column                          Non-Null Count  Dtype \n",
      "---  ------                          --------------  ----- \n",
      " 0   wor_id                          48792 non-null  object\n",
      " 1   wor_isbn                        48792 non-null  int64 \n",
      " 2   wor_title                       48792 non-null  object\n",
      " 3   wor_author                      48533 non-null  object\n",
      " 4   wor_binding                     46050 non-null  object\n",
      " 5   wor_pubdate                     48677 non-null  object\n",
      " 6   wor_pages                       48792 non-null  int64 \n",
      " 7   wor_publisher                   48744 non-null  object\n",
      " 8   wor_title_no_par                48791 non-null  object\n",
      " 9   wor_title_no_par_no_stop_words  48729 non-null  object\n",
      " 10  wor_firstauthor                 48511 non-null  object\n",
      " 11  wor_firsttwoauthors             48533 non-null  object\n",
      "dtypes: int64(2), object(10)\n",
      "memory usage: 4.5+ MB\n"
     ]
    }
   ],
   "source": [
    "wor.info()"
   ]
  },
  {
   "cell_type": "code",
   "execution_count": 7,
   "metadata": {},
   "outputs": [],
   "source": [
    "#wor is not read in as string but as integer so we convert it back to string\n",
    "wor['wor_isbn'] = wor['wor_isbn'].apply(lambda x: str(x))"
   ]
  },
  {
   "cell_type": "code",
   "execution_count": 8,
   "metadata": {},
   "outputs": [],
   "source": [
    "bx.fillna('',inplace=True)\n",
    "wor.fillna('',inplace=True)"
   ]
  },
  {
   "cell_type": "code",
   "execution_count": 9,
   "metadata": {},
   "outputs": [
    {
     "name": "stdout",
     "output_type": "stream",
     "text": [
      "True matches across wor and bx: 9270\n"
     ]
    }
   ],
   "source": [
    "matches_wor_bx = pd.merge(wor,bx,left_on='wor_isbn',right_on='bx_isbn')\n",
    "print('True matches across wor and bx: {}'.format(matches_wor_bx.shape[0]))"
   ]
  },
  {
   "cell_type": "code",
   "execution_count": 10,
   "metadata": {},
   "outputs": [
    {
     "data": {
      "text/plain": [
       "Index(['bx_id', 'bx_isbn', 'bx_title', 'bx_firstauthor', 'bx_pubdate', 'bx_pages', 'bx_publisher', 'bx_binding', 'bx_title_no_par', 'bx_title_no_par_no_stop_words'], dtype='object')"
      ]
     },
     "execution_count": 10,
     "metadata": {},
     "output_type": "execute_result"
    }
   ],
   "source": [
    "bx.columns"
   ]
  },
  {
   "cell_type": "code",
   "execution_count": 11,
   "metadata": {},
   "outputs": [
    {
     "data": {
      "text/plain": [
       "Index(['wor_id', 'wor_isbn', 'wor_title', 'wor_author', 'wor_binding', 'wor_pubdate', 'wor_pages', 'wor_publisher', 'wor_title_no_par', 'wor_title_no_par_no_stop_words', 'wor_firstauthor', 'wor_firsttwoauthors'], dtype='object')"
      ]
     },
     "execution_count": 11,
     "metadata": {},
     "output_type": "execute_result"
    }
   ],
   "source": [
    "wor.columns"
   ]
  },
  {
   "cell_type": "markdown",
   "metadata": {},
   "source": [
    "### Join on author based on Jaccard score of at least 0.5 with 3-gram tokenization"
   ]
  },
  {
   "cell_type": "code",
   "execution_count": 12,
   "metadata": {},
   "outputs": [],
   "source": [
    "q3 = sm.QgramTokenizer(qval=3,return_set=True)"
   ]
  },
  {
   "cell_type": "code",
   "execution_count": 13,
   "metadata": {},
   "outputs": [
    {
     "name": "stderr",
     "output_type": "stream",
     "text": [
      "/home/debian/anaconda3/envs/mag/lib/python3.6/site-packages/py_stringsimjoin/utils/validation.py:30: FutureWarning: The pandas.np module is deprecated and will be removed from pandas in a future version. Import numpy directly instead\n",
      "  if attr_type != pd.np.object:\n"
     ]
    }
   ],
   "source": [
    "wor_bx_pairs_a_q3_jac_05 = ssj.jaccard_join(wor, bx, 'wor_id', 'bx_id', 'wor_author_lower', 'bx_author_lower', q3, 0.5, \n",
    "                                     l_out_attrs=['wor_title','wor_title_lower','wor_title_no_par','wor_title_no_par_no_stop_words','wor_author','wor_author_lower','wor_firstauthor', 'wor_firsttwoauthors','wor_binding','wor_pubdate', 'wor_pages','wor_publisher','wor_isbn'], \n",
    "                                     r_out_attrs=['bx_isbn','bx_title','bx_title_lower','bx_title_no_par','bx_title_no_par_no_stop_words','bx_author', 'bx_author_lower','bx_binding','bx_pubdate','bx_pages','bx_publisher'],\n",
    "                                     n_jobs=-3)"
   ]
  },
  {
   "cell_type": "markdown",
   "metadata": {},
   "source": [
    "### Join on first author (wor_firstauthor and bx_author) based on Jaccard score of at least 0.5 with 3-gram tokenization"
   ]
  },
  {
   "cell_type": "code",
   "execution_count": 14,
   "metadata": {},
   "outputs": [],
   "source": [
    "wor_bx_pairs_fa_q3_jac_05 = ssj.jaccard_join(wor, bx, 'wor_id', 'bx_id', 'wor_firstauthor', 'bx_author', q3, 0.5, \n",
    "                                     l_out_attrs=['wor_title','wor_title_lower','wor_title_no_par','wor_title_no_par_no_stop_words','wor_author','wor_author_lower','wor_firstauthor', 'wor_firsttwoauthors','wor_binding','wor_pubdate', 'wor_pages','wor_publisher','wor_isbn'], \n",
    "                                     r_out_attrs=['bx_isbn','bx_title','bx_title_lower','bx_title_no_par','bx_title_no_par_no_stop_words','bx_author', 'bx_author_lower','bx_binding','bx_pubdate','bx_pages','bx_publisher'],\n",
    "                                     n_jobs=-3)"
   ]
  },
  {
   "cell_type": "markdown",
   "metadata": {},
   "source": [
    "### Join on title (with parentheses) based on Jaccard score of at least 0.5 with 3-gram tokenization"
   ]
  },
  {
   "cell_type": "code",
   "execution_count": 15,
   "metadata": {},
   "outputs": [],
   "source": [
    "wor_bx_pairs_tit_q3_jac_05 = ssj.jaccard_join(wor, bx, 'wor_id', 'bx_id', 'wor_title_lower', 'bx_title_lower', q3, 0.5, \n",
    "                                     l_out_attrs=['wor_title','wor_title_lower','wor_title_no_par','wor_title_no_par_no_stop_words','wor_author','wor_author_lower','wor_firstauthor', 'wor_firsttwoauthors','wor_binding','wor_pubdate', 'wor_pages','wor_publisher','wor_isbn'], \n",
    "                                     r_out_attrs=['bx_isbn','bx_title','bx_title_lower','bx_title_no_par','bx_title_no_par_no_stop_words','bx_author', 'bx_author_lower','bx_binding','bx_pubdate','bx_pages','bx_publisher'],\n",
    "                                     n_jobs=-3)"
   ]
  },
  {
   "cell_type": "markdown",
   "metadata": {},
   "source": [
    "### Join on title (without parentheses) based on Jaccard score of at least 0.5 with 3-gram tokenization"
   ]
  },
  {
   "cell_type": "code",
   "execution_count": 16,
   "metadata": {},
   "outputs": [],
   "source": [
    "wor_bx_pairs_titnp_q3_jac_05 = ssj.jaccard_join(wor, bx, 'wor_id', 'bx_id', 'wor_title_no_par', 'bx_title_no_par', q3, 0.5, \n",
    "                                     l_out_attrs=['wor_title','wor_title_lower','wor_title_no_par','wor_title_no_par_no_stop_words','wor_author','wor_author_lower','wor_firstauthor', 'wor_firsttwoauthors','wor_binding','wor_pubdate', 'wor_pages','wor_publisher','wor_isbn'], \n",
    "                                     r_out_attrs=['bx_isbn','bx_title','bx_title_lower','bx_title_no_par','bx_title_no_par_no_stop_words','bx_author', 'bx_author_lower','bx_binding','bx_pubdate','bx_pages','bx_publisher'],\n",
    "                                     n_jobs=-3)"
   ]
  },
  {
   "cell_type": "markdown",
   "metadata": {},
   "source": [
    "### Join on title (w/out parentheses) and stop words removed based on Jaccard score of at least 0.5 with 3-gram tokenization"
   ]
  },
  {
   "cell_type": "code",
   "execution_count": 17,
   "metadata": {},
   "outputs": [],
   "source": [
    "wor_bx_pairs_titnp_nosw_q3_jac_05 = ssj.jaccard_join(wor, bx, 'wor_id', 'bx_id', 'wor_title_no_par_no_stop_words', 'bx_title_no_par_no_stop_words', q3, 0.5, \n",
    "                                     l_out_attrs=['wor_title','wor_title_lower','wor_title_no_par','wor_title_no_par_no_stop_words','wor_author','wor_author_lower','wor_firstauthor', 'wor_firsttwoauthors','wor_binding','wor_pubdate', 'wor_pages','wor_publisher','wor_isbn'], \n",
    "                                     r_out_attrs=['bx_isbn','bx_title','bx_title_lower','bx_title_no_par','bx_title_no_par_no_stop_words','bx_author', 'bx_author_lower','bx_binding','bx_pubdate','bx_pages','bx_publisher'],\n",
    "                                     n_jobs=-3)"
   ]
  },
  {
   "cell_type": "markdown",
   "metadata": {},
   "source": [
    "### Join on title (w/out parentheses) and stop words removed based on Jaccard score of at least 0.3 with 3-gram tokenization"
   ]
  },
  {
   "cell_type": "code",
   "execution_count": 25,
   "metadata": {},
   "outputs": [],
   "source": [
    "wor_bx_pairs_titnp_nosw_q3_jac_03 = ssj.jaccard_join(wor, bx, 'wor_id', 'bx_id', 'wor_title_no_par_no_stop_words', 'bx_title_no_par_no_stop_words', q3, 0.3, \n",
    "                                     l_out_attrs=['wor_title','wor_title_lower','wor_title_no_par','wor_title_no_par_no_stop_words','wor_author','wor_author_lower','wor_firstauthor', 'wor_firsttwoauthors','wor_binding','wor_pubdate', 'wor_pages','wor_publisher','wor_isbn'], \n",
    "                                     r_out_attrs=['bx_isbn','bx_title','bx_title_lower','bx_title_no_par','bx_title_no_par_no_stop_words','bx_author', 'bx_author_lower','bx_binding','bx_pubdate','bx_pages','bx_publisher'],\n",
    "                                     n_jobs=-3)"
   ]
  },
  {
   "cell_type": "markdown",
   "metadata": {},
   "source": [
    "### Evaluate Blocking"
   ]
  },
  {
   "cell_type": "code",
   "execution_count": 18,
   "metadata": {},
   "outputs": [
    {
     "name": "stdout",
     "output_type": "stream",
     "text": [
      "True matches across wor and bxdery: 9270\n"
     ]
    }
   ],
   "source": [
    "#Calculafte the true matches (based on ISBN) and store it in matches_wor_bx\n",
    "matches_wor_bx = pd.merge(wor,bx,left_on='wor_isbn',right_on='bx_isbn')\n",
    "print('True matches across wor and bxdery: {}'.format(matches_wor_bx.shape[0]))"
   ]
  },
  {
   "cell_type": "code",
   "execution_count": 19,
   "metadata": {},
   "outputs": [],
   "source": [
    "def assignTrueLabels(df_blockedpairs, idcolumn1, idcolumn2):\n",
    "    return df_blockedpairs.apply(lambda row: 1 if (row[idcolumn1]==row[idcolumn2]) else 0, axis=1)"
   ]
  },
  {
   "cell_type": "code",
   "execution_count": 20,
   "metadata": {},
   "outputs": [],
   "source": [
    "def calcRedRatio(df1,df2,df_blockedpairs):\n",
    "    cp = (df1.shape[0]*df2.shape[0])/2\n",
    "    rr = (1-(df_blockedpairs.shape[0]/cp))*100\n",
    "    return round(rr,2)"
   ]
  },
  {
   "cell_type": "code",
   "execution_count": 21,
   "metadata": {},
   "outputs": [],
   "source": [
    "def calcPairCompISBN(df_matches,df_blockedpairs,true_label_col):\n",
    "    pc = (df_blockedpairs[df_blockedpairs[true_label_col]==1].shape[0]/df_matches.shape[0])*100\n",
    "    return round(pc,2)"
   ]
  },
  {
   "cell_type": "code",
   "execution_count": 22,
   "metadata": {},
   "outputs": [],
   "source": [
    "#Assign labels to the blockedpairs df\n",
    "wor_bx_pairs_a_q3_jac_05['true_label'] = assignTrueLabels(wor_bx_pairs_a_q3_jac_05,'l_wor_isbn','r_bx_isbn')\n",
    "wor_bx_pairs_fa_q3_jac_05['true_label'] = assignTrueLabels(wor_bx_pairs_fa_q3_jac_05,'l_wor_isbn','r_bx_isbn')\n",
    "wor_bx_pairs_tit_q3_jac_05['true_label'] = assignTrueLabels(wor_bx_pairs_tit_q3_jac_05,'l_wor_isbn','r_bx_isbn')\n",
    "wor_bx_pairs_titnp_q3_jac_05['true_label'] = assignTrueLabels(wor_bx_pairs_titnp_q3_jac_05,'l_wor_isbn','r_bx_isbn')\n",
    "wor_bx_pairs_titnp_nosw_q3_jac_05['true_label'] = assignTrueLabels(wor_bx_pairs_titnp_nosw_q3_jac_05,'l_wor_isbn','r_bx_isbn')"
   ]
  },
  {
   "cell_type": "code",
   "execution_count": 26,
   "metadata": {},
   "outputs": [],
   "source": [
    "wor_bx_pairs_titnp_nosw_q3_jac_03['true_label'] = assignTrueLabels(wor_bx_pairs_titnp_nosw_q3_jac_03,'l_wor_isbn','r_bx_isbn')"
   ]
  },
  {
   "cell_type": "code",
   "execution_count": 27,
   "metadata": {},
   "outputs": [
    {
     "name": "stdout",
     "output_type": "stream",
     "text": [
      "Blocking based on author, Jaccard, 3-gram, Threshold 0.5\n",
      "Evaluation of wor_bx_pairs_a_q3_jac_05\n",
      "Number of rows: 1,041,418\n",
      "Reduction Ratio: 99.98%\n",
      "Pair Completeness: 81.37%\n",
      "\n",
      "\n",
      "Blocking based on first author (wor) and author (bx), Jaccard, 3-gram, Threshold 0.5\n",
      "Evaluation of wor_bx_pairs_fa_q3_jac_05\n",
      "Number of rows: 102,451\n",
      "Reduction Ratio: 100.0%\n",
      "Pair Completeness: 7.53%\n",
      "\n",
      "\n",
      "Blocking based on title, Jaccard, 3-gram, Threshold 0.5\n",
      "Evaluation of wor_bx_pairs_tit_q3_jac_05 (Title, Jaccard, 3-gram, Threshold 0.5)\n",
      "Number of rows: 82,412\n",
      "Reduction Ratio: 100.0%\n",
      "Pair Completeness: 65.88%\n",
      "\n",
      "\n",
      "Evaluation of wor_bx_pairs_titnp_q3_jac_05 (Title excluded text in parenthesis, Jaccard, 3-gram, Threshold 0.5)\n",
      "Number of rows: 9,836\n",
      "Reduction Ratio: 100.0%\n",
      "Pair Completeness: 12.13%\n",
      "\n",
      "\n",
      "Evaluation of wor_bx_pairs_titnp_nosw_q3_jac_05 (Title excluded text in parenthesis and stop words, Jaccard, 3-gram, Threshold 0.5)\n",
      "Number of rows: 132,722\n",
      "Reduction Ratio: 100.0%\n",
      "Pair Completeness: 80.47%\n",
      "\n",
      "\n",
      "Evaluation of wor_bx_pairs_titnp_nosw_q3_jac_03 (Title excluded text in parenthesis and stop words, Jaccard, 3-gram, Threshold 0.3)\n",
      "Number of rows: 1,334,010\n",
      "Reduction Ratio: 99.98%\n",
      "Pair Completeness: 91.65%\n"
     ]
    }
   ],
   "source": [
    "print('Blocking based on author, Jaccard, 3-gram, Threshold 0.5')\n",
    "print('Evaluation of wor_bx_pairs_a_q3_jac_05')\n",
    "print('Number of rows: {:,}'.format(wor_bx_pairs_a_q3_jac_05.shape[0]))\n",
    "print('Reduction Ratio: {}%'.format(calcRedRatio(wor,bx,wor_bx_pairs_a_q3_jac_05)))\n",
    "print('Pair Completeness: {}%'.format(calcPairCompISBN(matches_wor_bx,wor_bx_pairs_a_q3_jac_05,'true_label')))\n",
    "print('\\n')\n",
    "print('Blocking based on first author (wor) and author (bx), Jaccard, 3-gram, Threshold 0.5')\n",
    "print('Evaluation of wor_bx_pairs_fa_q3_jac_05')\n",
    "print('Number of rows: {:,}'.format(wor_bx_pairs_fa_q3_jac_05.shape[0]))\n",
    "print('Reduction Ratio: {}%'.format(calcRedRatio(wor,bx,wor_bx_pairs_fa_q3_jac_05)))\n",
    "print('Pair Completeness: {}%'.format(calcPairCompISBN(matches_wor_bx,wor_bx_pairs_fa_q3_jac_05,'true_label')))\n",
    "\n",
    "print('\\n')\n",
    "print('Blocking based on title, Jaccard, 3-gram, Threshold 0.5')\n",
    "print('Evaluation of wor_bx_pairs_tit_q3_jac_05 (Title, Jaccard, 3-gram, Threshold 0.5)')\n",
    "print('Number of rows: {:,}'.format(wor_bx_pairs_tit_q3_jac_05.shape[0]))\n",
    "print('Reduction Ratio: {}%'.format(calcRedRatio(wor,bx,wor_bx_pairs_tit_q3_jac_05)))\n",
    "print('Pair Completeness: {}%'.format(calcPairCompISBN(matches_wor_bx,wor_bx_pairs_tit_q3_jac_05,'true_label')))\n",
    "print('\\n')\n",
    "print('Evaluation of wor_bx_pairs_titnp_q3_jac_05 (Title excluded text in parenthesis, Jaccard, 3-gram, Threshold 0.5)')\n",
    "print('Number of rows: {:,}'.format(wor_bx_pairs_titnp_q3_jac_05.shape[0]))\n",
    "print('Reduction Ratio: {}%'.format(calcRedRatio(wor,bx,wor_bx_pairs_titnp_q3_jac_05)))\n",
    "print('Pair Completeness: {}%'.format(calcPairCompISBN(matches_wor_bx,wor_bx_pairs_titnp_q3_jac_05,'true_label')))\n",
    "print('\\n')\n",
    "print('Evaluation of wor_bx_pairs_titnp_nosw_q3_jac_05 (Title excluded text in parenthesis and stop words, Jaccard, 3-gram, Threshold 0.5)')\n",
    "print('Number of rows: {:,}'.format(wor_bx_pairs_titnp_nosw_q3_jac_05.shape[0]))\n",
    "print('Reduction Ratio: {}%'.format(calcRedRatio(wor,bx,wor_bx_pairs_titnp_nosw_q3_jac_05)))\n",
    "print('Pair Completeness: {}%'.format(calcPairCompISBN(matches_wor_bx,wor_bx_pairs_titnp_nosw_q3_jac_05,'true_label')))\n",
    "\n",
    "print('\\n')\n",
    "print('Evaluation of wor_bx_pairs_titnp_nosw_q3_jac_03 (Title excluded text in parenthesis and stop words, Jaccard, 3-gram, Threshold 0.3)')\n",
    "print('Number of rows: {:,}'.format(wor_bx_pairs_titnp_nosw_q3_jac_03.shape[0]))\n",
    "print('Reduction Ratio: {}%'.format(calcRedRatio(wor,bx,wor_bx_pairs_titnp_nosw_q3_jac_03)))\n",
    "print('Pair Completeness: {}%'.format(calcPairCompISBN(matches_wor_bx,wor_bx_pairs_titnp_nosw_q3_jac_03,'true_label')))"
   ]
  },
  {
   "cell_type": "code",
   "execution_count": 28,
   "metadata": {},
   "outputs": [],
   "source": [
    "wor_bx_pairs_titnp_nosw_q3_jac_05.to_csv('filtered_correspondences/wor_bx_pairs_titnp_nosw_q3_jac_05.csv', index=False)"
   ]
  },
  {
   "cell_type": "code",
   "execution_count": null,
   "metadata": {},
   "outputs": [],
   "source": [
    "matches_wor_bx.to_csv('matching_pairs/matches_wor_bx.csv',index=False)"
   ]
  },
  {
   "cell_type": "markdown",
   "metadata": {},
   "source": [
    "-- Blocking based on Levenshtein performs significantly worse than Blocking on Jaccard distance with 3-gram tokens and blocking on title also performs worse compared to authors. Blocking on the firsttwoauthors performs best. Same results as with ban and wordery"
   ]
  }
 ],
 "metadata": {
  "kernelspec": {
   "display_name": "Python [conda env:mag]",
   "language": "python",
   "name": "conda-env-mag-py"
  },
  "language_info": {
   "codemirror_mode": {
    "name": "ipython",
    "version": 3
   },
   "file_extension": ".py",
   "mimetype": "text/x-python",
   "name": "python",
   "nbconvert_exporter": "python",
   "pygments_lexer": "ipython3",
   "version": "3.6.10"
  },
  "varInspector": {
   "cols": {
    "lenName": 16,
    "lenType": 16,
    "lenVar": 40
   },
   "kernels_config": {
    "python": {
     "delete_cmd_postfix": "",
     "delete_cmd_prefix": "del ",
     "library": "var_list.py",
     "varRefreshCmd": "print(var_dic_list())"
    },
    "r": {
     "delete_cmd_postfix": ") ",
     "delete_cmd_prefix": "rm(",
     "library": "var_list.r",
     "varRefreshCmd": "cat(var_dic_list()) "
    }
   },
   "types_to_exclude": [
    "module",
    "function",
    "builtin_function_or_method",
    "instance",
    "_Feature"
   ],
   "window_display": false
  }
 },
 "nbformat": 4,
 "nbformat_minor": 2
}
