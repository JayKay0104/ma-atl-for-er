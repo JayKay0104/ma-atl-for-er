{
 "cells": [
  {
   "cell_type": "code",
   "execution_count": 1,
   "metadata": {},
   "outputs": [],
   "source": [
    "import pandas as pd\n",
    "import numpy as np\n",
    "import py_stringmatching as sm\n",
    "import py_stringsimjoin as ssj\n",
    "from pandas_profiling import ProfileReport\n",
    "import re\n",
    "import nltk\n",
    "from datetime import datetime\n",
    "from nltk.corpus import stopwords \n",
    "from nltk.tokenize import word_tokenize\n",
    "pd.set_option('display.max_columns', 1000)\n",
    "pd.set_option('display.width', 1000)\n",
    "pd.set_option('display.max_rows', 1000)"
   ]
  },
  {
   "cell_type": "code",
   "execution_count": 2,
   "metadata": {},
   "outputs": [],
   "source": [
    "bx = pd.read_csv('../../datasets/books/bx.csv',dtype='str',sep=';')"
   ]
  },
  {
   "cell_type": "code",
   "execution_count": 3,
   "metadata": {},
   "outputs": [],
   "source": [
    "half = pd.read_csv('../../datasets/books/half.csv',dtype='str',sep=';')"
   ]
  },
  {
   "cell_type": "code",
   "execution_count": 4,
   "metadata": {},
   "outputs": [
    {
     "name": "stdout",
     "output_type": "stream",
     "text": [
      "<class 'pandas.core.frame.DataFrame'>\n",
      "RangeIndex: 270948 entries, 0 to 270947\n",
      "Data columns (total 10 columns):\n",
      " #   Column                         Non-Null Count   Dtype \n",
      "---  ------                         --------------   ----- \n",
      " 0   bx_id                          270948 non-null  object\n",
      " 1   bx_isbn                        270948 non-null  object\n",
      " 2   bx_title                       270948 non-null  object\n",
      " 3   bx_firstauthor                 270947 non-null  object\n",
      " 4   bx_pubdate                     270948 non-null  object\n",
      " 5   bx_pages                       270948 non-null  object\n",
      " 6   bx_publisher                   270946 non-null  object\n",
      " 7   bx_binding                     4171 non-null    object\n",
      " 8   bx_title_no_par                270946 non-null  object\n",
      " 9   bx_title_no_par_no_stop_words  270658 non-null  object\n",
      "dtypes: object(10)\n",
      "memory usage: 20.7+ MB\n"
     ]
    }
   ],
   "source": [
    "bx.info()"
   ]
  },
  {
   "cell_type": "code",
   "execution_count": 5,
   "metadata": {},
   "outputs": [
    {
     "name": "stdout",
     "output_type": "stream",
     "text": [
      "<class 'pandas.core.frame.DataFrame'>\n",
      "RangeIndex: 3099 entries, 0 to 3098\n",
      "Data columns (total 10 columns):\n",
      " #   Column                           Non-Null Count  Dtype \n",
      "---  ------                           --------------  ----- \n",
      " 0   half_id                          3099 non-null   object\n",
      " 1   half_isbn                        3099 non-null   object\n",
      " 2   half_title                       3099 non-null   object\n",
      " 3   half_firstauthor                 3094 non-null   object\n",
      " 4   half_binding                     460 non-null    object\n",
      " 5   half_pubdate                     3028 non-null   object\n",
      " 6   half_pages                       3099 non-null   object\n",
      " 7   half_publisher                   3099 non-null   object\n",
      " 8   half_title_no_par                3099 non-null   object\n",
      " 9   half_title_no_par_no_stop_words  3094 non-null   object\n",
      "dtypes: object(10)\n",
      "memory usage: 242.2+ KB\n"
     ]
    }
   ],
   "source": [
    "half.info()"
   ]
  },
  {
   "cell_type": "code",
   "execution_count": 6,
   "metadata": {},
   "outputs": [],
   "source": [
    "bx.fillna('',inplace=True)\n",
    "half.fillna('',inplace=True)"
   ]
  },
  {
   "cell_type": "code",
   "execution_count": 7,
   "metadata": {},
   "outputs": [
    {
     "name": "stdout",
     "output_type": "stream",
     "text": [
      "True matches across bx and half: 550\n"
     ]
    }
   ],
   "source": [
    "matches_bx_half = pd.merge(bx,half,left_on='bx_isbn',right_on='half_isbn')\n",
    "print('True matches across bx and half: {}'.format(matches_bx_half.shape[0]))"
   ]
  },
  {
   "cell_type": "code",
   "execution_count": 8,
   "metadata": {},
   "outputs": [
    {
     "data": {
      "text/plain": [
       "Index(['half_id', 'half_isbn', 'half_title', 'half_firstauthor', 'half_binding', 'half_pubdate', 'half_pages', 'half_publisher', 'half_title_no_par', 'half_title_no_par_no_stop_words'], dtype='object')"
      ]
     },
     "execution_count": 8,
     "metadata": {},
     "output_type": "execute_result"
    }
   ],
   "source": [
    "half.columns"
   ]
  },
  {
   "cell_type": "code",
   "execution_count": 9,
   "metadata": {},
   "outputs": [
    {
     "data": {
      "text/plain": [
       "Index(['bx_id', 'bx_isbn', 'bx_title', 'bx_firstauthor', 'bx_pubdate', 'bx_pages', 'bx_publisher', 'bx_binding', 'bx_title_no_par', 'bx_title_no_par_no_stop_words'], dtype='object')"
      ]
     },
     "execution_count": 9,
     "metadata": {},
     "output_type": "execute_result"
    }
   ],
   "source": [
    "bx.columns"
   ]
  },
  {
   "cell_type": "markdown",
   "metadata": {},
   "source": [
    "### Join on author based on Jaccard score of at least 0.3 with 3-gram tokenization"
   ]
  },
  {
   "cell_type": "code",
   "execution_count": 10,
   "metadata": {},
   "outputs": [],
   "source": [
    "q3 = sm.QgramTokenizer(qval=3,return_set=True)"
   ]
  },
  {
   "cell_type": "code",
   "execution_count": 14,
   "metadata": {},
   "outputs": [],
   "source": [
    "bx_half_pairs_a_q3_jac_03 = ssj.jaccard_join(bx, half, 'bx_id', 'half_id', 'bx_author_lower', 'half_author_lower', q3, 0.3, \n",
    "                                     l_out_attrs=['bx_title','bx_title_lower','bx_title_no_par','bx_title_no_par_no_stop_words','bx_author','bx_author_lower','bx_binding','bx_pubdate', 'bx_pages','bx_publisher','bx_isbn'], \n",
    "                                     r_out_attrs=['half_isbn','half_title','half_title_lower','half_title_no_par','half_title_no_par_no_stop_words','half_author','half_author_lower','half_binding','half_pubdate','half_pages','half_publisher'],\n",
    "                                     n_jobs=-3)"
   ]
  },
  {
   "cell_type": "markdown",
   "metadata": {},
   "source": [
    "### Join on title (with parentheses) based on Jaccard score of at least 0.3 with 3-gram tokenization"
   ]
  },
  {
   "cell_type": "code",
   "execution_count": 15,
   "metadata": {},
   "outputs": [],
   "source": [
    "bx_half_pairs_tit_q3_jac_03 = ssj.jaccard_join(bx, half, 'bx_id', 'half_id', 'bx_title_lower', 'half_title_lower', q3, 0.3, \n",
    "                                     l_out_attrs=['bx_title','bx_title_lower','bx_title_no_par','bx_title_no_par_no_stop_words','bx_author','bx_author_lower','bx_binding','bx_pubdate', 'bx_pages','bx_publisher','bx_isbn'], \n",
    "                                     r_out_attrs=['half_isbn','half_title','half_title_lower','half_title_no_par','half_title_no_par_no_stop_words','half_author','half_author_lower','half_binding','half_pubdate','half_pages','half_publisher'],\n",
    "                                     n_jobs=-3)"
   ]
  },
  {
   "cell_type": "markdown",
   "metadata": {},
   "source": [
    "### Join on title (without parentheses) based on Jaccard score of at least 0.3 with 3-gram tokenization"
   ]
  },
  {
   "cell_type": "code",
   "execution_count": 16,
   "metadata": {},
   "outputs": [
    {
     "name": "stderr",
     "output_type": "stream",
     "text": [
      "/home/debian/anaconda3/envs/mag/lib/python3.6/site-packages/joblib/externals/loky/process_executor.py:706: UserWarning: A worker stopped while some jobs were given to the executor. This can be caused by a too short worker timeout or by a memory leak.\n",
      "  \"timeout or by a memory leak.\", UserWarning\n"
     ]
    }
   ],
   "source": [
    "bx_half_pairs_titnp_q3_jac_03 = ssj.jaccard_join(bx, half, 'bx_id', 'half_id', 'bx_title_no_par', 'half_title_no_par', q3, 0.3, \n",
    "                                     l_out_attrs=['bx_title','bx_title_lower','bx_title_no_par','bx_title_no_par_no_stop_words','bx_author','bx_author_lower','bx_binding','bx_pubdate', 'bx_pages','bx_publisher','bx_isbn'], \n",
    "                                     r_out_attrs=['half_isbn','half_title','half_title_lower','half_title_no_par','half_title_no_par_no_stop_words','half_author','half_author_lower','half_binding','half_pubdate','half_pages','half_publisher'],\n",
    "                                     n_jobs=-3)"
   ]
  },
  {
   "cell_type": "markdown",
   "metadata": {},
   "source": [
    "### Join on title (without parentheses and stop words) based on Jaccard score of at least 0.3 with 3-gram tokenization"
   ]
  },
  {
   "cell_type": "code",
   "execution_count": 17,
   "metadata": {},
   "outputs": [],
   "source": [
    "bx_half_pairs_titnp_nosw_q3_jac_03 = ssj.jaccard_join(bx, half, 'bx_id', 'half_id', 'bx_title_no_par_no_stop_words', 'half_title_no_par_no_stop_words', q3, 0.3, \n",
    "                                     l_out_attrs=['bx_title','bx_title_lower','bx_title_no_par','bx_title_no_par_no_stop_words','bx_author','bx_author_lower','bx_binding','bx_pubdate', 'bx_pages','bx_publisher','bx_isbn'], \n",
    "                                     r_out_attrs=['half_isbn','half_title','half_title_lower','half_title_no_par','half_title_no_par_no_stop_words','half_author','half_author_lower','half_binding','half_pubdate','half_pages','half_publisher'],\n",
    "                                     n_jobs=-3)"
   ]
  },
  {
   "cell_type": "markdown",
   "metadata": {},
   "source": [
    "### Evaluate Blocking"
   ]
  },
  {
   "cell_type": "code",
   "execution_count": 18,
   "metadata": {},
   "outputs": [
    {
     "name": "stdout",
     "output_type": "stream",
     "text": [
      "True matches across bx and half: 550\n"
     ]
    }
   ],
   "source": [
    "print('True matches across bx and half: {}'.format(matches_bx_half.shape[0]))"
   ]
  },
  {
   "cell_type": "code",
   "execution_count": 19,
   "metadata": {},
   "outputs": [],
   "source": [
    "def assignTrueLabels(df_blockedpairs, idcolumn1, idcolumn2):\n",
    "    return df_blockedpairs.apply(lambda row: 1 if (row[idcolumn1]==row[idcolumn2]) else 0, axis=1)"
   ]
  },
  {
   "cell_type": "code",
   "execution_count": 20,
   "metadata": {},
   "outputs": [],
   "source": [
    "def calcRedRatio(df1,df2,df_blockedpairs):\n",
    "    cp = (df1.shape[0]*df2.shape[0])/2\n",
    "    rr = (1-(df_blockedpairs.shape[0]/cp))*100\n",
    "    return round(rr,2)"
   ]
  },
  {
   "cell_type": "code",
   "execution_count": 21,
   "metadata": {},
   "outputs": [],
   "source": [
    "def calcPairCompISBN(df_matches,df_blockedpairs,true_label_col):\n",
    "    pc = (df_blockedpairs[df_blockedpairs[true_label_col]==1].shape[0]/df_matches.shape[0])*100\n",
    "    return round(pc,2)"
   ]
  },
  {
   "cell_type": "code",
   "execution_count": 22,
   "metadata": {},
   "outputs": [],
   "source": [
    "#Assign labels to the blockedpairs df\n",
    "bx_half_pairs_a_q3_jac_03['true_label'] = assignTrueLabels(bx_half_pairs_a_q3_jac_03,'l_bx_isbn','r_half_isbn')\n",
    "bx_half_pairs_tit_q3_jac_03['true_label'] = assignTrueLabels(bx_half_pairs_tit_q3_jac_03,'l_bx_isbn','r_half_isbn')\n",
    "bx_half_pairs_titnp_q3_jac_03['true_label'] = assignTrueLabels(bx_half_pairs_titnp_q3_jac_03,'l_bx_isbn','r_half_isbn')\n",
    "bx_half_pairs_titnp_nosw_q3_jac_03['true_label'] = assignTrueLabels(bx_half_pairs_titnp_nosw_q3_jac_03,'l_bx_isbn','r_half_isbn')"
   ]
  },
  {
   "cell_type": "code",
   "execution_count": 23,
   "metadata": {},
   "outputs": [
    {
     "name": "stdout",
     "output_type": "stream",
     "text": [
      "Blocking based on author, Jaccaed, 3-gram, Threshold 0.3\n",
      "Evaluation of bx_half_pairs_a_q3_jac_03\n",
      "Number of rows: 700,881\n",
      "Reduction Ratio: 99.83%\n",
      "Pair Completeness: 99.27%\n",
      "\n",
      "\n",
      "Evaluation of bx_half_pairs_tit_q3_jac_03 (Title, Jaccaed, 3-gram, Threshold 0.3)\n",
      "Number of rows: 72,086\n",
      "Reduction Ratio: 99.98%\n",
      "Pair Completeness: 89.82%\n",
      "\n",
      "\n",
      "Evaluation of bx_half_pairs_titnp_q3_jac_03 (Title excluded text in parenthesis, Jaccard, 3-gram, Threshold 0.3)\n",
      "Number of rows: 123,636\n",
      "Reduction Ratio: 99.97%\n",
      "Pair Completeness: 88.73%\n",
      "\n",
      "\n",
      "Evaluation of bx_half_pairs_titnp_nosw_q3_jac_03 (Title excluded text in parenthesis and stop words, Jaccard, 3-gram, Threshold 0.3)\n",
      "Number of rows: 141,942\n",
      "Reduction Ratio: 99.97%\n",
      "Pair Completeness: 89.45%\n"
     ]
    }
   ],
   "source": [
    "print('Blocking based on author, Jaccaed, 3-gram, Threshold 0.3')\n",
    "print('Evaluation of bx_half_pairs_a_q3_jac_03')\n",
    "print('Number of rows: {:,}'.format(bx_half_pairs_a_q3_jac_03.shape[0]))\n",
    "print('Reduction Ratio: {}%'.format(calcRedRatio(bx,half,bx_half_pairs_a_q3_jac_03)))\n",
    "print('Pair Completeness: {}%'.format(calcPairCompISBN(matches_bx_half,bx_half_pairs_a_q3_jac_03,'true_label')))\n",
    "\n",
    "print('\\n')\n",
    "print('Evaluation of bx_half_pairs_tit_q3_jac_03 (Title, Jaccaed, 3-gram, Threshold 0.3)')\n",
    "print('Number of rows: {:,}'.format(bx_half_pairs_tit_q3_jac_03.shape[0]))\n",
    "print('Reduction Ratio: {}%'.format(calcRedRatio(bx,half,bx_half_pairs_tit_q3_jac_03)))\n",
    "print('Pair Completeness: {}%'.format(calcPairCompISBN(matches_bx_half,bx_half_pairs_tit_q3_jac_03,'true_label')))\n",
    "print('\\n')\n",
    "print('Evaluation of bx_half_pairs_titnp_q3_jac_03 (Title excluded text in parenthesis, Jaccard, 3-gram, Threshold 0.3)')\n",
    "print('Number of rows: {:,}'.format(bx_half_pairs_titnp_q3_jac_03.shape[0]))\n",
    "print('Reduction Ratio: {}%'.format(calcRedRatio(bx,half,bx_half_pairs_titnp_q3_jac_03)))\n",
    "print('Pair Completeness: {}%'.format(calcPairCompISBN(matches_bx_half,bx_half_pairs_titnp_q3_jac_03,'true_label')))\n",
    "\n",
    "print('\\n')\n",
    "print('Evaluation of bx_half_pairs_titnp_nosw_q3_jac_03 (Title excluded text in parenthesis and stop words, Jaccard, 3-gram, Threshold 0.3)')\n",
    "print('Number of rows: {:,}'.format(bx_half_pairs_titnp_nosw_q3_jac_03.shape[0]))\n",
    "print('Reduction Ratio: {}%'.format(calcRedRatio(bx,half,bx_half_pairs_titnp_nosw_q3_jac_03)))\n",
    "print('Pair Completeness: {}%'.format(calcPairCompISBN(matches_bx_half,bx_half_pairs_titnp_nosw_q3_jac_03,'true_label')))"
   ]
  },
  {
   "cell_type": "code",
   "execution_count": 24,
   "metadata": {},
   "outputs": [],
   "source": [
    "bx_half_pairs_a_q3_jac_03.to_csv('filtered_correspondences/bx_half_pairs_a_q3_jac_03.csv',index=False)"
   ]
  },
  {
   "cell_type": "code",
   "execution_count": 20,
   "metadata": {},
   "outputs": [],
   "source": [
    "matches_bx_half.to_csv('matching_pairs/matches_bx_half.csv',index=False)"
   ]
  },
  {
   "cell_type": "markdown",
   "metadata": {},
   "source": [
    "-- Blocking based on author with Jaccard distance using 3-gram tokens performs best."
   ]
  }
 ],
 "metadata": {
  "kernelspec": {
   "display_name": "Python [conda env:mag]",
   "language": "python",
   "name": "conda-env-mag-py"
  },
  "language_info": {
   "codemirror_mode": {
    "name": "ipython",
    "version": 3
   },
   "file_extension": ".py",
   "mimetype": "text/x-python",
   "name": "python",
   "nbconvert_exporter": "python",
   "pygments_lexer": "ipython3",
   "version": "3.6.10"
  },
  "varInspector": {
   "cols": {
    "lenName": 16,
    "lenType": 16,
    "lenVar": 40
   },
   "kernels_config": {
    "python": {
     "delete_cmd_postfix": "",
     "delete_cmd_prefix": "del ",
     "library": "var_list.py",
     "varRefreshCmd": "print(var_dic_list())"
    },
    "r": {
     "delete_cmd_postfix": ") ",
     "delete_cmd_prefix": "rm(",
     "library": "var_list.r",
     "varRefreshCmd": "cat(var_dic_list()) "
    }
   },
   "types_to_exclude": [
    "module",
    "function",
    "builtin_function_or_method",
    "instance",
    "_Feature"
   ],
   "window_display": false
  }
 },
 "nbformat": 4,
 "nbformat_minor": 2
}
