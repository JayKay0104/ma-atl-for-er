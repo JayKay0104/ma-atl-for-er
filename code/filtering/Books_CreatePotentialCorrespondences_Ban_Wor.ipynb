{
 "cells": [
  {
   "cell_type": "code",
   "execution_count": 1,
   "metadata": {},
   "outputs": [],
   "source": [
    "import pandas as pd\n",
    "import numpy as np\n",
    "import py_stringmatching as sm\n",
    "import py_stringsimjoin as ssj\n",
    "from pandas_profiling import ProfileReport\n",
    "import re\n",
    "import nltk\n",
    "from datetime import datetime\n",
    "from nltk.corpus import stopwords \n",
    "from nltk.tokenize import word_tokenize\n",
    "pd.set_option('display.max_columns', 1000)\n",
    "pd.set_option('display.width', 1000)\n",
    "pd.set_option('display.max_rows', 1000)"
   ]
  },
  {
   "cell_type": "code",
   "execution_count": 2,
   "metadata": {},
   "outputs": [],
   "source": [
    "ban = pd.read_csv('../../datasets/books/ban.csv',sep=';')"
   ]
  },
  {
   "cell_type": "code",
   "execution_count": 3,
   "metadata": {},
   "outputs": [],
   "source": [
    "wor = pd.read_csv('../../datasets/books/wor.csv',sep=';')"
   ]
  },
  {
   "cell_type": "code",
   "execution_count": 4,
   "metadata": {},
   "outputs": [
    {
     "name": "stdout",
     "output_type": "stream",
     "text": [
      "<class 'pandas.core.frame.DataFrame'>\n",
      "RangeIndex: 17629 entries, 0 to 17628\n",
      "Data columns (total 12 columns):\n",
      " #   Column                          Non-Null Count  Dtype \n",
      "---  ------                          --------------  ----- \n",
      " 0   ban_id                          17629 non-null  object\n",
      " 1   ban_isbn                        17629 non-null  object\n",
      " 2   ban_title                       17628 non-null  object\n",
      " 3   ban_author                      16277 non-null  object\n",
      " 4   ban_binding                     2961 non-null   object\n",
      " 5   ban_pubdate                     8822 non-null   object\n",
      " 6   ban_pages                       17629 non-null  int64 \n",
      " 7   ban_publisher                   17589 non-null  object\n",
      " 8   ban_title_no_par                17628 non-null  object\n",
      " 9   ban_title_no_par_no_stop_words  17615 non-null  object\n",
      " 10  ban_firstauthor                 16277 non-null  object\n",
      " 11  ban_firsttwoauthors             16277 non-null  object\n",
      "dtypes: int64(1), object(11)\n",
      "memory usage: 1.6+ MB\n"
     ]
    }
   ],
   "source": [
    "ban.info()"
   ]
  },
  {
   "cell_type": "code",
   "execution_count": 5,
   "metadata": {},
   "outputs": [
    {
     "name": "stdout",
     "output_type": "stream",
     "text": [
      "<class 'pandas.core.frame.DataFrame'>\n",
      "RangeIndex: 48792 entries, 0 to 48791\n",
      "Data columns (total 12 columns):\n",
      " #   Column                          Non-Null Count  Dtype \n",
      "---  ------                          --------------  ----- \n",
      " 0   wor_id                          48792 non-null  object\n",
      " 1   wor_isbn                        48792 non-null  int64 \n",
      " 2   wor_title                       48792 non-null  object\n",
      " 3   wor_author                      48533 non-null  object\n",
      " 4   wor_binding                     46050 non-null  object\n",
      " 5   wor_pubdate                     48677 non-null  object\n",
      " 6   wor_pages                       48792 non-null  int64 \n",
      " 7   wor_publisher                   48744 non-null  object\n",
      " 8   wor_title_no_par                48791 non-null  object\n",
      " 9   wor_title_no_par_no_stop_words  48729 non-null  object\n",
      " 10  wor_firstauthor                 48511 non-null  object\n",
      " 11  wor_firsttwoauthors             48533 non-null  object\n",
      "dtypes: int64(2), object(10)\n",
      "memory usage: 4.5+ MB\n"
     ]
    }
   ],
   "source": [
    "wor.info()"
   ]
  },
  {
   "cell_type": "code",
   "execution_count": 6,
   "metadata": {},
   "outputs": [],
   "source": [
    "#wor is not read in as string but as integer so we convert it back to string\n",
    "wor['wor_isbn'] = wor['wor_isbn'].apply(lambda x: str(x))"
   ]
  },
  {
   "cell_type": "code",
   "execution_count": 7,
   "metadata": {},
   "outputs": [
    {
     "name": "stdout",
     "output_type": "stream",
     "text": [
      "True matches across Ban and Wordery: 970\n"
     ]
    }
   ],
   "source": [
    "matches_ban_wor = pd.merge(ban,wor,left_on='ban_isbn',right_on='wor_isbn')\n",
    "print('True matches across Ban and Wordery: {}'.format(matches_ban_wor.shape[0]))"
   ]
  },
  {
   "cell_type": "code",
   "execution_count": 8,
   "metadata": {},
   "outputs": [],
   "source": [
    "ban.fillna('',inplace=True)\n",
    "wor.fillna('',inplace=True)"
   ]
  },
  {
   "cell_type": "code",
   "execution_count": 9,
   "metadata": {},
   "outputs": [
    {
     "data": {
      "text/plain": [
       "Index(['ban_id', 'ban_isbn', 'ban_title', 'ban_author', 'ban_binding', 'ban_pubdate', 'ban_pages', 'ban_publisher', 'ban_title_no_par', 'ban_title_no_par_no_stop_words', 'ban_firstauthor', 'ban_firsttwoauthors'], dtype='object')"
      ]
     },
     "execution_count": 9,
     "metadata": {},
     "output_type": "execute_result"
    }
   ],
   "source": [
    "ban.columns"
   ]
  },
  {
   "cell_type": "code",
   "execution_count": 10,
   "metadata": {},
   "outputs": [
    {
     "data": {
      "text/plain": [
       "Index(['wor_id', 'wor_isbn', 'wor_title', 'wor_author', 'wor_binding', 'wor_pubdate', 'wor_pages', 'wor_publisher', 'wor_title_no_par', 'wor_title_no_par_no_stop_words', 'wor_firstauthor', 'wor_firsttwoauthors'], dtype='object')"
      ]
     },
     "execution_count": 10,
     "metadata": {},
     "output_type": "execute_result"
    }
   ],
   "source": [
    "wor.columns"
   ]
  },
  {
   "cell_type": "markdown",
   "metadata": {},
   "source": [
    "### Join on first authors based on Jaccard score of at least 0.3 with 3-gram tokenization"
   ]
  },
  {
   "cell_type": "code",
   "execution_count": 22,
   "metadata": {},
   "outputs": [],
   "source": [
    "q3 = sm.QgramTokenizer(qval=3,return_set=True)"
   ]
  },
  {
   "cell_type": "code",
   "execution_count": 30,
   "metadata": {},
   "outputs": [],
   "source": [
    "ban_wor_pairs_fa_q3_jac_03 = ssj.jaccard_join(ban, wor, 'ban_id', 'wor_id', 'ban_firstauthor', 'wor_firstauthor', q3, 0.3, \n",
    "                                     l_out_attrs=['ban_title','ban_title_no_par','ban_author','ban_firstauthor','ban_firsttwoauthors','ban_binding','ban_pubdate', 'ban_pages','ban_publisher','ban_isbn'], \n",
    "                                     r_out_attrs=['wor_isbn','wor_title','wor_title_no_par','wor_author','wor_firstauthor','wor_firsttwoauthors','wor_binding','wor_pubdate','wor_pages','wor_publisher'],\n",
    "                                     n_jobs=-3)\n",
    "#ban_wor_pairs_fa_q3_jac_03.to_csv('ban_wor_pairs_fa_q3_jac_03.csv',index=False,sep=';')"
   ]
  },
  {
   "cell_type": "code",
   "execution_count": 31,
   "metadata": {},
   "outputs": [
    {
     "data": {
      "text/plain": [
       "Index(['_id', 'l_ban_id', 'r_wor_id', 'l_ban_title', 'l_ban_title_no_par', 'l_ban_author', 'l_ban_firstauthor', 'l_ban_firsttwoauthors', 'l_ban_binding', 'l_ban_pubdate', 'l_ban_pages', 'l_ban_publisher', 'l_ban_isbn', 'r_wor_isbn', 'r_wor_title', 'r_wor_title_no_par', 'r_wor_author', 'r_wor_firstauthor', 'r_wor_firsttwoauthors', 'r_wor_binding', 'r_wor_pubdate', 'r_wor_pages', 'r_wor_publisher', '_sim_score'], dtype='object')"
      ]
     },
     "execution_count": 31,
     "metadata": {},
     "output_type": "execute_result"
    }
   ],
   "source": [
    "ban_wor_pairs_fa_q3_jac_03.columns"
   ]
  },
  {
   "cell_type": "markdown",
   "metadata": {},
   "source": [
    "### Join on first authors based on edit distance of at most 5"
   ]
  },
  {
   "cell_type": "code",
   "execution_count": 50,
   "metadata": {},
   "outputs": [],
   "source": [
    "# Blocking on first authors (fa) using Levenshtein (edit distance) of at most 5\n",
    "ban_wor_pairs_fa_lev5 = ssj.edit_distance_join(ban, wor, 'ban_id', 'wor_id', 'ban_firstauthor', 'wor_firstauthor', 5, \n",
    "                                     l_out_attrs=['ban_title','ban_title_lower','ban_title_no_par','ban_title_no_par_no_stop_words','ban_author','ban_author_lower','ban_firstauthor','ban_firsttwoauthors','ban_binding','ban_pubdate', 'ban_pages','ban_publisher','ban_isbn'], \n",
    "                                     r_out_attrs=['wor_isbn','wor_title','wor_title_lower','wor_title_no_par','wor_title_no_par_no_stop_words','wor_author','wor_author_lower','wor_firstauthor','wor_firsttwoauthors','wor_binding','wor_pubdate','wor_pages','wor_publisher'],\n",
    "                                      n_jobs=-3)"
   ]
  },
  {
   "cell_type": "markdown",
   "metadata": {},
   "source": [
    "### Join on first two authors based on edit distance of at most 5"
   ]
  },
  {
   "cell_type": "code",
   "execution_count": 32,
   "metadata": {},
   "outputs": [],
   "source": [
    "# Blocking on first two authors (fta) using Levenshtein (edit distance) of at most 5\n",
    "ban_wor_pairs_fta_lev5 = ssj.edit_distance_join(ban, wor, 'ban_id', 'wor_id', 'ban_firsttwoauthors', 'wor_firsttwoauthors', 5, \n",
    "                                     l_out_attrs=['ban_title','ban_title_lower','ban_title_no_par','ban_title_no_par_no_stop_words','ban_author','ban_author_lower','ban_firstauthor','ban_firsttwoauthors','ban_binding','ban_pubdate', 'ban_pages','ban_publisher','ban_isbn'], \n",
    "                                     r_out_attrs=['wor_isbn','wor_title','wor_title_lower','wor_title_no_par','wor_title_no_par_no_stop_words','wor_author','wor_author_lower','wor_firstauthor','wor_firsttwoauthors','wor_binding','wor_pubdate','wor_pages','wor_publisher'],\n",
    "                                      n_jobs=-3)\n",
    "#ban_wor_pairs_fta_lev5.to_csv('ban_wor_pairs_fta_lev5.csv',index=False)"
   ]
  },
  {
   "cell_type": "markdown",
   "metadata": {},
   "source": [
    "### Join on first two authors based on Jaccard score of at least 0.3 with 3-gram tokenization"
   ]
  },
  {
   "cell_type": "code",
   "execution_count": 46,
   "metadata": {},
   "outputs": [
    {
     "data": {
      "text/plain": [
       "Index(['ban_id', 'ban_isbn', 'ban_title', 'ban_author', 'ban_binding', 'ban_pubdate', 'ban_pages', 'ban_publisher', 'ban_title_no_par', 'ban_title_lower', 'ban_author_lower', 'ban_firstauthor', 'ban_firsttwoauthors', 'ban_title_no_par_no_stop_words'], dtype='object')"
      ]
     },
     "execution_count": 46,
     "metadata": {},
     "output_type": "execute_result"
    }
   ],
   "source": [
    "ban.columns"
   ]
  },
  {
   "cell_type": "code",
   "execution_count": 47,
   "metadata": {},
   "outputs": [],
   "source": [
    "ban_wor_pairs_fta_q3_jac_03 = ssj.jaccard_join(ban, wor, 'ban_id', 'wor_id', 'ban_firsttwoauthors', 'wor_firsttwoauthors', q3, 0.3, \n",
    "                                     l_out_attrs=['ban_title','ban_title_lower','ban_title_no_par','ban_title_no_par_no_stop_words','ban_author','ban_author_lower','ban_firstauthor','ban_firsttwoauthors','ban_binding','ban_pubdate', 'ban_pages','ban_publisher','ban_isbn'], \n",
    "                                     r_out_attrs=['wor_isbn','wor_title','wor_title_lower','wor_title_no_par','wor_title_no_par_no_stop_words','wor_author','wor_author_lower','wor_firstauthor','wor_firsttwoauthors','wor_binding','wor_pubdate','wor_pages','wor_publisher'],\n",
    "                                     n_jobs=-3)\n",
    "#ban_wor_pairs_fta_q3_jac_03.to_csv('ban_wor_pairs_fta_q3_jac_03.csv',index=False)"
   ]
  },
  {
   "cell_type": "code",
   "execution_count": 34,
   "metadata": {},
   "outputs": [
    {
     "data": {
      "text/plain": [
       "Index(['_id', 'l_ban_id', 'r_wor_id', 'l_ban_title', 'l_ban_title_no_par', 'l_ban_author', 'l_ban_firstauthor', 'l_ban_firsttwoauthors', 'l_ban_binding', 'l_ban_pubdate', 'l_ban_pages', 'l_ban_publisher', 'l_ban_isbn', 'r_wor_isbn', 'r_wor_title', 'r_wor_title_no_par', 'r_wor_author', 'r_wor_firstauthor', 'r_wor_firsttwoauthors', 'r_wor_binding', 'r_wor_pubdate', 'r_wor_pages', 'r_wor_publisher', '_sim_score'], dtype='object')"
      ]
     },
     "execution_count": 34,
     "metadata": {},
     "output_type": "execute_result"
    }
   ],
   "source": [
    "ban_wor_pairs_fta_q3_jac_03.columns"
   ]
  },
  {
   "cell_type": "markdown",
   "metadata": {},
   "source": [
    "### Join on first two authors based on Jaccard score of at least 0.5 with 3-gram tokenization"
   ]
  },
  {
   "cell_type": "code",
   "execution_count": 35,
   "metadata": {},
   "outputs": [],
   "source": [
    "ban_wor_pairs_fta_q3_jac_05 = ssj.jaccard_join(ban, wor, 'ban_id', 'wor_id', 'ban_firsttwoauthors', 'wor_firsttwoauthors', q3, 0.5, \n",
    "                                     l_out_attrs=['ban_title','ban_title_lower','ban_title_no_par','ban_title_no_par_no_stop_words','ban_author','ban_author_lower','ban_firstauthor','ban_firsttwoauthors','ban_binding','ban_pubdate', 'ban_pages','ban_publisher','ban_isbn'], \n",
    "                                     r_out_attrs=['wor_isbn','wor_title','wor_title_lower','wor_title_no_par','wor_title_no_par_no_stop_words','wor_author','wor_author_lower','wor_firstauthor','wor_firsttwoauthors','wor_binding','wor_pubdate','wor_pages','wor_publisher'],\n",
    "                                     n_jobs=-3)\n",
    "#ban_wor_pairs_fta_q3_jac_05.to_csv('ban_wor_pairs_fta_q3_jac_05.csv',index=False)"
   ]
  },
  {
   "cell_type": "markdown",
   "metadata": {},
   "source": [
    "### Join on title (with parentheses) based on Jaccard score of at least 0.3 with 3-gram tokenization"
   ]
  },
  {
   "cell_type": "code",
   "execution_count": 25,
   "metadata": {},
   "outputs": [
    {
     "name": "stderr",
     "output_type": "stream",
     "text": [
      "/home/debian/anaconda3/envs/mag/lib/python3.6/site-packages/py_stringsimjoin/utils/validation.py:30: FutureWarning: The pandas.np module is deprecated and will be removed from pandas in a future version. Import numpy directly instead\n",
      "  if attr_type != pd.np.object:\n"
     ]
    }
   ],
   "source": [
    "ban_wor_pairs_tit_q3_jac_03 = ssj.jaccard_join(ban, wor, 'ban_id', 'wor_id', 'ban_title_lower', 'wor_title_lower', q3, 0.3, \n",
    "                                     l_out_attrs=['ban_title','ban_title_lower','ban_title_no_par','ban_title_no_par_no_stop_words','ban_author','ban_author_lower','ban_firstauthor','ban_firsttwoauthors','ban_binding','ban_pubdate', 'ban_pages','ban_publisher','ban_isbn'], \n",
    "                                     r_out_attrs=['wor_isbn','wor_title','wor_title_lower','wor_title_no_par','wor_title_no_par_no_stop_words','wor_author','wor_author_lower','wor_firstauthor','wor_firsttwoauthors','wor_binding','wor_pubdate','wor_pages','wor_publisher'],\n",
    "                                     n_jobs=-3)\n",
    "#ban_wor_pairs_tit_q3_jac_03.to_csv('ban_wor_pairs_tit_q3_jac_03.csv',index=False)"
   ]
  },
  {
   "cell_type": "markdown",
   "metadata": {},
   "source": [
    "### Join on title (w/out parentheses) based on Jaccard score of at least 0.3 with 3-gram tokenization"
   ]
  },
  {
   "cell_type": "code",
   "execution_count": 26,
   "metadata": {},
   "outputs": [],
   "source": [
    "ban_wor_pairs_titnp_q3_jac_03 = ssj.jaccard_join(ban, wor, 'ban_id', 'wor_id', 'ban_title_no_par', 'wor_title_no_par', q3, 0.3, \n",
    "                                     l_out_attrs=['ban_title','ban_title_lower','ban_title_no_par','ban_title_no_par_no_stop_words','ban_author','ban_author_lower','ban_firstauthor','ban_firsttwoauthors','ban_binding','ban_pubdate', 'ban_pages','ban_publisher','ban_isbn'], \n",
    "                                     r_out_attrs=['wor_isbn','wor_title','wor_title_lower','wor_title_no_par','wor_title_no_par_no_stop_words','wor_author','wor_author_lower','wor_firstauthor','wor_firsttwoauthors','wor_binding','wor_pubdate','wor_pages','wor_publisher'],\n",
    "                                     n_jobs=-3)\n",
    "#ban_wor_pairs_titnp_q3_jac_03.to_csv('ban_wor_pairs_titnp_q3_jac_03.csv',index=False)"
   ]
  },
  {
   "cell_type": "markdown",
   "metadata": {},
   "source": [
    "### Join on title (w/out parentheses) and stop words removed based on Levenshtein score of at most 5"
   ]
  },
  {
   "cell_type": "code",
   "execution_count": 51,
   "metadata": {},
   "outputs": [],
   "source": [
    "ban_wor_pairs_titnp_nosw_lev_5 = ssj.edit_distance_join(ban, wor, 'ban_id', 'wor_id', 'ban_title_no_par_no_stop_words', 'wor_title_no_par_no_stop_words', 5, \n",
    "                                     l_out_attrs=['ban_title','ban_title_lower','ban_title_no_par','ban_title_no_par_no_stop_words','ban_author','ban_author_lower','ban_firstauthor','ban_firsttwoauthors','ban_binding','ban_pubdate', 'ban_pages','ban_publisher','ban_isbn'], \n",
    "                                     r_out_attrs=['wor_isbn','wor_title','wor_title_lower','wor_title_no_par','wor_title_no_par_no_stop_words','wor_author','wor_author_lower','wor_firstauthor','wor_firsttwoauthors','wor_binding','wor_pubdate','wor_pages','wor_publisher'],\n",
    "                                     n_jobs=-3)"
   ]
  },
  {
   "cell_type": "markdown",
   "metadata": {},
   "source": [
    "### Join on title (w/out parentheses) and stop words removed based on Jaccard score of at least 0.3 with 3-gram tokenization"
   ]
  },
  {
   "cell_type": "code",
   "execution_count": 27,
   "metadata": {},
   "outputs": [],
   "source": [
    "ban_wor_pairs_titnp_nosw_q3_jac_03 = ssj.jaccard_join(ban, wor, 'ban_id', 'wor_id', 'ban_title_no_par_no_stop_words', 'wor_title_no_par_no_stop_words', q3, 0.3, \n",
    "                                     l_out_attrs=['ban_title','ban_title_lower','ban_title_no_par','ban_title_no_par_no_stop_words','ban_author','ban_author_lower','ban_firstauthor','ban_firsttwoauthors','ban_binding','ban_pubdate', 'ban_pages','ban_publisher','ban_isbn'], \n",
    "                                     r_out_attrs=['wor_isbn','wor_title','wor_title_lower','wor_title_no_par','wor_title_no_par_no_stop_words','wor_author','wor_author_lower','wor_firstauthor','wor_firsttwoauthors','wor_binding','wor_pubdate','wor_pages','wor_publisher'],\n",
    "                                     n_jobs=-3)"
   ]
  },
  {
   "cell_type": "markdown",
   "metadata": {},
   "source": [
    "### Join on title (w/out parentheses) and stop words removed based on Jaccard score of at least 0.7 with 3-gram tokenization"
   ]
  },
  {
   "cell_type": "code",
   "execution_count": 54,
   "metadata": {},
   "outputs": [],
   "source": [
    "ban_wor_pairs_titnp_nosw_q3_jac_07 = ssj.jaccard_join(ban, wor, 'ban_id', 'wor_id', 'ban_title_no_par_no_stop_words', 'wor_title_no_par_no_stop_words', q3, 0.7, \n",
    "                                     l_out_attrs=['ban_title','ban_title_lower','ban_title_no_par','ban_title_no_par_no_stop_words','ban_author','ban_author_lower','ban_firstauthor','ban_firsttwoauthors','ban_binding','ban_pubdate', 'ban_pages','ban_publisher','ban_isbn'], \n",
    "                                     r_out_attrs=['wor_isbn','wor_title','wor_title_lower','wor_title_no_par','wor_title_no_par_no_stop_words','wor_author','wor_author_lower','wor_firstauthor','wor_firsttwoauthors','wor_binding','wor_pubdate','wor_pages','wor_publisher'],\n",
    "                                     n_jobs=-3)"
   ]
  },
  {
   "cell_type": "markdown",
   "metadata": {},
   "source": [
    "### Join on title (w/out parentheses) and stop words removed based on Jaccard score of at least 0.5 with 3-gram tokenization"
   ]
  },
  {
   "cell_type": "code",
   "execution_count": 55,
   "metadata": {},
   "outputs": [],
   "source": [
    "ban_wor_pairs_titnp_nosw_q3_jac_05 = ssj.jaccard_join(ban, wor, 'ban_id', 'wor_id', 'ban_title_no_par_no_stop_words', 'wor_title_no_par_no_stop_words', q3, 0.5, \n",
    "                                     l_out_attrs=['ban_title','ban_title_lower','ban_title_no_par','ban_title_no_par_no_stop_words','ban_author','ban_author_lower','ban_firstauthor','ban_firsttwoauthors','ban_binding','ban_pubdate', 'ban_pages','ban_publisher','ban_isbn'], \n",
    "                                     r_out_attrs=['wor_isbn','wor_title','wor_title_lower','wor_title_no_par','wor_title_no_par_no_stop_words','wor_author','wor_author_lower','wor_firstauthor','wor_firsttwoauthors','wor_binding','wor_pubdate','wor_pages','wor_publisher'],\n",
    "                                     n_jobs=-3)"
   ]
  },
  {
   "cell_type": "markdown",
   "metadata": {},
   "source": [
    "### Join on first two authors using Jaccard 3-gram threshold 0.7"
   ]
  },
  {
   "cell_type": "code",
   "execution_count": 29,
   "metadata": {},
   "outputs": [],
   "source": [
    "ban_wor_pairs_fta_q3_jac_07 = ssj.jaccard_join(ban, wor, 'ban_id', 'wor_id', 'ban_firsttwoauthors', 'wor_firsttwoauthors', q3, 0.7, \n",
    "                                     l_out_attrs=['ban_title','ban_title_lower','ban_title_no_par','ban_title_no_par_no_stop_words','ban_author','ban_author_lower','ban_firstauthor','ban_firsttwoauthors','ban_binding','ban_pubdate', 'ban_pages','ban_publisher','ban_isbn'], \n",
    "                                     r_out_attrs=['wor_isbn','wor_title','wor_title_lower','wor_title_no_par','wor_title_no_par_no_stop_words','wor_author','wor_author_lower','wor_firstauthor','wor_firsttwoauthors','wor_binding','wor_pubdate','wor_pages','wor_publisher'],\n",
    "                                     n_jobs=-3)\n",
    "#ban_wor_pairs_fta_q3_jac_07.to_csv('ban_wor_pairs_fta_q3_jac_07.csv',index=False)"
   ]
  },
  {
   "cell_type": "markdown",
   "metadata": {},
   "source": [
    "### Join on first authors using Jaccard 3-gram threshold 0.7"
   ]
  },
  {
   "cell_type": "code",
   "execution_count": 52,
   "metadata": {},
   "outputs": [],
   "source": [
    "ban_wor_pairs_fa_q3_jac_07 = ssj.jaccard_join(ban, wor, 'ban_id', 'wor_id', 'ban_firstauthor', 'wor_firstauthor', q3, 0.7, \n",
    "                                     l_out_attrs=['ban_title','ban_title_lower','ban_title_no_par','ban_title_no_par_no_stop_words','ban_author','ban_author_lower','ban_firstauthor','ban_firsttwoauthors','ban_binding','ban_pubdate', 'ban_pages','ban_publisher','ban_isbn'], \n",
    "                                     r_out_attrs=['wor_isbn','wor_title','wor_title_lower','wor_title_no_par','wor_title_no_par_no_stop_words','wor_author','wor_author_lower','wor_firstauthor','wor_firsttwoauthors','wor_binding','wor_pubdate','wor_pages','wor_publisher'],\n",
    "                                     n_jobs=-3)"
   ]
  },
  {
   "cell_type": "markdown",
   "metadata": {},
   "source": [
    "### Join on first authors using Jaccard 3-gram threshold 0.5"
   ]
  },
  {
   "cell_type": "code",
   "execution_count": 53,
   "metadata": {},
   "outputs": [],
   "source": [
    "ban_wor_pairs_fa_q3_jac_05 = ssj.jaccard_join(ban, wor, 'ban_id', 'wor_id', 'ban_firstauthor', 'wor_firstauthor', q3, 0.5, \n",
    "                                     l_out_attrs=['ban_title','ban_title_lower','ban_title_no_par','ban_title_no_par_no_stop_words','ban_author','ban_author_lower','ban_firstauthor','ban_firsttwoauthors','ban_binding','ban_pubdate', 'ban_pages','ban_publisher','ban_isbn'], \n",
    "                                     r_out_attrs=['wor_isbn','wor_title','wor_title_lower','wor_title_no_par','wor_title_no_par_no_stop_words','wor_author','wor_author_lower','wor_firstauthor','wor_firsttwoauthors','wor_binding','wor_pubdate','wor_pages','wor_publisher'],\n",
    "                                     n_jobs=-3)"
   ]
  },
  {
   "cell_type": "code",
   "execution_count": 24,
   "metadata": {},
   "outputs": [
    {
     "data": {
      "text/plain": [
       "Index(['ban_id', 'ban_isbn', 'ban_title', 'ban_author', 'ban_binding', 'ban_pubdate', 'ban_pages', 'ban_publisher', 'ban_title_no_par', 'ban_title_lower', 'ban_author_lower', 'ban_firstauthor', 'ban_firsttwoauthors', 'ban_title_no_par_no_stop_words'], dtype='object')"
      ]
     },
     "execution_count": 24,
     "metadata": {},
     "output_type": "execute_result"
    }
   ],
   "source": [
    "ban.columns"
   ]
  },
  {
   "cell_type": "markdown",
   "metadata": {},
   "source": [
    "### Evaluate Blocking"
   ]
  },
  {
   "cell_type": "code",
   "execution_count": 56,
   "metadata": {},
   "outputs": [
    {
     "name": "stdout",
     "output_type": "stream",
     "text": [
      "True matches across Ban and Wordery: 970\n"
     ]
    }
   ],
   "source": [
    "print('True matches across Ban and Wordery: {}'.format(matches_ban_wor.shape[0]))"
   ]
  },
  {
   "cell_type": "code",
   "execution_count": 57,
   "metadata": {},
   "outputs": [],
   "source": [
    "def assignTrueLabels(df_blockedpairs, idcolumn1, idcolumn2):\n",
    "    return df_blockedpairs.apply(lambda row: 1 if (row[idcolumn1]==row[idcolumn2]) else 0, axis=1)"
   ]
  },
  {
   "cell_type": "code",
   "execution_count": 58,
   "metadata": {},
   "outputs": [],
   "source": [
    "#Assign labels to the blockedpairs df\n",
    "ban_wor_pairs_fa_q3_jac_03['true_label'] = assignTrueLabels(ban_wor_pairs_fa_q3_jac_03,'l_ban_isbn','r_wor_isbn')\n",
    "ban_wor_pairs_fa_q3_jac_05['true_label'] = assignTrueLabels(ban_wor_pairs_fa_q3_jac_05,'l_ban_isbn','r_wor_isbn')\n",
    "ban_wor_pairs_fa_q3_jac_07['true_label'] = assignTrueLabels(ban_wor_pairs_fa_q3_jac_07,'l_ban_isbn','r_wor_isbn')\n",
    "ban_wor_pairs_fa_lev5['true_label'] = assignTrueLabels(ban_wor_pairs_fa_lev5,'l_ban_isbn','r_wor_isbn')\n",
    "\n",
    "ban_wor_pairs_fta_q3_jac_03['true_label'] = assignTrueLabels(ban_wor_pairs_fta_q3_jac_03,'l_ban_isbn','r_wor_isbn')\n",
    "ban_wor_pairs_fta_q3_jac_05['true_label'] = assignTrueLabels(ban_wor_pairs_fta_q3_jac_05,'l_ban_isbn','r_wor_isbn')\n",
    "ban_wor_pairs_fta_q3_jac_07['true_label'] = assignTrueLabels(ban_wor_pairs_fta_q3_jac_07,'l_ban_isbn','r_wor_isbn')\n",
    "ban_wor_pairs_fta_lev5['true_label'] = assignTrueLabels(ban_wor_pairs_fta_lev5,'l_ban_isbn','r_wor_isbn')\n",
    "\n",
    "ban_wor_pairs_tit_q3_jac_03['true_label'] = assignTrueLabels(ban_wor_pairs_tit_q3_jac_03,'l_ban_isbn','r_wor_isbn')\n",
    "\n",
    "ban_wor_pairs_titnp_q3_jac_03['true_label'] = assignTrueLabels(ban_wor_pairs_titnp_q3_jac_03,'l_ban_isbn','r_wor_isbn')\n",
    "\n",
    "ban_wor_pairs_titnp_nosw_q3_jac_03['true_label'] = assignTrueLabels(ban_wor_pairs_titnp_nosw_q3_jac_03,'l_ban_isbn','r_wor_isbn')\n",
    "ban_wor_pairs_titnp_nosw_q3_jac_05['true_label'] = assignTrueLabels(ban_wor_pairs_titnp_nosw_q3_jac_05,'l_ban_isbn','r_wor_isbn')\n",
    "ban_wor_pairs_titnp_nosw_q3_jac_07['true_label'] = assignTrueLabels(ban_wor_pairs_titnp_nosw_q3_jac_07,'l_ban_isbn','r_wor_isbn')\n",
    "ban_wor_pairs_titnp_nosw_lev_5['true_label'] = assignTrueLabels(ban_wor_pairs_titnp_nosw_lev_5,'l_ban_isbn','r_wor_isbn')"
   ]
  },
  {
   "cell_type": "code",
   "execution_count": 41,
   "metadata": {},
   "outputs": [],
   "source": [
    "def calcRedRatio(df1,df2,df_blockedpairs):\n",
    "    cp = (df1.shape[0]*df2.shape[0])/2\n",
    "    rr = (1-(df_blockedpairs.shape[0]/cp))*100\n",
    "    return round(rr,2)"
   ]
  },
  {
   "cell_type": "code",
   "execution_count": 42,
   "metadata": {},
   "outputs": [],
   "source": [
    "def calcPairCompISBN(df_matches,df_blockedpairs,true_label_col):\n",
    "    pc = (df_blockedpairs[df_blockedpairs[true_label_col]==1].shape[0]/df_matches.shape[0])*100\n",
    "    return round(pc,2)"
   ]
  },
  {
   "cell_type": "code",
   "execution_count": 59,
   "metadata": {},
   "outputs": [
    {
     "name": "stdout",
     "output_type": "stream",
     "text": [
      "Blocking based on first author, Jaccaed, 3-gram, Threshold 0.3\n",
      "Evaluation of ban_wor_pairs_fa_q3_jac_03\n",
      "Number of rows: 962,082\n",
      "Reduction Ratio: 99.78%\n",
      "Pair Completeness: 97.94%\n",
      "\n",
      "\n",
      "Blocking based on first author, Jaccaed, 3-gram, Threshold 0.5\n",
      "Evaluation of ban_wor_pairs_fa_q3_jac_05\n",
      "Number of rows: 433,667\n",
      "Reduction Ratio: 99.9%\n",
      "Pair Completeness: 95.98%\n",
      "\n",
      "\n",
      "Blocking based on first author, Jaccaed, 3-gram, Threshold 0.7\n",
      "Evaluation of ban_wor_pairs_fa_q3_jac_07\n",
      "Number of rows: 422,398\n",
      "Reduction Ratio: 99.9%\n",
      "Pair Completeness: 90.93%\n",
      "\n",
      "\n",
      "Blocking based on first authors, Levenshtein of at most 5\n",
      "Evaluation of ban_wor_pairs_fta_lev5, Levenshtein, at most 5\n",
      "Number of rows: 880,408\n",
      "Reduction Ratio: 99.8%\n",
      "Pair Completeness: 94.54%\n",
      "\n",
      "\n",
      "Blocking based on first two authors, Jaccaed, 3-gram, Threshold 0.3\n",
      "Evaluation of ban_wor_pairs_fta_q3_jac_03\n",
      "Number of rows: 843,590\n",
      "Reduction Ratio: 99.8%\n",
      "Pair Completeness: 98.45%\n",
      "\n",
      "\n",
      "Blocking based on first two author, Jaccaed, 3-gram, Threshold 0.5\n",
      "Evaluation of ban_wor_pairs_fta_q3_jac_05\n",
      "Number of rows: 399,425\n",
      "Reduction Ratio: 99.91%\n",
      "Pair Completeness: 92.47%\n",
      "\n",
      "\n",
      "Blocking based on first two author, Jaccaed, 3-gram, Threshold 0.7\n",
      "Evaluation of ban_wor_pairs_fta_q3_jac_07\n",
      "Number of rows: 388,657\n",
      "Reduction Ratio: 99.91%\n",
      "Pair Completeness: 86.39%\n",
      "\n",
      "\n",
      "Blocking based on first authors, Levenshtein of at most 5\n",
      "Evaluation of ban_wor_pairs_fta_lev5, Levenshtein, at most 5\n",
      "Number of rows: 769,683\n",
      "Reduction Ratio: 99.82%\n",
      "Pair Completeness: 90.0%\n",
      "\n",
      "\n",
      "Blocking based on title\n",
      "Evaluation of ban_wor_pairs_tit_q3_jac_03 (Title, Jaccaed, 3-gram, Threshold 0.3)\n",
      "Number of rows: 118,488\n",
      "Reduction Ratio: 99.97%\n",
      "Pair Completeness: 82.16%\n",
      "\n",
      "\n",
      "Evaluation of ban_wor_pairs_titnp_q3_jac_03 (Title excluded text in parenthesis, Jaccard, 3-gram, Threshold 0.3)\n",
      "Number of rows: 154,587\n",
      "Reduction Ratio: 99.96%\n",
      "Pair Completeness: 94.54%\n",
      "\n",
      "\n",
      "ban_wor_pairs_titnp_nosw_q3_jac_03 (Title excluded text in parenthesis and no stop words, Jaccard, 3-gram, Threshold 0.3)\n",
      "Number of rows: 187,934\n",
      "Reduction Ratio: 99.96%\n",
      "Pair Completeness: 94.12%\n",
      "\n",
      "\n",
      "ban_wor_pairs_titnp_nosw_q3_jac_05 (Title excluded text in parenthesis and no stop words, Jaccard, 3-gram, Threshold 0.5)\n",
      "Number of rows: 17,591\n",
      "Reduction Ratio: 100.0%\n",
      "Pair Completeness: 86.6%\n",
      "\n",
      "\n",
      "ban_wor_pairs_titnp_nosw_q3_jac_07 (Title excluded text in parenthesis and no stop words, Jaccard, 3-gram, Threshold 0.7)\n",
      "Number of rows: 3,724\n",
      "Reduction Ratio: 100.0%\n",
      "Pair Completeness: 68.66%\n",
      "\n",
      "\n",
      "ban_wor_pairs_titnp_nosw_lev_5 (Title excluded text in parenthesis and no stop words with Levenshtein of at most 5)\n",
      "Number of rows: 275,315\n",
      "Reduction Ratio: 99.94%\n",
      "Pair Completeness: 84.23%\n"
     ]
    }
   ],
   "source": [
    "print('Blocking based on first author, Jaccaed, 3-gram, Threshold 0.3')\n",
    "print('Evaluation of ban_wor_pairs_fa_q3_jac_03')\n",
    "print('Number of rows: {:,}'.format(ban_wor_pairs_fa_q3_jac_03.shape[0]))\n",
    "print('Reduction Ratio: {}%'.format(calcRedRatio(ban,wor,ban_wor_pairs_fa_q3_jac_03)))\n",
    "print('Pair Completeness: {}%'.format(calcPairCompISBN(matches_ban_wor,ban_wor_pairs_fa_q3_jac_03,'true_label')))\n",
    "\n",
    "print('\\n')\n",
    "print('Blocking based on first author, Jaccaed, 3-gram, Threshold 0.5')\n",
    "print('Evaluation of ban_wor_pairs_fa_q3_jac_05')\n",
    "print('Number of rows: {:,}'.format(ban_wor_pairs_fa_q3_jac_05.shape[0]))\n",
    "print('Reduction Ratio: {}%'.format(calcRedRatio(ban,wor,ban_wor_pairs_fa_q3_jac_05)))\n",
    "print('Pair Completeness: {}%'.format(calcPairCompISBN(matches_ban_wor,ban_wor_pairs_fa_q3_jac_05,'true_label')))\n",
    "\n",
    "print('\\n')\n",
    "print('Blocking based on first author, Jaccaed, 3-gram, Threshold 0.7')\n",
    "print('Evaluation of ban_wor_pairs_fa_q3_jac_07')\n",
    "print('Number of rows: {:,}'.format(ban_wor_pairs_fa_q3_jac_07.shape[0]))\n",
    "print('Reduction Ratio: {}%'.format(calcRedRatio(ban,wor,ban_wor_pairs_fa_q3_jac_07)))\n",
    "print('Pair Completeness: {}%'.format(calcPairCompISBN(matches_ban_wor,ban_wor_pairs_fa_q3_jac_07,'true_label')))\n",
    "\n",
    "print('\\n')\n",
    "print('Blocking based on first authors, Levenshtein of at most 5')\n",
    "print('Evaluation of ban_wor_pairs_fta_lev5, Levenshtein, at most 5')\n",
    "print('Number of rows: {:,}'.format(ban_wor_pairs_fa_lev5.shape[0]))\n",
    "print('Reduction Ratio: {}%'.format(calcRedRatio(ban,wor,ban_wor_pairs_fa_lev5)))\n",
    "print('Pair Completeness: {}%'.format(calcPairCompISBN(matches_ban_wor,ban_wor_pairs_fa_lev5,'true_label')))\n",
    "\n",
    "print('\\n')\n",
    "print('Blocking based on first two authors, Jaccaed, 3-gram, Threshold 0.3')\n",
    "print('Evaluation of ban_wor_pairs_fta_q3_jac_03')\n",
    "print('Number of rows: {:,}'.format(ban_wor_pairs_fta_q3_jac_03.shape[0]))\n",
    "print('Reduction Ratio: {}%'.format(calcRedRatio(ban,wor,ban_wor_pairs_fta_q3_jac_03)))\n",
    "print('Pair Completeness: {}%'.format(calcPairCompISBN(matches_ban_wor,ban_wor_pairs_fta_q3_jac_03,'true_label')))\n",
    "\n",
    "print('\\n')\n",
    "print('Blocking based on first two author, Jaccaed, 3-gram, Threshold 0.5')\n",
    "print('Evaluation of ban_wor_pairs_fta_q3_jac_05')\n",
    "print('Number of rows: {:,}'.format(ban_wor_pairs_fta_q3_jac_05.shape[0]))\n",
    "print('Reduction Ratio: {}%'.format(calcRedRatio(ban,wor,ban_wor_pairs_fta_q3_jac_05)))\n",
    "print('Pair Completeness: {}%'.format(calcPairCompISBN(matches_ban_wor,ban_wor_pairs_fta_q3_jac_05,'true_label')))\n",
    "\n",
    "print('\\n')\n",
    "print('Blocking based on first two author, Jaccaed, 3-gram, Threshold 0.7')\n",
    "print('Evaluation of ban_wor_pairs_fta_q3_jac_07')\n",
    "print('Number of rows: {:,}'.format(ban_wor_pairs_fta_q3_jac_07.shape[0]))\n",
    "print('Reduction Ratio: {}%'.format(calcRedRatio(ban,wor,ban_wor_pairs_fta_q3_jac_07)))\n",
    "print('Pair Completeness: {}%'.format(calcPairCompISBN(matches_ban_wor,ban_wor_pairs_fta_q3_jac_07,'true_label')))\n",
    "\n",
    "print('\\n')\n",
    "print('Blocking based on first authors, Levenshtein of at most 5')\n",
    "print('Evaluation of ban_wor_pairs_fta_lev5, Levenshtein, at most 5')\n",
    "print('Number of rows: {:,}'.format(ban_wor_pairs_fta_lev5.shape[0]))\n",
    "print('Reduction Ratio: {}%'.format(calcRedRatio(ban,wor,ban_wor_pairs_fta_lev5)))\n",
    "print('Pair Completeness: {}%'.format(calcPairCompISBN(matches_ban_wor,ban_wor_pairs_fta_lev5,'true_label')))\n",
    "\n",
    "print('\\n')\n",
    "print('Blocking based on title')\n",
    "print('Evaluation of ban_wor_pairs_tit_q3_jac_03 (Title, Jaccaed, 3-gram, Threshold 0.3)')\n",
    "print('Number of rows: {:,}'.format(ban_wor_pairs_tit_q3_jac_03.shape[0]))\n",
    "print('Reduction Ratio: {}%'.format(calcRedRatio(ban,wor,ban_wor_pairs_tit_q3_jac_03)))\n",
    "print('Pair Completeness: {}%'.format(calcPairCompISBN(matches_ban_wor,ban_wor_pairs_tit_q3_jac_03,'true_label')))\n",
    "\n",
    "print('\\n')\n",
    "print('Evaluation of ban_wor_pairs_titnp_q3_jac_03 (Title excluded text in parenthesis, Jaccard, 3-gram, Threshold 0.3)')\n",
    "print('Number of rows: {:,}'.format(ban_wor_pairs_titnp_q3_jac_03.shape[0]))\n",
    "print('Reduction Ratio: {}%'.format(calcRedRatio(ban,wor,ban_wor_pairs_titnp_q3_jac_03)))\n",
    "print('Pair Completeness: {}%'.format(calcPairCompISBN(matches_ban_wor,ban_wor_pairs_titnp_q3_jac_03,'true_label')))\n",
    "\n",
    "print('\\n')\n",
    "print('ban_wor_pairs_titnp_nosw_q3_jac_03 (Title excluded text in parenthesis and no stop words, Jaccard, 3-gram, Threshold 0.3)')\n",
    "print('Number of rows: {:,}'.format(ban_wor_pairs_titnp_nosw_q3_jac_03.shape[0]))\n",
    "print('Reduction Ratio: {}%'.format(calcRedRatio(ban,wor,ban_wor_pairs_titnp_nosw_q3_jac_03)))\n",
    "print('Pair Completeness: {}%'.format(calcPairCompISBN(matches_ban_wor,ban_wor_pairs_titnp_nosw_q3_jac_03,'true_label')))\n",
    "\n",
    "print('\\n')\n",
    "print('ban_wor_pairs_titnp_nosw_q3_jac_05 (Title excluded text in parenthesis and no stop words, Jaccard, 3-gram, Threshold 0.5)')\n",
    "print('Number of rows: {:,}'.format(ban_wor_pairs_titnp_nosw_q3_jac_05.shape[0]))\n",
    "print('Reduction Ratio: {}%'.format(calcRedRatio(ban,wor,ban_wor_pairs_titnp_nosw_q3_jac_05)))\n",
    "print('Pair Completeness: {}%'.format(calcPairCompISBN(matches_ban_wor,ban_wor_pairs_titnp_nosw_q3_jac_05,'true_label')))\n",
    "\n",
    "print('\\n')\n",
    "print('ban_wor_pairs_titnp_nosw_q3_jac_07 (Title excluded text in parenthesis and no stop words, Jaccard, 3-gram, Threshold 0.7)')\n",
    "print('Number of rows: {:,}'.format(ban_wor_pairs_titnp_nosw_q3_jac_07.shape[0]))\n",
    "print('Reduction Ratio: {}%'.format(calcRedRatio(ban,wor,ban_wor_pairs_titnp_nosw_q3_jac_07)))\n",
    "print('Pair Completeness: {}%'.format(calcPairCompISBN(matches_ban_wor,ban_wor_pairs_titnp_nosw_q3_jac_07,'true_label')))\n",
    "\n",
    "print('\\n')\n",
    "print('ban_wor_pairs_titnp_nosw_lev_5 (Title excluded text in parenthesis and no stop words with Levenshtein of at most 5)')\n",
    "print('Number of rows: {:,}'.format(ban_wor_pairs_titnp_nosw_lev_5.shape[0]))\n",
    "print('Reduction Ratio: {}%'.format(calcRedRatio(ban,wor,ban_wor_pairs_titnp_nosw_lev_5)))\n",
    "print('Pair Completeness: {}%'.format(calcPairCompISBN(matches_ban_wor,ban_wor_pairs_titnp_nosw_lev_5,'true_label')))"
   ]
  },
  {
   "cell_type": "markdown",
   "metadata": {},
   "source": [
    "-- Blocking based on Levenshtein performs significantly worse than Blocking on Jaccard distance with 3-gram tokens and blocking on title also performs worse compared to authors. Blocking on the firsttwoauthors performs best."
   ]
  },
  {
   "cell_type": "code",
   "execution_count": 49,
   "metadata": {},
   "outputs": [],
   "source": [
    "ban_wor_pairs_fta_q3_jac_03.to_csv('filtered_correspondences/ban_wor_pairs_fta_q3_jac_03.csv',index=False)"
   ]
  },
  {
   "cell_type": "code",
   "execution_count": 43,
   "metadata": {},
   "outputs": [],
   "source": [
    "matches_ban_wor.to_csv('matching_pairs/matches_ban_wor.csv',index=False)"
   ]
  }
 ],
 "metadata": {
  "kernelspec": {
   "display_name": "Python [conda env:mag]",
   "language": "python",
   "name": "conda-env-mag-py"
  },
  "language_info": {
   "codemirror_mode": {
    "name": "ipython",
    "version": 3
   },
   "file_extension": ".py",
   "mimetype": "text/x-python",
   "name": "python",
   "nbconvert_exporter": "python",
   "pygments_lexer": "ipython3",
   "version": "3.6.10"
  },
  "varInspector": {
   "cols": {
    "lenName": 16,
    "lenType": 16,
    "lenVar": 40
   },
   "kernels_config": {
    "python": {
     "delete_cmd_postfix": "",
     "delete_cmd_prefix": "del ",
     "library": "var_list.py",
     "varRefreshCmd": "print(var_dic_list())"
    },
    "r": {
     "delete_cmd_postfix": ") ",
     "delete_cmd_prefix": "rm(",
     "library": "var_list.r",
     "varRefreshCmd": "cat(var_dic_list()) "
    }
   },
   "types_to_exclude": [
    "module",
    "function",
    "builtin_function_or_method",
    "instance",
    "_Feature"
   ],
   "window_display": false
  }
 },
 "nbformat": 4,
 "nbformat_minor": 2
}
